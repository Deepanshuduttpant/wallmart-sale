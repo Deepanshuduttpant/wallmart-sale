{
  "cells": [
    {
      "cell_type": "code",
      "execution_count": 11,
      "metadata": {
        "id": "hctGnWyMrDPX"
      },
      "outputs": [],
      "source": [
        "import pandas as pd \n",
        "import numpy as np\n",
        "import plotly.express as px"
      ]
    },
    {
      "cell_type": "code",
      "execution_count": 12,
      "metadata": {
        "id": "tP8Il3yOrE6q"
      },
      "outputs": [],
      "source": [
        "df1 = pd.read_csv('/content/Walmart.csv')"
      ]
    },
    {
      "cell_type": "markdown",
      "metadata": {
        "id": "6iRJgitArSMk"
      },
      "source": [
        "# Basic level analysis"
      ]
    },
    {
      "cell_type": "code",
      "execution_count": 13,
      "metadata": {
        "id": "HF3gToc2rPeM",
        "colab": {
          "base_uri": "https://localhost:8080/",
          "height": 354
        },
        "outputId": "020012c2-a119-4312-d726-586ec7afbd79"
      },
      "outputs": [
        {
          "output_type": "execute_result",
          "data": {
            "text/plain": [
              "         Order ID  Order Date   Ship Date    Customer Name        Country  \\\n",
              "0  CA-2013-138688  13-06-2013  17-06-2013  Darrin Van Huff  United States   \n",
              "1  CA-2011-115812  09-06-2011  14-06-2011  Brosina Hoffman  United States   \n",
              "2  CA-2011-115812  09-06-2011  14-06-2011  Brosina Hoffman  United States   \n",
              "3  CA-2011-115812  09-06-2011  14-06-2011  Brosina Hoffman  United States   \n",
              "4  CA-2011-115812  09-06-2011  14-06-2011  Brosina Hoffman  United States   \n",
              "\n",
              "          City       State     Category  \\\n",
              "0  Los Angeles  California       Labels   \n",
              "1  Los Angeles  California  Furnishings   \n",
              "2  Los Angeles  California          Art   \n",
              "3  Los Angeles  California       Phones   \n",
              "4  Los Angeles  California      Binders   \n",
              "\n",
              "                                        Product Name   Sales  Quantity  Profit  \n",
              "0  Self-Adhesive Address Labels for Typewriters b...   14.62       2.0    6.87  \n",
              "1  Eldon Expressions Wood and Plastic Desk Access...   48.86       7.0   14.17  \n",
              "2                                         Newell 322    7.28       4.0    1.97  \n",
              "3                     Mitel 5320 IP Phone VoIP phone  907.15       4.0   90.72  \n",
              "4  DXL Angle-View Binders with Locking Rings by S...   18.50       3.0    5.78  "
            ],
            "text/html": [
              "\n",
              "  <div id=\"df-e9fa4f7c-0fe2-4a75-b2ed-8a52193c2bdb\">\n",
              "    <div class=\"colab-df-container\">\n",
              "      <div>\n",
              "<style scoped>\n",
              "    .dataframe tbody tr th:only-of-type {\n",
              "        vertical-align: middle;\n",
              "    }\n",
              "\n",
              "    .dataframe tbody tr th {\n",
              "        vertical-align: top;\n",
              "    }\n",
              "\n",
              "    .dataframe thead th {\n",
              "        text-align: right;\n",
              "    }\n",
              "</style>\n",
              "<table border=\"1\" class=\"dataframe\">\n",
              "  <thead>\n",
              "    <tr style=\"text-align: right;\">\n",
              "      <th></th>\n",
              "      <th>Order ID</th>\n",
              "      <th>Order Date</th>\n",
              "      <th>Ship Date</th>\n",
              "      <th>Customer Name</th>\n",
              "      <th>Country</th>\n",
              "      <th>City</th>\n",
              "      <th>State</th>\n",
              "      <th>Category</th>\n",
              "      <th>Product Name</th>\n",
              "      <th>Sales</th>\n",
              "      <th>Quantity</th>\n",
              "      <th>Profit</th>\n",
              "    </tr>\n",
              "  </thead>\n",
              "  <tbody>\n",
              "    <tr>\n",
              "      <th>0</th>\n",
              "      <td>CA-2013-138688</td>\n",
              "      <td>13-06-2013</td>\n",
              "      <td>17-06-2013</td>\n",
              "      <td>Darrin Van Huff</td>\n",
              "      <td>United States</td>\n",
              "      <td>Los Angeles</td>\n",
              "      <td>California</td>\n",
              "      <td>Labels</td>\n",
              "      <td>Self-Adhesive Address Labels for Typewriters b...</td>\n",
              "      <td>14.62</td>\n",
              "      <td>2.0</td>\n",
              "      <td>6.87</td>\n",
              "    </tr>\n",
              "    <tr>\n",
              "      <th>1</th>\n",
              "      <td>CA-2011-115812</td>\n",
              "      <td>09-06-2011</td>\n",
              "      <td>14-06-2011</td>\n",
              "      <td>Brosina Hoffman</td>\n",
              "      <td>United States</td>\n",
              "      <td>Los Angeles</td>\n",
              "      <td>California</td>\n",
              "      <td>Furnishings</td>\n",
              "      <td>Eldon Expressions Wood and Plastic Desk Access...</td>\n",
              "      <td>48.86</td>\n",
              "      <td>7.0</td>\n",
              "      <td>14.17</td>\n",
              "    </tr>\n",
              "    <tr>\n",
              "      <th>2</th>\n",
              "      <td>CA-2011-115812</td>\n",
              "      <td>09-06-2011</td>\n",
              "      <td>14-06-2011</td>\n",
              "      <td>Brosina Hoffman</td>\n",
              "      <td>United States</td>\n",
              "      <td>Los Angeles</td>\n",
              "      <td>California</td>\n",
              "      <td>Art</td>\n",
              "      <td>Newell 322</td>\n",
              "      <td>7.28</td>\n",
              "      <td>4.0</td>\n",
              "      <td>1.97</td>\n",
              "    </tr>\n",
              "    <tr>\n",
              "      <th>3</th>\n",
              "      <td>CA-2011-115812</td>\n",
              "      <td>09-06-2011</td>\n",
              "      <td>14-06-2011</td>\n",
              "      <td>Brosina Hoffman</td>\n",
              "      <td>United States</td>\n",
              "      <td>Los Angeles</td>\n",
              "      <td>California</td>\n",
              "      <td>Phones</td>\n",
              "      <td>Mitel 5320 IP Phone VoIP phone</td>\n",
              "      <td>907.15</td>\n",
              "      <td>4.0</td>\n",
              "      <td>90.72</td>\n",
              "    </tr>\n",
              "    <tr>\n",
              "      <th>4</th>\n",
              "      <td>CA-2011-115812</td>\n",
              "      <td>09-06-2011</td>\n",
              "      <td>14-06-2011</td>\n",
              "      <td>Brosina Hoffman</td>\n",
              "      <td>United States</td>\n",
              "      <td>Los Angeles</td>\n",
              "      <td>California</td>\n",
              "      <td>Binders</td>\n",
              "      <td>DXL Angle-View Binders with Locking Rings by S...</td>\n",
              "      <td>18.50</td>\n",
              "      <td>3.0</td>\n",
              "      <td>5.78</td>\n",
              "    </tr>\n",
              "  </tbody>\n",
              "</table>\n",
              "</div>\n",
              "      <button class=\"colab-df-convert\" onclick=\"convertToInteractive('df-e9fa4f7c-0fe2-4a75-b2ed-8a52193c2bdb')\"\n",
              "              title=\"Convert this dataframe to an interactive table.\"\n",
              "              style=\"display:none;\">\n",
              "        \n",
              "  <svg xmlns=\"http://www.w3.org/2000/svg\" height=\"24px\"viewBox=\"0 0 24 24\"\n",
              "       width=\"24px\">\n",
              "    <path d=\"M0 0h24v24H0V0z\" fill=\"none\"/>\n",
              "    <path d=\"M18.56 5.44l.94 2.06.94-2.06 2.06-.94-2.06-.94-.94-2.06-.94 2.06-2.06.94zm-11 1L8.5 8.5l.94-2.06 2.06-.94-2.06-.94L8.5 2.5l-.94 2.06-2.06.94zm10 10l.94 2.06.94-2.06 2.06-.94-2.06-.94-.94-2.06-.94 2.06-2.06.94z\"/><path d=\"M17.41 7.96l-1.37-1.37c-.4-.4-.92-.59-1.43-.59-.52 0-1.04.2-1.43.59L10.3 9.45l-7.72 7.72c-.78.78-.78 2.05 0 2.83L4 21.41c.39.39.9.59 1.41.59.51 0 1.02-.2 1.41-.59l7.78-7.78 2.81-2.81c.8-.78.8-2.07 0-2.86zM5.41 20L4 18.59l7.72-7.72 1.47 1.35L5.41 20z\"/>\n",
              "  </svg>\n",
              "      </button>\n",
              "      \n",
              "  <style>\n",
              "    .colab-df-container {\n",
              "      display:flex;\n",
              "      flex-wrap:wrap;\n",
              "      gap: 12px;\n",
              "    }\n",
              "\n",
              "    .colab-df-convert {\n",
              "      background-color: #E8F0FE;\n",
              "      border: none;\n",
              "      border-radius: 50%;\n",
              "      cursor: pointer;\n",
              "      display: none;\n",
              "      fill: #1967D2;\n",
              "      height: 32px;\n",
              "      padding: 0 0 0 0;\n",
              "      width: 32px;\n",
              "    }\n",
              "\n",
              "    .colab-df-convert:hover {\n",
              "      background-color: #E2EBFA;\n",
              "      box-shadow: 0px 1px 2px rgba(60, 64, 67, 0.3), 0px 1px 3px 1px rgba(60, 64, 67, 0.15);\n",
              "      fill: #174EA6;\n",
              "    }\n",
              "\n",
              "    [theme=dark] .colab-df-convert {\n",
              "      background-color: #3B4455;\n",
              "      fill: #D2E3FC;\n",
              "    }\n",
              "\n",
              "    [theme=dark] .colab-df-convert:hover {\n",
              "      background-color: #434B5C;\n",
              "      box-shadow: 0px 1px 3px 1px rgba(0, 0, 0, 0.15);\n",
              "      filter: drop-shadow(0px 1px 2px rgba(0, 0, 0, 0.3));\n",
              "      fill: #FFFFFF;\n",
              "    }\n",
              "  </style>\n",
              "\n",
              "      <script>\n",
              "        const buttonEl =\n",
              "          document.querySelector('#df-e9fa4f7c-0fe2-4a75-b2ed-8a52193c2bdb button.colab-df-convert');\n",
              "        buttonEl.style.display =\n",
              "          google.colab.kernel.accessAllowed ? 'block' : 'none';\n",
              "\n",
              "        async function convertToInteractive(key) {\n",
              "          const element = document.querySelector('#df-e9fa4f7c-0fe2-4a75-b2ed-8a52193c2bdb');\n",
              "          const dataTable =\n",
              "            await google.colab.kernel.invokeFunction('convertToInteractive',\n",
              "                                                     [key], {});\n",
              "          if (!dataTable) return;\n",
              "\n",
              "          const docLinkHtml = 'Like what you see? Visit the ' +\n",
              "            '<a target=\"_blank\" href=https://colab.research.google.com/notebooks/data_table.ipynb>data table notebook</a>'\n",
              "            + ' to learn more about interactive tables.';\n",
              "          element.innerHTML = '';\n",
              "          dataTable['output_type'] = 'display_data';\n",
              "          await google.colab.output.renderOutput(dataTable, element);\n",
              "          const docLink = document.createElement('div');\n",
              "          docLink.innerHTML = docLinkHtml;\n",
              "          element.appendChild(docLink);\n",
              "        }\n",
              "      </script>\n",
              "    </div>\n",
              "  </div>\n",
              "  "
            ]
          },
          "metadata": {},
          "execution_count": 13
        }
      ],
      "source": [
        "df1.head() "
      ]
    },
    {
      "cell_type": "markdown",
      "metadata": {
        "id": "RY06QiRkv5qR"
      },
      "source": [
        "to see the total no of rows and columns"
      ]
    },
    {
      "cell_type": "code",
      "execution_count": 14,
      "metadata": {
        "colab": {
          "base_uri": "https://localhost:8080/"
        },
        "id": "BW0fyxLWramC",
        "outputId": "c2591581-f1aa-4a12-e159-21e0c75e9244"
      },
      "outputs": [
        {
          "output_type": "execute_result",
          "data": {
            "text/plain": [
              "(3203, 12)"
            ]
          },
          "metadata": {},
          "execution_count": 14
        }
      ],
      "source": [
        "df1.shape"
      ]
    },
    {
      "cell_type": "markdown",
      "metadata": {
        "id": "4cShjYjCwCRm"
      },
      "source": [
        "to see the names of the columns"
      ]
    },
    {
      "cell_type": "code",
      "execution_count": 15,
      "metadata": {
        "id": "UCFJ3XVLwACK",
        "colab": {
          "base_uri": "https://localhost:8080/"
        },
        "outputId": "0db758d0-08f6-4c80-9c5e-d180a964c3b6"
      },
      "outputs": [
        {
          "output_type": "execute_result",
          "data": {
            "text/plain": [
              "['Order ID',\n",
              " 'Order Date',\n",
              " 'Ship Date',\n",
              " 'Customer Name',\n",
              " 'Country',\n",
              " 'City',\n",
              " 'State',\n",
              " 'Category',\n",
              " 'Product Name',\n",
              " 'Sales',\n",
              " 'Quantity',\n",
              " 'Profit']"
            ]
          },
          "metadata": {},
          "execution_count": 15
        }
      ],
      "source": [
        "list(df1.columns)"
      ]
    },
    {
      "cell_type": "code",
      "execution_count": 16,
      "metadata": {
        "id": "Tt7wG_BWwJtY",
        "colab": {
          "base_uri": "https://localhost:8080/"
        },
        "outputId": "1ab39097-a215-4b9c-fac7-8b544923cb6f"
      },
      "outputs": [
        {
          "output_type": "stream",
          "name": "stdout",
          "text": [
            "<class 'pandas.core.frame.DataFrame'>\n",
            "RangeIndex: 3203 entries, 0 to 3202\n",
            "Data columns (total 12 columns):\n",
            " #   Column         Non-Null Count  Dtype  \n",
            "---  ------         --------------  -----  \n",
            " 0   Order ID       3203 non-null   object \n",
            " 1   Order Date     3203 non-null   object \n",
            " 2   Ship Date      3203 non-null   object \n",
            " 3   Customer Name  3203 non-null   object \n",
            " 4   Country        3203 non-null   object \n",
            " 5   City           3203 non-null   object \n",
            " 6   State          3203 non-null   object \n",
            " 7   Category       3203 non-null   object \n",
            " 8   Product Name   3203 non-null   object \n",
            " 9   Sales          3203 non-null   float64\n",
            " 10  Quantity       3203 non-null   float64\n",
            " 11  Profit         3203 non-null   float64\n",
            "dtypes: float64(3), object(9)\n",
            "memory usage: 300.4+ KB\n"
          ]
        }
      ],
      "source": [
        "df1.info()"
      ]
    },
    {
      "cell_type": "markdown",
      "metadata": {
        "id": "Hq4fxEi8eoCe"
      },
      "source": [
        "to see the null values "
      ]
    },
    {
      "cell_type": "code",
      "execution_count": 17,
      "metadata": {
        "id": "q0PQmZJMw-qQ",
        "colab": {
          "base_uri": "https://localhost:8080/"
        },
        "outputId": "8b888dc8-7711-4c18-a8d4-53514124e5fe"
      },
      "outputs": [
        {
          "output_type": "execute_result",
          "data": {
            "text/plain": [
              "Order ID         0\n",
              "Order Date       0\n",
              "Ship Date        0\n",
              "Customer Name    0\n",
              "Country          0\n",
              "City             0\n",
              "State            0\n",
              "Category         0\n",
              "Product Name     0\n",
              "Sales            0\n",
              "Quantity         0\n",
              "Profit           0\n",
              "dtype: int64"
            ]
          },
          "metadata": {},
          "execution_count": 17
        }
      ],
      "source": [
        "df1.isna().sum()"
      ]
    },
    {
      "cell_type": "code",
      "execution_count": 18,
      "metadata": {
        "id": "s3RJmaFnxYcS",
        "colab": {
          "base_uri": "https://localhost:8080/"
        },
        "outputId": "88f2a3a6-b0db-4020-9252-8d573b0cb716"
      },
      "outputs": [
        {
          "output_type": "execute_result",
          "data": {
            "text/plain": [
              "Order ID         1611\n",
              "Order Date        845\n",
              "Ship Date         911\n",
              "Customer Name     686\n",
              "Country             1\n",
              "City              169\n",
              "State              11\n",
              "Category           17\n",
              "Product Name     1494\n",
              "Sales            2295\n",
              "Quantity           14\n",
              "Profit           2164\n",
              "dtype: int64"
            ]
          },
          "metadata": {},
          "execution_count": 18
        }
      ],
      "source": [
        "df1.nunique()"
      ]
    },
    {
      "cell_type": "markdown",
      "metadata": {
        "id": "_7WC_VVFeu_X"
      },
      "source": [
        "converting order date and ship date datatype to datetime "
      ]
    },
    {
      "cell_type": "code",
      "execution_count": 19,
      "metadata": {
        "colab": {
          "base_uri": "https://localhost:8080/"
        },
        "id": "49NPJgpRxw7P",
        "outputId": "dc183802-f612-48fe-f46b-b726a2039bda"
      },
      "outputs": [
        {
          "output_type": "stream",
          "name": "stderr",
          "text": [
            "<ipython-input-19-a7fea54ccc0d>:1: UserWarning: Parsing dates in DD/MM/YYYY format when dayfirst=False (the default) was specified. This may lead to inconsistently parsed dates! Specify a format to ensure consistent parsing.\n",
            "  df1['Order Date'] = pd.to_datetime(df1['Order Date'])\n",
            "<ipython-input-19-a7fea54ccc0d>:2: UserWarning: Parsing dates in DD/MM/YYYY format when dayfirst=False (the default) was specified. This may lead to inconsistently parsed dates! Specify a format to ensure consistent parsing.\n",
            "  df1['Ship Date'] = pd.to_datetime(df1['Ship Date'])\n"
          ]
        }
      ],
      "source": [
        "df1['Order Date'] = pd.to_datetime(df1['Order Date'])\n",
        "df1['Ship Date'] = pd.to_datetime(df1['Ship Date'])"
      ]
    },
    {
      "cell_type": "markdown",
      "metadata": {
        "id": "C1NJt_2IfJ22"
      },
      "source": [
        "Extracting month and year column from order date"
      ]
    },
    {
      "cell_type": "code",
      "execution_count": 20,
      "metadata": {
        "id": "tWVysczT8RwA"
      },
      "outputs": [],
      "source": [
        "df1['Month'] = df1['Order Date'].dt.month\n",
        "df1['Year'] = df1['Order Date'].dt.year"
      ]
    },
    {
      "cell_type": "markdown",
      "metadata": {
        "id": "_yD5fD4_fUnN"
      },
      "source": [
        "Adding some more columns in our DataFrame "
      ]
    },
    {
      "cell_type": "code",
      "execution_count": 21,
      "metadata": {
        "id": "VqrNGuKMA6yY"
      },
      "outputs": [],
      "source": [
        "df1['Cost'] = df1['Sales']-df1['Profit']"
      ]
    },
    {
      "cell_type": "code",
      "execution_count": 22,
      "metadata": {
        "id": "91Rbk8baBjoj"
      },
      "outputs": [],
      "source": [
        "df1['Cost/Unit'] = df1['Cost']/df1['Quantity']\n",
        "df1['Price'] = df1['Sales']/df1['Quantity']\n",
        "df1['Profit/Unit'] = df1['Profit']/df1['Quantity']"
      ]
    },
    {
      "cell_type": "code",
      "execution_count": 23,
      "metadata": {
        "id": "sSMqHf6g9ZaA",
        "colab": {
          "base_uri": "https://localhost:8080/",
          "height": 249
        },
        "outputId": "b7cd1817-7662-46db-b777-daeeeeddb871"
      },
      "outputs": [
        {
          "output_type": "execute_result",
          "data": {
            "text/plain": [
              "         Order ID Order Date  Ship Date    Customer Name        Country  \\\n",
              "0  CA-2013-138688 2013-06-13 2013-06-17  Darrin Van Huff  United States   \n",
              "\n",
              "          City       State Category  \\\n",
              "0  Los Angeles  California   Labels   \n",
              "\n",
              "                                        Product Name  Sales  Quantity  Profit  \\\n",
              "0  Self-Adhesive Address Labels for Typewriters b...  14.62       2.0    6.87   \n",
              "\n",
              "   Month  Year  Cost  Cost/Unit  Price  Profit/Unit  \n",
              "0      6  2013  7.75      3.875   7.31        3.435  "
            ],
            "text/html": [
              "\n",
              "  <div id=\"df-1cd66457-b1bf-492a-be0f-cba01873c6cf\">\n",
              "    <div class=\"colab-df-container\">\n",
              "      <div>\n",
              "<style scoped>\n",
              "    .dataframe tbody tr th:only-of-type {\n",
              "        vertical-align: middle;\n",
              "    }\n",
              "\n",
              "    .dataframe tbody tr th {\n",
              "        vertical-align: top;\n",
              "    }\n",
              "\n",
              "    .dataframe thead th {\n",
              "        text-align: right;\n",
              "    }\n",
              "</style>\n",
              "<table border=\"1\" class=\"dataframe\">\n",
              "  <thead>\n",
              "    <tr style=\"text-align: right;\">\n",
              "      <th></th>\n",
              "      <th>Order ID</th>\n",
              "      <th>Order Date</th>\n",
              "      <th>Ship Date</th>\n",
              "      <th>Customer Name</th>\n",
              "      <th>Country</th>\n",
              "      <th>City</th>\n",
              "      <th>State</th>\n",
              "      <th>Category</th>\n",
              "      <th>Product Name</th>\n",
              "      <th>Sales</th>\n",
              "      <th>Quantity</th>\n",
              "      <th>Profit</th>\n",
              "      <th>Month</th>\n",
              "      <th>Year</th>\n",
              "      <th>Cost</th>\n",
              "      <th>Cost/Unit</th>\n",
              "      <th>Price</th>\n",
              "      <th>Profit/Unit</th>\n",
              "    </tr>\n",
              "  </thead>\n",
              "  <tbody>\n",
              "    <tr>\n",
              "      <th>0</th>\n",
              "      <td>CA-2013-138688</td>\n",
              "      <td>2013-06-13</td>\n",
              "      <td>2013-06-17</td>\n",
              "      <td>Darrin Van Huff</td>\n",
              "      <td>United States</td>\n",
              "      <td>Los Angeles</td>\n",
              "      <td>California</td>\n",
              "      <td>Labels</td>\n",
              "      <td>Self-Adhesive Address Labels for Typewriters b...</td>\n",
              "      <td>14.62</td>\n",
              "      <td>2.0</td>\n",
              "      <td>6.87</td>\n",
              "      <td>6</td>\n",
              "      <td>2013</td>\n",
              "      <td>7.75</td>\n",
              "      <td>3.875</td>\n",
              "      <td>7.31</td>\n",
              "      <td>3.435</td>\n",
              "    </tr>\n",
              "  </tbody>\n",
              "</table>\n",
              "</div>\n",
              "      <button class=\"colab-df-convert\" onclick=\"convertToInteractive('df-1cd66457-b1bf-492a-be0f-cba01873c6cf')\"\n",
              "              title=\"Convert this dataframe to an interactive table.\"\n",
              "              style=\"display:none;\">\n",
              "        \n",
              "  <svg xmlns=\"http://www.w3.org/2000/svg\" height=\"24px\"viewBox=\"0 0 24 24\"\n",
              "       width=\"24px\">\n",
              "    <path d=\"M0 0h24v24H0V0z\" fill=\"none\"/>\n",
              "    <path d=\"M18.56 5.44l.94 2.06.94-2.06 2.06-.94-2.06-.94-.94-2.06-.94 2.06-2.06.94zm-11 1L8.5 8.5l.94-2.06 2.06-.94-2.06-.94L8.5 2.5l-.94 2.06-2.06.94zm10 10l.94 2.06.94-2.06 2.06-.94-2.06-.94-.94-2.06-.94 2.06-2.06.94z\"/><path d=\"M17.41 7.96l-1.37-1.37c-.4-.4-.92-.59-1.43-.59-.52 0-1.04.2-1.43.59L10.3 9.45l-7.72 7.72c-.78.78-.78 2.05 0 2.83L4 21.41c.39.39.9.59 1.41.59.51 0 1.02-.2 1.41-.59l7.78-7.78 2.81-2.81c.8-.78.8-2.07 0-2.86zM5.41 20L4 18.59l7.72-7.72 1.47 1.35L5.41 20z\"/>\n",
              "  </svg>\n",
              "      </button>\n",
              "      \n",
              "  <style>\n",
              "    .colab-df-container {\n",
              "      display:flex;\n",
              "      flex-wrap:wrap;\n",
              "      gap: 12px;\n",
              "    }\n",
              "\n",
              "    .colab-df-convert {\n",
              "      background-color: #E8F0FE;\n",
              "      border: none;\n",
              "      border-radius: 50%;\n",
              "      cursor: pointer;\n",
              "      display: none;\n",
              "      fill: #1967D2;\n",
              "      height: 32px;\n",
              "      padding: 0 0 0 0;\n",
              "      width: 32px;\n",
              "    }\n",
              "\n",
              "    .colab-df-convert:hover {\n",
              "      background-color: #E2EBFA;\n",
              "      box-shadow: 0px 1px 2px rgba(60, 64, 67, 0.3), 0px 1px 3px 1px rgba(60, 64, 67, 0.15);\n",
              "      fill: #174EA6;\n",
              "    }\n",
              "\n",
              "    [theme=dark] .colab-df-convert {\n",
              "      background-color: #3B4455;\n",
              "      fill: #D2E3FC;\n",
              "    }\n",
              "\n",
              "    [theme=dark] .colab-df-convert:hover {\n",
              "      background-color: #434B5C;\n",
              "      box-shadow: 0px 1px 3px 1px rgba(0, 0, 0, 0.15);\n",
              "      filter: drop-shadow(0px 1px 2px rgba(0, 0, 0, 0.3));\n",
              "      fill: #FFFFFF;\n",
              "    }\n",
              "  </style>\n",
              "\n",
              "      <script>\n",
              "        const buttonEl =\n",
              "          document.querySelector('#df-1cd66457-b1bf-492a-be0f-cba01873c6cf button.colab-df-convert');\n",
              "        buttonEl.style.display =\n",
              "          google.colab.kernel.accessAllowed ? 'block' : 'none';\n",
              "\n",
              "        async function convertToInteractive(key) {\n",
              "          const element = document.querySelector('#df-1cd66457-b1bf-492a-be0f-cba01873c6cf');\n",
              "          const dataTable =\n",
              "            await google.colab.kernel.invokeFunction('convertToInteractive',\n",
              "                                                     [key], {});\n",
              "          if (!dataTable) return;\n",
              "\n",
              "          const docLinkHtml = 'Like what you see? Visit the ' +\n",
              "            '<a target=\"_blank\" href=https://colab.research.google.com/notebooks/data_table.ipynb>data table notebook</a>'\n",
              "            + ' to learn more about interactive tables.';\n",
              "          element.innerHTML = '';\n",
              "          dataTable['output_type'] = 'display_data';\n",
              "          await google.colab.output.renderOutput(dataTable, element);\n",
              "          const docLink = document.createElement('div');\n",
              "          docLink.innerHTML = docLinkHtml;\n",
              "          element.appendChild(docLink);\n",
              "        }\n",
              "      </script>\n",
              "    </div>\n",
              "  </div>\n",
              "  "
            ]
          },
          "metadata": {},
          "execution_count": 23
        }
      ],
      "source": [
        "df1.head(1)"
      ]
    },
    {
      "cell_type": "markdown",
      "metadata": {
        "id": "3K9G-QW3fjLT"
      },
      "source": [
        "setting the columns in our dataframe according to our convenience"
      ]
    },
    {
      "cell_type": "code",
      "execution_count": 24,
      "metadata": {
        "id": "5Rv2z6IQ9xiG"
      },
      "outputs": [],
      "source": [
        " df = df1.reindex(columns = ['Order ID',\t'Order Date',\t'Month',\t'Year'\t,'Ship Date',\t'Customer Name',\t'Country',\t'City',\t'State',\t'Category',\t'Product Name','Quantity','Cost','Sales','Profit','Cost/Unit','Price','Profit/Unit'])"
      ]
    },
    {
      "cell_type": "code",
      "execution_count": 25,
      "metadata": {
        "id": "mn7GGGmW_zfg",
        "colab": {
          "base_uri": "https://localhost:8080/",
          "height": 367
        },
        "outputId": "271e9a1f-e204-4ee2-b17d-10f351e04abf"
      },
      "outputs": [
        {
          "output_type": "execute_result",
          "data": {
            "text/plain": [
              "         Order ID Order Date  Month  Year  Ship Date    Customer Name  \\\n",
              "0  CA-2013-138688 2013-06-13      6  2013 2013-06-17  Darrin Van Huff   \n",
              "1  CA-2011-115812 2011-09-06      9  2011 2011-06-14  Brosina Hoffman   \n",
              "\n",
              "         Country         City       State     Category  \\\n",
              "0  United States  Los Angeles  California       Labels   \n",
              "1  United States  Los Angeles  California  Furnishings   \n",
              "\n",
              "                                        Product Name  Quantity   Cost  Sales  \\\n",
              "0  Self-Adhesive Address Labels for Typewriters b...       2.0   7.75  14.62   \n",
              "1  Eldon Expressions Wood and Plastic Desk Access...       7.0  34.69  48.86   \n",
              "\n",
              "   Profit  Cost/Unit  Price  Profit/Unit  \n",
              "0    6.87   3.875000   7.31     3.435000  \n",
              "1   14.17   4.955714   6.98     2.024286  "
            ],
            "text/html": [
              "\n",
              "  <div id=\"df-4d55e6f1-ac30-47e4-aecd-7aecbd7903dc\">\n",
              "    <div class=\"colab-df-container\">\n",
              "      <div>\n",
              "<style scoped>\n",
              "    .dataframe tbody tr th:only-of-type {\n",
              "        vertical-align: middle;\n",
              "    }\n",
              "\n",
              "    .dataframe tbody tr th {\n",
              "        vertical-align: top;\n",
              "    }\n",
              "\n",
              "    .dataframe thead th {\n",
              "        text-align: right;\n",
              "    }\n",
              "</style>\n",
              "<table border=\"1\" class=\"dataframe\">\n",
              "  <thead>\n",
              "    <tr style=\"text-align: right;\">\n",
              "      <th></th>\n",
              "      <th>Order ID</th>\n",
              "      <th>Order Date</th>\n",
              "      <th>Month</th>\n",
              "      <th>Year</th>\n",
              "      <th>Ship Date</th>\n",
              "      <th>Customer Name</th>\n",
              "      <th>Country</th>\n",
              "      <th>City</th>\n",
              "      <th>State</th>\n",
              "      <th>Category</th>\n",
              "      <th>Product Name</th>\n",
              "      <th>Quantity</th>\n",
              "      <th>Cost</th>\n",
              "      <th>Sales</th>\n",
              "      <th>Profit</th>\n",
              "      <th>Cost/Unit</th>\n",
              "      <th>Price</th>\n",
              "      <th>Profit/Unit</th>\n",
              "    </tr>\n",
              "  </thead>\n",
              "  <tbody>\n",
              "    <tr>\n",
              "      <th>0</th>\n",
              "      <td>CA-2013-138688</td>\n",
              "      <td>2013-06-13</td>\n",
              "      <td>6</td>\n",
              "      <td>2013</td>\n",
              "      <td>2013-06-17</td>\n",
              "      <td>Darrin Van Huff</td>\n",
              "      <td>United States</td>\n",
              "      <td>Los Angeles</td>\n",
              "      <td>California</td>\n",
              "      <td>Labels</td>\n",
              "      <td>Self-Adhesive Address Labels for Typewriters b...</td>\n",
              "      <td>2.0</td>\n",
              "      <td>7.75</td>\n",
              "      <td>14.62</td>\n",
              "      <td>6.87</td>\n",
              "      <td>3.875000</td>\n",
              "      <td>7.31</td>\n",
              "      <td>3.435000</td>\n",
              "    </tr>\n",
              "    <tr>\n",
              "      <th>1</th>\n",
              "      <td>CA-2011-115812</td>\n",
              "      <td>2011-09-06</td>\n",
              "      <td>9</td>\n",
              "      <td>2011</td>\n",
              "      <td>2011-06-14</td>\n",
              "      <td>Brosina Hoffman</td>\n",
              "      <td>United States</td>\n",
              "      <td>Los Angeles</td>\n",
              "      <td>California</td>\n",
              "      <td>Furnishings</td>\n",
              "      <td>Eldon Expressions Wood and Plastic Desk Access...</td>\n",
              "      <td>7.0</td>\n",
              "      <td>34.69</td>\n",
              "      <td>48.86</td>\n",
              "      <td>14.17</td>\n",
              "      <td>4.955714</td>\n",
              "      <td>6.98</td>\n",
              "      <td>2.024286</td>\n",
              "    </tr>\n",
              "  </tbody>\n",
              "</table>\n",
              "</div>\n",
              "      <button class=\"colab-df-convert\" onclick=\"convertToInteractive('df-4d55e6f1-ac30-47e4-aecd-7aecbd7903dc')\"\n",
              "              title=\"Convert this dataframe to an interactive table.\"\n",
              "              style=\"display:none;\">\n",
              "        \n",
              "  <svg xmlns=\"http://www.w3.org/2000/svg\" height=\"24px\"viewBox=\"0 0 24 24\"\n",
              "       width=\"24px\">\n",
              "    <path d=\"M0 0h24v24H0V0z\" fill=\"none\"/>\n",
              "    <path d=\"M18.56 5.44l.94 2.06.94-2.06 2.06-.94-2.06-.94-.94-2.06-.94 2.06-2.06.94zm-11 1L8.5 8.5l.94-2.06 2.06-.94-2.06-.94L8.5 2.5l-.94 2.06-2.06.94zm10 10l.94 2.06.94-2.06 2.06-.94-2.06-.94-.94-2.06-.94 2.06-2.06.94z\"/><path d=\"M17.41 7.96l-1.37-1.37c-.4-.4-.92-.59-1.43-.59-.52 0-1.04.2-1.43.59L10.3 9.45l-7.72 7.72c-.78.78-.78 2.05 0 2.83L4 21.41c.39.39.9.59 1.41.59.51 0 1.02-.2 1.41-.59l7.78-7.78 2.81-2.81c.8-.78.8-2.07 0-2.86zM5.41 20L4 18.59l7.72-7.72 1.47 1.35L5.41 20z\"/>\n",
              "  </svg>\n",
              "      </button>\n",
              "      \n",
              "  <style>\n",
              "    .colab-df-container {\n",
              "      display:flex;\n",
              "      flex-wrap:wrap;\n",
              "      gap: 12px;\n",
              "    }\n",
              "\n",
              "    .colab-df-convert {\n",
              "      background-color: #E8F0FE;\n",
              "      border: none;\n",
              "      border-radius: 50%;\n",
              "      cursor: pointer;\n",
              "      display: none;\n",
              "      fill: #1967D2;\n",
              "      height: 32px;\n",
              "      padding: 0 0 0 0;\n",
              "      width: 32px;\n",
              "    }\n",
              "\n",
              "    .colab-df-convert:hover {\n",
              "      background-color: #E2EBFA;\n",
              "      box-shadow: 0px 1px 2px rgba(60, 64, 67, 0.3), 0px 1px 3px 1px rgba(60, 64, 67, 0.15);\n",
              "      fill: #174EA6;\n",
              "    }\n",
              "\n",
              "    [theme=dark] .colab-df-convert {\n",
              "      background-color: #3B4455;\n",
              "      fill: #D2E3FC;\n",
              "    }\n",
              "\n",
              "    [theme=dark] .colab-df-convert:hover {\n",
              "      background-color: #434B5C;\n",
              "      box-shadow: 0px 1px 3px 1px rgba(0, 0, 0, 0.15);\n",
              "      filter: drop-shadow(0px 1px 2px rgba(0, 0, 0, 0.3));\n",
              "      fill: #FFFFFF;\n",
              "    }\n",
              "  </style>\n",
              "\n",
              "      <script>\n",
              "        const buttonEl =\n",
              "          document.querySelector('#df-4d55e6f1-ac30-47e4-aecd-7aecbd7903dc button.colab-df-convert');\n",
              "        buttonEl.style.display =\n",
              "          google.colab.kernel.accessAllowed ? 'block' : 'none';\n",
              "\n",
              "        async function convertToInteractive(key) {\n",
              "          const element = document.querySelector('#df-4d55e6f1-ac30-47e4-aecd-7aecbd7903dc');\n",
              "          const dataTable =\n",
              "            await google.colab.kernel.invokeFunction('convertToInteractive',\n",
              "                                                     [key], {});\n",
              "          if (!dataTable) return;\n",
              "\n",
              "          const docLinkHtml = 'Like what you see? Visit the ' +\n",
              "            '<a target=\"_blank\" href=https://colab.research.google.com/notebooks/data_table.ipynb>data table notebook</a>'\n",
              "            + ' to learn more about interactive tables.';\n",
              "          element.innerHTML = '';\n",
              "          dataTable['output_type'] = 'display_data';\n",
              "          await google.colab.output.renderOutput(dataTable, element);\n",
              "          const docLink = document.createElement('div');\n",
              "          docLink.innerHTML = docLinkHtml;\n",
              "          element.appendChild(docLink);\n",
              "        }\n",
              "      </script>\n",
              "    </div>\n",
              "  </div>\n",
              "  "
            ]
          },
          "metadata": {},
          "execution_count": 25
        }
      ],
      "source": [
        "df.head(2)"
      ]
    },
    {
      "cell_type": "markdown",
      "metadata": {
        "id": "ZDmmaO7ggdtN"
      },
      "source": [
        "finding no. of years present in our dataframe"
      ]
    },
    {
      "cell_type": "code",
      "execution_count": 26,
      "metadata": {
        "colab": {
          "base_uri": "https://localhost:8080/"
        },
        "id": "xlnN203m5acM",
        "outputId": "68109964-b78f-45ca-cfea-4bc4fdf856cd"
      },
      "outputs": [
        {
          "output_type": "execute_result",
          "data": {
            "text/plain": [
              "2014    1099\n",
              "2013     801\n",
              "2012     642\n",
              "2011     661\n",
              "Name: Year, dtype: int64"
            ]
          },
          "metadata": {},
          "execution_count": 26
        }
      ],
      "source": [
        "#df.Year.value_counts().sort_values(by='Year')\n",
        "zzz=df['Year'].value_counts().sort_index(ascending=False)\n",
        "#'''we cant write here sort_values becoz if we write then becoz value_count() k baad sort_value() aaega islie\n",
        "#ye value counts() k column ko sort krega in decending order. but when u write sort_index() then ye\n",
        "#value_counts() ko sort na krke index k behalf pe sort kkrega'''  \n",
        "\n",
        "# '''imp note single column me \"by\" argument use nhi hota with sort_values()...it only uses with 2 column \n",
        "# names, or groupby func...or merge func()...'''\n",
        "zzz\n"
      ]
    },
    {
      "cell_type": "markdown",
      "metadata": {
        "id": "UXeDRPpB53Ri"
      },
      "source": [
        "**year wise finding-- monthly= (profit and sales)**"
      ]
    },
    {
      "cell_type": "code",
      "execution_count": 27,
      "metadata": {
        "colab": {
          "base_uri": "https://localhost:8080/"
        },
        "id": "jhs1BEmUm57c",
        "outputId": "e312585d-769c-4654-e8b6-987ed92492a4"
      },
      "outputs": [
        {
          "output_type": "execute_result",
          "data": {
            "text/plain": [
              "(661, 18)"
            ]
          },
          "metadata": {},
          "execution_count": 27
        }
      ],
      "source": [
        "year1=df[df.Year==2011]\n",
        "year1.shape"
      ]
    },
    {
      "cell_type": "markdown",
      "metadata": {
        "id": "cNGDmjFvf3qA"
      },
      "source": [
        "**Now- month wise showing the profit and sales of every state** . "
      ]
    },
    {
      "cell_type": "code",
      "execution_count": 28,
      "metadata": {
        "colab": {
          "base_uri": "https://localhost:8080/",
          "height": 424
        },
        "id": "p8dVtCbi6W8M",
        "outputId": "c7cc48bd-bcc3-48a6-f509-37d8ec9874ce"
      },
      "outputs": [
        {
          "output_type": "execute_result",
          "data": {
            "text/plain": [
              "    Month       State   Profit     Sales\n",
              "0       1     Arizona  -288.01    378.59\n",
              "1       1  California   380.59   2680.13\n",
              "2       1    Colorado   252.32   2027.15\n",
              "3       1      Nevada    19.24     44.79\n",
              "4       1      Oregon   -33.25    664.76\n",
              "..    ...         ...      ...       ...\n",
              "66     12  California  2273.83  20722.05\n",
              "67     12    Colorado   110.47   1303.21\n",
              "68     12      Nevada    59.49    475.94\n",
              "69     12  New Mexico     2.30     57.27\n",
              "70     12  Washington    32.55    165.45\n",
              "\n",
              "[71 rows x 4 columns]"
            ],
            "text/html": [
              "\n",
              "  <div id=\"df-8cb7012d-92bc-4fee-b388-9241fccd8320\">\n",
              "    <div class=\"colab-df-container\">\n",
              "      <div>\n",
              "<style scoped>\n",
              "    .dataframe tbody tr th:only-of-type {\n",
              "        vertical-align: middle;\n",
              "    }\n",
              "\n",
              "    .dataframe tbody tr th {\n",
              "        vertical-align: top;\n",
              "    }\n",
              "\n",
              "    .dataframe thead th {\n",
              "        text-align: right;\n",
              "    }\n",
              "</style>\n",
              "<table border=\"1\" class=\"dataframe\">\n",
              "  <thead>\n",
              "    <tr style=\"text-align: right;\">\n",
              "      <th></th>\n",
              "      <th>Month</th>\n",
              "      <th>State</th>\n",
              "      <th>Profit</th>\n",
              "      <th>Sales</th>\n",
              "    </tr>\n",
              "  </thead>\n",
              "  <tbody>\n",
              "    <tr>\n",
              "      <th>0</th>\n",
              "      <td>1</td>\n",
              "      <td>Arizona</td>\n",
              "      <td>-288.01</td>\n",
              "      <td>378.59</td>\n",
              "    </tr>\n",
              "    <tr>\n",
              "      <th>1</th>\n",
              "      <td>1</td>\n",
              "      <td>California</td>\n",
              "      <td>380.59</td>\n",
              "      <td>2680.13</td>\n",
              "    </tr>\n",
              "    <tr>\n",
              "      <th>2</th>\n",
              "      <td>1</td>\n",
              "      <td>Colorado</td>\n",
              "      <td>252.32</td>\n",
              "      <td>2027.15</td>\n",
              "    </tr>\n",
              "    <tr>\n",
              "      <th>3</th>\n",
              "      <td>1</td>\n",
              "      <td>Nevada</td>\n",
              "      <td>19.24</td>\n",
              "      <td>44.79</td>\n",
              "    </tr>\n",
              "    <tr>\n",
              "      <th>4</th>\n",
              "      <td>1</td>\n",
              "      <td>Oregon</td>\n",
              "      <td>-33.25</td>\n",
              "      <td>664.76</td>\n",
              "    </tr>\n",
              "    <tr>\n",
              "      <th>...</th>\n",
              "      <td>...</td>\n",
              "      <td>...</td>\n",
              "      <td>...</td>\n",
              "      <td>...</td>\n",
              "    </tr>\n",
              "    <tr>\n",
              "      <th>66</th>\n",
              "      <td>12</td>\n",
              "      <td>California</td>\n",
              "      <td>2273.83</td>\n",
              "      <td>20722.05</td>\n",
              "    </tr>\n",
              "    <tr>\n",
              "      <th>67</th>\n",
              "      <td>12</td>\n",
              "      <td>Colorado</td>\n",
              "      <td>110.47</td>\n",
              "      <td>1303.21</td>\n",
              "    </tr>\n",
              "    <tr>\n",
              "      <th>68</th>\n",
              "      <td>12</td>\n",
              "      <td>Nevada</td>\n",
              "      <td>59.49</td>\n",
              "      <td>475.94</td>\n",
              "    </tr>\n",
              "    <tr>\n",
              "      <th>69</th>\n",
              "      <td>12</td>\n",
              "      <td>New Mexico</td>\n",
              "      <td>2.30</td>\n",
              "      <td>57.27</td>\n",
              "    </tr>\n",
              "    <tr>\n",
              "      <th>70</th>\n",
              "      <td>12</td>\n",
              "      <td>Washington</td>\n",
              "      <td>32.55</td>\n",
              "      <td>165.45</td>\n",
              "    </tr>\n",
              "  </tbody>\n",
              "</table>\n",
              "<p>71 rows × 4 columns</p>\n",
              "</div>\n",
              "      <button class=\"colab-df-convert\" onclick=\"convertToInteractive('df-8cb7012d-92bc-4fee-b388-9241fccd8320')\"\n",
              "              title=\"Convert this dataframe to an interactive table.\"\n",
              "              style=\"display:none;\">\n",
              "        \n",
              "  <svg xmlns=\"http://www.w3.org/2000/svg\" height=\"24px\"viewBox=\"0 0 24 24\"\n",
              "       width=\"24px\">\n",
              "    <path d=\"M0 0h24v24H0V0z\" fill=\"none\"/>\n",
              "    <path d=\"M18.56 5.44l.94 2.06.94-2.06 2.06-.94-2.06-.94-.94-2.06-.94 2.06-2.06.94zm-11 1L8.5 8.5l.94-2.06 2.06-.94-2.06-.94L8.5 2.5l-.94 2.06-2.06.94zm10 10l.94 2.06.94-2.06 2.06-.94-2.06-.94-.94-2.06-.94 2.06-2.06.94z\"/><path d=\"M17.41 7.96l-1.37-1.37c-.4-.4-.92-.59-1.43-.59-.52 0-1.04.2-1.43.59L10.3 9.45l-7.72 7.72c-.78.78-.78 2.05 0 2.83L4 21.41c.39.39.9.59 1.41.59.51 0 1.02-.2 1.41-.59l7.78-7.78 2.81-2.81c.8-.78.8-2.07 0-2.86zM5.41 20L4 18.59l7.72-7.72 1.47 1.35L5.41 20z\"/>\n",
              "  </svg>\n",
              "      </button>\n",
              "      \n",
              "  <style>\n",
              "    .colab-df-container {\n",
              "      display:flex;\n",
              "      flex-wrap:wrap;\n",
              "      gap: 12px;\n",
              "    }\n",
              "\n",
              "    .colab-df-convert {\n",
              "      background-color: #E8F0FE;\n",
              "      border: none;\n",
              "      border-radius: 50%;\n",
              "      cursor: pointer;\n",
              "      display: none;\n",
              "      fill: #1967D2;\n",
              "      height: 32px;\n",
              "      padding: 0 0 0 0;\n",
              "      width: 32px;\n",
              "    }\n",
              "\n",
              "    .colab-df-convert:hover {\n",
              "      background-color: #E2EBFA;\n",
              "      box-shadow: 0px 1px 2px rgba(60, 64, 67, 0.3), 0px 1px 3px 1px rgba(60, 64, 67, 0.15);\n",
              "      fill: #174EA6;\n",
              "    }\n",
              "\n",
              "    [theme=dark] .colab-df-convert {\n",
              "      background-color: #3B4455;\n",
              "      fill: #D2E3FC;\n",
              "    }\n",
              "\n",
              "    [theme=dark] .colab-df-convert:hover {\n",
              "      background-color: #434B5C;\n",
              "      box-shadow: 0px 1px 3px 1px rgba(0, 0, 0, 0.15);\n",
              "      filter: drop-shadow(0px 1px 2px rgba(0, 0, 0, 0.3));\n",
              "      fill: #FFFFFF;\n",
              "    }\n",
              "  </style>\n",
              "\n",
              "      <script>\n",
              "        const buttonEl =\n",
              "          document.querySelector('#df-8cb7012d-92bc-4fee-b388-9241fccd8320 button.colab-df-convert');\n",
              "        buttonEl.style.display =\n",
              "          google.colab.kernel.accessAllowed ? 'block' : 'none';\n",
              "\n",
              "        async function convertToInteractive(key) {\n",
              "          const element = document.querySelector('#df-8cb7012d-92bc-4fee-b388-9241fccd8320');\n",
              "          const dataTable =\n",
              "            await google.colab.kernel.invokeFunction('convertToInteractive',\n",
              "                                                     [key], {});\n",
              "          if (!dataTable) return;\n",
              "\n",
              "          const docLinkHtml = 'Like what you see? Visit the ' +\n",
              "            '<a target=\"_blank\" href=https://colab.research.google.com/notebooks/data_table.ipynb>data table notebook</a>'\n",
              "            + ' to learn more about interactive tables.';\n",
              "          element.innerHTML = '';\n",
              "          dataTable['output_type'] = 'display_data';\n",
              "          await google.colab.output.renderOutput(dataTable, element);\n",
              "          const docLink = document.createElement('div');\n",
              "          docLink.innerHTML = docLinkHtml;\n",
              "          element.appendChild(docLink);\n",
              "        }\n",
              "      </script>\n",
              "    </div>\n",
              "  </div>\n",
              "  "
            ]
          },
          "metadata": {},
          "execution_count": 28
        }
      ],
      "source": [
        "# after applying merge function it already gives your answer into dataframe you dont have to convert it\n",
        "# into dataframe\n",
        "q2 = year1.groupby(['Month','State'])['Profit'].sum()\n",
        "c2 = year1.groupby(['Month','State'])['Sales'].sum()\n",
        "d2 = pd.merge(q2,c2,how='left',on=['Month','State'])\n",
        "d2.reset_index(inplace=True)# We use the inplace=True argument when we want to modify a DataFrame object in place, without creating a new DataFrame object.\n",
        "d2.sort_values(by='Sales', ascending = True)\n",
        "d2\n",
        "# after this code i can give you examples that whats d/f b/w reset_index() and reset_index(inplace=True)"
      ]
    },
    {
      "cell_type": "code",
      "execution_count": 29,
      "metadata": {
        "colab": {
          "base_uri": "https://localhost:8080/"
        },
        "id": "nIvG_OYcrqIb",
        "outputId": "c7202073-503c-4206-a603-dc53185148f6"
      },
      "outputs": [
        {
          "output_type": "stream",
          "name": "stdout",
          "text": [
            "      Name  Score\n",
            "0    Alice     90\n",
            "1      Bob     85\n",
            "2  Charlie     95\n",
            "   index     Name  Score\n",
            "0      0    Alice     90\n",
            "1      1      Bob     85\n",
            "2      2  Charlie     95\n"
          ]
        }
      ],
      "source": [
        "#Example 1: Using reset_index()\n",
        "# create a sample DataFrame\n",
        "df = pd.DataFrame({'Name': ['Alice', 'Bob', 'Charlie'], 'Score': [90, 85, 95]})\n",
        "\n",
        "# reset the index without using inplace=True\n",
        "df_new = df.reset_index()\n",
        "\n",
        "# print the original DataFrame and the new DataFrame\n",
        "print(df)\n",
        "print(df_new)\n"
      ]
    },
    {
      "cell_type": "code",
      "execution_count": 30,
      "metadata": {
        "colab": {
          "base_uri": "https://localhost:8080/"
        },
        "id": "LCtcDbhXsZ9-",
        "outputId": "f6745968-05fc-4847-8fac-a7ff415b25e7"
      },
      "outputs": [
        {
          "output_type": "stream",
          "name": "stdout",
          "text": [
            "   index     Name  Score\n",
            "0      0    Alice     90\n",
            "1      1      Bob     85\n",
            "2      2  Charlie     95\n"
          ]
        }
      ],
      "source": [
        "#Example 2: Using reset_index(inplace=True)\n",
        "# create a sample DataFrame\n",
        "df = pd.DataFrame({'Name': ['Alice', 'Bob', 'Charlie'], 'Score': [90, 85, 95]})\n",
        "\n",
        "# reset the index using inplace=True\n",
        "df.reset_index(inplace=True)\n",
        "\n",
        "# print the modified DataFrame\n",
        "print(df)\n",
        "# In this example, reset_index(inplace=True) is used to reset the index of the DataFrame df in place, without creating a new DataFrame.\n"
      ]
    },
    {
      "cell_type": "code",
      "execution_count": 31,
      "metadata": {
        "colab": {
          "base_uri": "https://localhost:8080/",
          "height": 424
        },
        "id": "mZnqJXbFuXu2",
        "outputId": "26fa9b07-eb58-4025-da0c-ad1355de42c9"
      },
      "outputs": [
        {
          "output_type": "execute_result",
          "data": {
            "text/plain": [
              "          State  Profit    Sales\n",
              "0       Arizona -288.01   378.59\n",
              "1       Arizona -288.01   598.15\n",
              "2       Arizona -288.01   481.72\n",
              "3       Arizona -288.01  1280.99\n",
              "4       Arizona -288.01    12.50\n",
              "..          ...     ...      ...\n",
              "630  Washington   32.55  4014.61\n",
              "631  Washington   32.55  9858.55\n",
              "632  Washington   32.55  2262.68\n",
              "633  Washington   32.55  4232.66\n",
              "634  Washington   32.55   165.45\n",
              "\n",
              "[635 rows x 3 columns]"
            ],
            "text/html": [
              "\n",
              "  <div id=\"df-5fe4f307-8180-43df-8b0d-7d3b35f77c1a\">\n",
              "    <div class=\"colab-df-container\">\n",
              "      <div>\n",
              "<style scoped>\n",
              "    .dataframe tbody tr th:only-of-type {\n",
              "        vertical-align: middle;\n",
              "    }\n",
              "\n",
              "    .dataframe tbody tr th {\n",
              "        vertical-align: top;\n",
              "    }\n",
              "\n",
              "    .dataframe thead th {\n",
              "        text-align: right;\n",
              "    }\n",
              "</style>\n",
              "<table border=\"1\" class=\"dataframe\">\n",
              "  <thead>\n",
              "    <tr style=\"text-align: right;\">\n",
              "      <th></th>\n",
              "      <th>State</th>\n",
              "      <th>Profit</th>\n",
              "      <th>Sales</th>\n",
              "    </tr>\n",
              "  </thead>\n",
              "  <tbody>\n",
              "    <tr>\n",
              "      <th>0</th>\n",
              "      <td>Arizona</td>\n",
              "      <td>-288.01</td>\n",
              "      <td>378.59</td>\n",
              "    </tr>\n",
              "    <tr>\n",
              "      <th>1</th>\n",
              "      <td>Arizona</td>\n",
              "      <td>-288.01</td>\n",
              "      <td>598.15</td>\n",
              "    </tr>\n",
              "    <tr>\n",
              "      <th>2</th>\n",
              "      <td>Arizona</td>\n",
              "      <td>-288.01</td>\n",
              "      <td>481.72</td>\n",
              "    </tr>\n",
              "    <tr>\n",
              "      <th>3</th>\n",
              "      <td>Arizona</td>\n",
              "      <td>-288.01</td>\n",
              "      <td>1280.99</td>\n",
              "    </tr>\n",
              "    <tr>\n",
              "      <th>4</th>\n",
              "      <td>Arizona</td>\n",
              "      <td>-288.01</td>\n",
              "      <td>12.50</td>\n",
              "    </tr>\n",
              "    <tr>\n",
              "      <th>...</th>\n",
              "      <td>...</td>\n",
              "      <td>...</td>\n",
              "      <td>...</td>\n",
              "    </tr>\n",
              "    <tr>\n",
              "      <th>630</th>\n",
              "      <td>Washington</td>\n",
              "      <td>32.55</td>\n",
              "      <td>4014.61</td>\n",
              "    </tr>\n",
              "    <tr>\n",
              "      <th>631</th>\n",
              "      <td>Washington</td>\n",
              "      <td>32.55</td>\n",
              "      <td>9858.55</td>\n",
              "    </tr>\n",
              "    <tr>\n",
              "      <th>632</th>\n",
              "      <td>Washington</td>\n",
              "      <td>32.55</td>\n",
              "      <td>2262.68</td>\n",
              "    </tr>\n",
              "    <tr>\n",
              "      <th>633</th>\n",
              "      <td>Washington</td>\n",
              "      <td>32.55</td>\n",
              "      <td>4232.66</td>\n",
              "    </tr>\n",
              "    <tr>\n",
              "      <th>634</th>\n",
              "      <td>Washington</td>\n",
              "      <td>32.55</td>\n",
              "      <td>165.45</td>\n",
              "    </tr>\n",
              "  </tbody>\n",
              "</table>\n",
              "<p>635 rows × 3 columns</p>\n",
              "</div>\n",
              "      <button class=\"colab-df-convert\" onclick=\"convertToInteractive('df-5fe4f307-8180-43df-8b0d-7d3b35f77c1a')\"\n",
              "              title=\"Convert this dataframe to an interactive table.\"\n",
              "              style=\"display:none;\">\n",
              "        \n",
              "  <svg xmlns=\"http://www.w3.org/2000/svg\" height=\"24px\"viewBox=\"0 0 24 24\"\n",
              "       width=\"24px\">\n",
              "    <path d=\"M0 0h24v24H0V0z\" fill=\"none\"/>\n",
              "    <path d=\"M18.56 5.44l.94 2.06.94-2.06 2.06-.94-2.06-.94-.94-2.06-.94 2.06-2.06.94zm-11 1L8.5 8.5l.94-2.06 2.06-.94-2.06-.94L8.5 2.5l-.94 2.06-2.06.94zm10 10l.94 2.06.94-2.06 2.06-.94-2.06-.94-.94-2.06-.94 2.06-2.06.94z\"/><path d=\"M17.41 7.96l-1.37-1.37c-.4-.4-.92-.59-1.43-.59-.52 0-1.04.2-1.43.59L10.3 9.45l-7.72 7.72c-.78.78-.78 2.05 0 2.83L4 21.41c.39.39.9.59 1.41.59.51 0 1.02-.2 1.41-.59l7.78-7.78 2.81-2.81c.8-.78.8-2.07 0-2.86zM5.41 20L4 18.59l7.72-7.72 1.47 1.35L5.41 20z\"/>\n",
              "  </svg>\n",
              "      </button>\n",
              "      \n",
              "  <style>\n",
              "    .colab-df-container {\n",
              "      display:flex;\n",
              "      flex-wrap:wrap;\n",
              "      gap: 12px;\n",
              "    }\n",
              "\n",
              "    .colab-df-convert {\n",
              "      background-color: #E8F0FE;\n",
              "      border: none;\n",
              "      border-radius: 50%;\n",
              "      cursor: pointer;\n",
              "      display: none;\n",
              "      fill: #1967D2;\n",
              "      height: 32px;\n",
              "      padding: 0 0 0 0;\n",
              "      width: 32px;\n",
              "    }\n",
              "\n",
              "    .colab-df-convert:hover {\n",
              "      background-color: #E2EBFA;\n",
              "      box-shadow: 0px 1px 2px rgba(60, 64, 67, 0.3), 0px 1px 3px 1px rgba(60, 64, 67, 0.15);\n",
              "      fill: #174EA6;\n",
              "    }\n",
              "\n",
              "    [theme=dark] .colab-df-convert {\n",
              "      background-color: #3B4455;\n",
              "      fill: #D2E3FC;\n",
              "    }\n",
              "\n",
              "    [theme=dark] .colab-df-convert:hover {\n",
              "      background-color: #434B5C;\n",
              "      box-shadow: 0px 1px 3px 1px rgba(0, 0, 0, 0.15);\n",
              "      filter: drop-shadow(0px 1px 2px rgba(0, 0, 0, 0.3));\n",
              "      fill: #FFFFFF;\n",
              "    }\n",
              "  </style>\n",
              "\n",
              "      <script>\n",
              "        const buttonEl =\n",
              "          document.querySelector('#df-5fe4f307-8180-43df-8b0d-7d3b35f77c1a button.colab-df-convert');\n",
              "        buttonEl.style.display =\n",
              "          google.colab.kernel.accessAllowed ? 'block' : 'none';\n",
              "\n",
              "        async function convertToInteractive(key) {\n",
              "          const element = document.querySelector('#df-5fe4f307-8180-43df-8b0d-7d3b35f77c1a');\n",
              "          const dataTable =\n",
              "            await google.colab.kernel.invokeFunction('convertToInteractive',\n",
              "                                                     [key], {});\n",
              "          if (!dataTable) return;\n",
              "\n",
              "          const docLinkHtml = 'Like what you see? Visit the ' +\n",
              "            '<a target=\"_blank\" href=https://colab.research.google.com/notebooks/data_table.ipynb>data table notebook</a>'\n",
              "            + ' to learn more about interactive tables.';\n",
              "          element.innerHTML = '';\n",
              "          dataTable['output_type'] = 'display_data';\n",
              "          await google.colab.output.renderOutput(dataTable, element);\n",
              "          const docLink = document.createElement('div');\n",
              "          docLink.innerHTML = docLinkHtml;\n",
              "          element.appendChild(docLink);\n",
              "        }\n",
              "      </script>\n",
              "    </div>\n",
              "  </div>\n",
              "  "
            ]
          },
          "metadata": {},
          "execution_count": 31
        }
      ],
      "source": [
        "''' Q - agar merge krte samai hm on = khali state column pe lagaye or month column add na krre then\n",
        "it gives me 635 rows but agar hm month lgaye then it gives 71 rows only jbki jo month and state q2\n",
        "me hai voohi c2 me b hai. to same aana chahiye then why it gives me different values.'''\n",
        "\n",
        "q2 = year1.groupby(['Month','State'])['Profit'].sum()\n",
        "c2 = year1.groupby(['Month','State'])['Sales'].sum()\n",
        "d2 = pd.merge(q2,c2,how='left',on='State')\n",
        "d2.reset_index(inplace=True)\n",
        "d2"
      ]
    },
    {
      "cell_type": "markdown",
      "metadata": {
        "id": "gvUV2eCJ_KL0"
      },
      "source": [
        "making a line graph by ploty"
      ]
    },
    {
      "cell_type": "code",
      "execution_count": null,
      "metadata": {
        "id": "KZtJ0tdL_JNx"
      },
      "outputs": [],
      "source": [
        "#import ploty.express as px\n",
        "fig = px.line(d2,'Month','Profit',color='State',title='Profit over Months(2011)')\n",
        "fig.show()"
      ]
    },
    {
      "cell_type": "markdown",
      "metadata": {
        "id": "CnzsUcFuvO8W"
      },
      "source": [
        "CALIFORNIA profit inc. over month and its highest profit is in month 12, i.e - 2273"
      ]
    },
    {
      "cell_type": "code",
      "execution_count": null,
      "metadata": {
        "id": "jPNBX9emrNRi"
      },
      "outputs": [],
      "source": [
        "# graph of sales over month\n",
        "fig = px.line(d2,y='Sales',x='Month',color='State',title = 'Sales_over_month(2011)')\n",
        "fig.show()"
      ]
    },
    {
      "cell_type": "markdown",
      "metadata": {
        "id": "-hqKwkQ-slPt"
      },
      "source": [
        "california sales inc. over months and its highest sale is on month 12 which is 20722."
      ]
    },
    {
      "cell_type": "code",
      "execution_count": null,
      "metadata": {
        "id": "Ygmbn1fgvPRY"
      },
      "outputs": [],
      "source": [
        "# Q- agar ab hame isme ye nikalna hai ki 12th month me new mexico state ki kitni sale hui hai\n",
        "c= year1[year1['State']=='New Mexico']\n",
        "c"
      ]
    },
    {
      "cell_type": "code",
      "execution_count": null,
      "metadata": {
        "id": "hrOkpj11wv8m"
      },
      "outputs": [],
      "source": [
        "# ''' IMP CODE HAI LIKH LENA'''----- .query\n",
        "result = year1.query('Month == 12 and State == \"New Mexico\"')['Sales']\n",
        "result"
      ]
    },
    {
      "cell_type": "code",
      "execution_count": null,
      "metadata": {
        "id": "Vly-WVaJ27MJ"
      },
      "outputs": [],
      "source": [
        "# or u can apply this also\n",
        "c = year1[(year1['State']=='New Mexico') & (year1['Month']==12)]\n",
        "sale_data = c['Sales'].sum()\n",
        "c"
      ]
    },
    {
      "cell_type": "markdown",
      "metadata": {
        "id": "KtgdFIsNeD9Z"
      },
      "source": [
        " which state gives you highest profit in the whole year"
      ]
    },
    {
      "cell_type": "code",
      "execution_count": null,
      "metadata": {
        "id": "oPzpTmV7zBqd"
      },
      "outputs": [],
      "source": [
        "\n",
        "state_profit = year1.groupby('State')['Profit'].sum()\n",
        "state_profit = state_profit.sort_values(ascending=False).reset_index()\n",
        "state_profit"
      ]
    },
    {
      "cell_type": "code",
      "execution_count": null,
      "metadata": {
        "id": "quSSKTC43w67"
      },
      "outputs": [],
      "source": [
        "#fig = px.line(state_profit,x='State',y='Profit')\n",
        "#fig.show()\n",
        "state_profit = year1.groupby('State')['Profit'].sum().reset_index()\n",
        "fig = px.line(state_profit,x='State',y='Profit',title = 'Yearly profit per state (2011)')\n",
        "fig.show()\n",
        "\n",
        "'''in this code aapko reset_index lagana jaruri hoga chahe to ye state_profit ki line dubara likh\n",
        "k isme .reset_index() lagaye ya phir iske upper vaale code me sort_values k saath reset index lagaye...\n",
        "[\"profit.sum() vaali line (1st line) me mat lga dena\" bcoz reset_index() code k last me lgta hai,\n",
        "or 1st line k baad b 2nd line me state_profit me hum sort func. ka use krre hai...islie vo 2nd line me\n",
        "aaega...]'''\n",
        "\n",
        "'''ab ye reset_index lagana jaruri isliye hai becoz reset_index() lagane se ye full data ko ek data\n",
        "frame me convert kr deta hai....or plotly dataframe vaali chijo ka hi graph banata hai.'''\n"
      ]
    },
    {
      "cell_type": "markdown",
      "metadata": {
        "id": "9cdsAHNOnfJd"
      },
      "source": [
        "CALIFORNIA is he most profitable state \n",
        "and\n",
        " ARIZONA is the least profitable state."
      ]
    },
    {
      "cell_type": "markdown",
      "metadata": {
        "id": "ccS6B1HNoAkL"
      },
      "source": [
        " Which state gives most sales to wallmart in 2011 ?"
      ]
    },
    {
      "cell_type": "code",
      "execution_count": null,
      "metadata": {
        "id": "YnvxUZrDmODH"
      },
      "outputs": [],
      "source": [
        "state_sales = year1.groupby('State')['Sales'].sum()\n",
        "state_sales = state_sales.sort_values(ascending = False).reset_index()\n",
        "state_sales"
      ]
    },
    {
      "cell_type": "code",
      "execution_count": null,
      "metadata": {
        "id": "yjBJpHpjpRu0"
      },
      "outputs": [],
      "source": [
        "state_sales = year1.groupby('State')['Sales'].sum().reset_index()\n",
        "fig = px.line(state_sales,x='State',y='Sales',title = 'Yearly SALES per State(2011)')\n",
        "fig.show()"
      ]
    },
    {
      "cell_type": "markdown",
      "metadata": {
        "id": "ngck42BwqqG4"
      },
      "source": [
        "'CALIFORNIA' has highest and 'MONTANA' has lowest SALE in year 2011"
      ]
    },
    {
      "cell_type": "code",
      "execution_count": null,
      "metadata": {
        "id": "QOsNeS9rqFya"
      },
      "outputs": [],
      "source": [
        "xcz = df.Year.value_counts().sort_index()\n",
        "''' sort_values() kha lgna hai and sort_index() kha pe iska d/f smjh aagya na'''\n",
        "#sort_index is used to sort series and sort values is used to sort DataFrame\n",
        "xcz"
      ]
    },
    {
      "cell_type": "code",
      "execution_count": null,
      "metadata": {
        "id": "R4RLj9yZwXSz"
      },
      "outputs": [],
      "source": [
        "year2 = df[df['Year']==2012]\n",
        "year2.shape"
      ]
    },
    {
      "cell_type": "code",
      "execution_count": null,
      "metadata": {
        "id": "vid_Zj8UxpVd"
      },
      "outputs": [],
      "source": [
        "year2.head()"
      ]
    },
    {
      "cell_type": "markdown",
      "metadata": {
        "id": "Ao-y7Xz4yACy"
      },
      "source": [
        "Q-1 find profit and sales over months of every state in 2012 "
      ]
    },
    {
      "cell_type": "markdown",
      "metadata": {
        "id": "0iIzr9L4yj-T"
      },
      "source": [
        "Q-2 find total (profit and sales) over states in year 2012"
      ]
    },
    {
      "cell_type": "code",
      "execution_count": null,
      "metadata": {
        "id": "TGwj1PjGxu8j"
      },
      "outputs": [],
      "source": [
        "a1 = year2.groupby(['Month','State'])['Profit'].sum()\n",
        "a2 = year2.groupby(['Month','State'])['Sales'].sum()\n",
        "a3 = pd.merge(a1,a2,how='left',on=['Month','State']).reset_index()\n",
        "a3"
      ]
    },
    {
      "cell_type": "markdown",
      "metadata": {
        "id": "GvLmt44f8DaM"
      },
      "source": [
        "Q- which state gives most of the profit over time."
      ]
    },
    {
      "cell_type": "code",
      "execution_count": null,
      "metadata": {
        "id": "RSEQk95L73uo"
      },
      "outputs": [],
      "source": [
        "fig = px.line(a3,x='Month',y='Profit',color='State',title='profit over months(2012)')\n",
        "fig.show()"
      ]
    },
    {
      "cell_type": "markdown",
      "metadata": {
        "id": "DVC3149-9Ajt"
      },
      "source": [
        "CALIFORNIA gives most of the profit over time"
      ]
    },
    {
      "cell_type": "code",
      "execution_count": null,
      "metadata": {
        "id": "ttj3DlNv83sL"
      },
      "outputs": [],
      "source": [
        "fig = px.line(a3,y='Sales',x='Month',color='State',title='Sales over months(2012)')\n",
        "fig.show()"
      ]
    },
    {
      "cell_type": "markdown",
      "metadata": {
        "id": "lW0OiZfR9Acd"
      },
      "source": [
        "CALIFORNIA gives max. Sales over time."
      ]
    },
    {
      "cell_type": "markdown",
      "metadata": {
        "id": "kJ_4gXI9_Rbz"
      },
      "source": [
        "Q- Yearly profit of each state."
      ]
    },
    {
      "cell_type": "code",
      "execution_count": null,
      "metadata": {
        "id": "uAS0hEAs_O4N"
      },
      "outputs": [],
      "source": [
        "state_profit2 = year2.groupby('State')['Profit'].sum()\n",
        "state_profit2 = state_profit2.sort_values(ascending = False).reset_index()\n",
        "state_profit2\n",
        "    \n"
      ]
    },
    {
      "cell_type": "code",
      "execution_count": null,
      "metadata": {
        "id": "N1IeScv7ASWo"
      },
      "outputs": [],
      "source": [
        "fig = px.line(state_profit2,x='State',y='Profit',title='Yearly profit per states(2012)')\n",
        "fig.show()\n",
        "# this graph is made by above state_profit2 vha pe humne sort_values kr rkhi thi profit me islie ye graph\n",
        "# aisa aaya or upper humne dubara code nhi likha islie aisa hua"
      ]
    },
    {
      "cell_type": "code",
      "execution_count": null,
      "metadata": {
        "id": "PbXW-RdoBYWS"
      },
      "outputs": [],
      "source": [
        "state_profit2 = year2.groupby('State')['Profit'].sum().reset_index()\n",
        "fig = px.line(state_profit2,x='State',y='Profit',title='Yearly profit per states(2012)')\n",
        "fig.show()\n",
        "# is graph me ye state_profit2 hai vo saamne hi likh dia or isme sorting nhi lgi hai islie values \n",
        "# aache se ai hai.\n"
      ]
    },
    {
      "cell_type": "markdown",
      "metadata": {
        "id": "smyi8Ft8CwsA"
      },
      "source": [
        "CALIFORNIA made highest profit of 14371"
      ]
    },
    {
      "cell_type": "markdown",
      "metadata": {
        "id": "4pHkNoB6DVvr"
      },
      "source": [
        "Q- Yearly Sales of each state"
      ]
    },
    {
      "cell_type": "code",
      "execution_count": null,
      "metadata": {
        "id": "p6OWFIiOBtEp"
      },
      "outputs": [],
      "source": [
        "state_sales2 = year2.groupby('State')['Sales'].sum()\n",
        "state_sales2 = state_sales2.sort_values(ascending=False).reset_index()\n",
        "state_sales2"
      ]
    },
    {
      "cell_type": "code",
      "execution_count": null,
      "metadata": {
        "id": "pRm0n3IwD7nq"
      },
      "outputs": [],
      "source": [
        "state_sales2 = year2.groupby('State')['Sales'].sum().reset_index()\n",
        "fig = px.line(state_sales2,x='State', y='Sales',title='Yearly sales per states(2012)')\n",
        "fig.show()"
      ]
    },
    {
      "cell_type": "markdown",
      "metadata": {
        "id": "Kvu_EQ1qEoVx"
      },
      "source": [
        "CALIFORNIA make a highest sale of 88443"
      ]
    },
    {
      "cell_type": "markdown",
      "metadata": {
        "id": "whiWraIG-9YP"
      },
      "source": [
        "Q-1 find profit and sales over months of every state in 2013"
      ]
    },
    {
      "cell_type": "code",
      "execution_count": null,
      "metadata": {
        "id": "SnvsJIqP_FSF"
      },
      "outputs": [],
      "source": [
        "year3 = df[df['Year']==2013]\n",
        "year3.shape"
      ]
    },
    {
      "cell_type": "code",
      "execution_count": null,
      "metadata": {
        "id": "ReGh6DsGEZAv"
      },
      "outputs": [],
      "source": [
        "b1 = year3.groupby(['Month','State'])['Profit'].sum()\n",
        "b2 = year3.groupby(['Month','State'])['Sales'].sum()\n",
        "b3 = pd.merge(b1,b2,how='left',on=['Month','State']).reset_index()\n",
        "b3"
      ]
    },
    {
      "cell_type": "code",
      "execution_count": null,
      "metadata": {
        "id": "RfoVNJXNCR71"
      },
      "outputs": [],
      "source": [
        "fig = px.line(b3,x='Month',y='Profit',color='State',title='Profit over months(2013)')\n",
        "fig.show()"
      ]
    },
    {
      "cell_type": "code",
      "execution_count": null,
      "metadata": {
        "id": "Wn33xGPvC6-j"
      },
      "outputs": [],
      "source": [
        "fig = px.line(b3,x='Month',y='Sales',color='State',title='Sales over Months(2013)')\n",
        "fig.show()"
      ]
    },
    {
      "cell_type": "code",
      "execution_count": null,
      "metadata": {
        "id": "UkysTNUQFXbP"
      },
      "outputs": [],
      "source": []
    },
    {
      "cell_type": "markdown",
      "metadata": {
        "id": "D2GI5IhpE_De"
      },
      "source": [
        "finding Total sales and total profit in year 2013"
      ]
    },
    {
      "cell_type": "code",
      "execution_count": null,
      "metadata": {
        "id": "aGVbCY3RFK6D"
      },
      "outputs": [],
      "source": [
        "state_profit3 = year3.groupby('State')['Profit'].sum()\n",
        "state_profit3"
      ]
    },
    {
      "cell_type": "code",
      "execution_count": null,
      "metadata": {
        "id": "AUnUm_wePya0"
      },
      "outputs": [],
      "source": [
        "state_profit3 = year3.groupby('State')['Profit'].sum().reset_index()\n",
        "fig= px.line(state_profit3,x='State',y='Profit',title='Total Profit Over States(2013)')\n",
        "fig.show()"
      ]
    },
    {
      "cell_type": "code",
      "execution_count": null,
      "metadata": {
        "id": "WA97BOi9R6SQ"
      },
      "outputs": [],
      "source": [
        "state_sales3 = year3.groupby('State')['Sales'].sum()\n",
        "state_sales3"
      ]
    },
    {
      "cell_type": "code",
      "execution_count": null,
      "metadata": {
        "id": "Y5TUHiunSnWs"
      },
      "outputs": [],
      "source": [
        "state_sales3 = year3.groupby('State')['Sales'].sum().reset_index()\n",
        "fig = px.line(state_sales3,x='State',y='Sales',title='total sales over states(2013)')\n",
        "fig.show()"
      ]
    },
    {
      "cell_type": "markdown",
      "metadata": {
        "id": "Bh6_WNmqxD-x"
      },
      "source": [
        "Now for year 2014"
      ]
    },
    {
      "cell_type": "markdown",
      "metadata": {
        "id": "eHsvhn0Rxw65"
      },
      "source": [
        "Find Sales and Profit of every states over months"
      ]
    },
    {
      "cell_type": "code",
      "execution_count": null,
      "metadata": {
        "id": "9ndG5i8jTFAa"
      },
      "outputs": [],
      "source": [
        "year4 = df[df['Year']==2014]"
      ]
    },
    {
      "cell_type": "code",
      "execution_count": null,
      "metadata": {
        "id": "oDWcp-9YzAc4"
      },
      "outputs": [],
      "source": [
        "f1 = year4.groupby(['Month','State'])['Profit'].sum()\n",
        "f2 = year4.groupby(['Month','State'])['Sales'].sum()\n",
        "f3 = pd.merge(f1,f2,how='left',on=['Month','State']).reset_index()\n",
        "f3"
      ]
    },
    {
      "cell_type": "code",
      "execution_count": null,
      "metadata": {
        "id": "173AveVjvrNq"
      },
      "outputs": [],
      "source": [
        "fig = px.line(f3,x='Month',y='Profit',color = 'State',title='Profit Over Months(2014)')\n",
        "fig.show()"
      ]
    },
    {
      "cell_type": "code",
      "execution_count": null,
      "metadata": {
        "id": "82lT24uGx11l"
      },
      "outputs": [],
      "source": [
        "fig = px.line(f3,x='Month',y='Sales',color = 'State',title='Sales Over Months(2014)')\n",
        "fig.show()"
      ]
    },
    {
      "cell_type": "markdown",
      "metadata": {
        "id": "94vid_m19C5M"
      },
      "source": [
        "Q- find total profit and *sales* over states of year 2014"
      ]
    },
    {
      "cell_type": "code",
      "execution_count": null,
      "metadata": {
        "id": "9afy5UsV9CI4"
      },
      "outputs": [],
      "source": [
        "state_profit4 = year4.groupby('State')['Profit'].sum()\n",
        "state_profit4 = state_profit4.sort_values(ascending=False)\n",
        "state_profit4"
      ]
    },
    {
      "cell_type": "code",
      "execution_count": null,
      "metadata": {
        "id": "RakeYPK99x9p"
      },
      "outputs": [],
      "source": [
        "state_profit4 = year4.groupby('State')['Profit'].sum().reset_index()\n",
        "fig = px.line(state_profit4,x='State',y='Profit',title = 'Total Profit over states(2014)')\n",
        "fig.show()"
      ]
    },
    {
      "cell_type": "code",
      "execution_count": null,
      "metadata": {
        "id": "jv67RN_I_OUs"
      },
      "outputs": [],
      "source": [
        "state_sales4 = year4.groupby('State')['Sales'].sum()\n",
        "state_sales4 = state_sales4.sort_values(ascending = False)\n",
        "state_sales4\n"
      ]
    },
    {
      "cell_type": "code",
      "execution_count": null,
      "metadata": {
        "id": "kkVT-vXtAWZH"
      },
      "outputs": [],
      "source": [
        "state_sales4 = year4.groupby('State')['Sales'].sum().reset_index()"
      ]
    },
    {
      "cell_type": "code",
      "execution_count": null,
      "metadata": {
        "id": "8u0XxT96AQCs"
      },
      "outputs": [],
      "source": [
        "fig = px.line(state_sales4,x='State',y='Sales',title = 'Total Profit over states(2014)')\n",
        "fig.show()"
      ]
    },
    {
      "cell_type": "markdown",
      "metadata": {
        "id": "509bKDZuA9wo"
      },
      "source": [
        "Overall profit and sales of wallmart store over months"
      ]
    },
    {
      "cell_type": "code",
      "execution_count": null,
      "metadata": {
        "id": "bzKrVLhHBHt2"
      },
      "outputs": [],
      "source": [
        "z1 = df.groupby(['Month','State'])['Profit'].sum()\n",
        "z2 = df.groupby(['Month','State'])['Sales'].sum()\n",
        "z3 = pd.merge(z1,z2,how='left',on=['Month','State']).reset_index()\n",
        "z3"
      ]
    },
    {
      "cell_type": "code",
      "execution_count": null,
      "metadata": {
        "id": "5Qr1cYIQB37s"
      },
      "outputs": [],
      "source": [
        "fig = px.line(z3,x='Month',y='Profit',color='State',title = '(Overall) Profit over Months')\n",
        "fig.show()"
      ]
    },
    {
      "cell_type": "code",
      "execution_count": null,
      "metadata": {
        "id": "FDkhEbmVEd4_"
      },
      "outputs": [],
      "source": [
        "fig = px.line(z3,x='Month',y='Sales',color='State',title = '(Overall) Sales over months')\n",
        "fig.show()"
      ]
    },
    {
      "cell_type": "markdown",
      "metadata": {
        "id": "grdZMRC3E3dO"
      },
      "source": [
        "Total Sales and Profit of Whole wallmart data"
      ]
    },
    {
      "cell_type": "code",
      "execution_count": null,
      "metadata": {
        "id": "RqpI9YBjEv5A"
      },
      "outputs": [],
      "source": [
        "total_state_profit = df.groupby('State')['Profit'].sum()\n",
        "total_state_profit = total_state_profit.sort_values(ascending= False)\n",
        "total_state_profit "
      ]
    },
    {
      "cell_type": "code",
      "execution_count": null,
      "metadata": {
        "id": "u7ls_sMbF2dd"
      },
      "outputs": [],
      "source": [
        "total_state_profit = df.groupby('State')['Profit'].sum().reset_index()\n",
        "fig = px.line(total_state_profit,x='State', y='Profit',title = '(Overall) profit over states')\n",
        "fig.show()"
      ]
    },
    {
      "cell_type": "code",
      "execution_count": null,
      "metadata": {
        "id": "5dfc0Z11HVpA"
      },
      "outputs": [],
      "source": [
        "total_state_sales = df.groupby('State')['Profit'].sum()\n",
        "total_state_sales = total_state_sales.sort_values(ascending= False)\n",
        "total_state_sales"
      ]
    },
    {
      "cell_type": "code",
      "execution_count": null,
      "metadata": {
        "id": "l-muZsjuIjNF"
      },
      "outputs": [],
      "source": [
        "total_state_sales = df.groupby('State')['Sales'].sum().reset_index()\n",
        "fig = px.line(total_state_sales,x='State', y='Sales',title = '(Overall) Sales over States')\n",
        "fig.show()\n",
        "\n"
      ]
    },
    {
      "cell_type": "markdown",
      "metadata": {
        "id": "AYB2BtYCFfch"
      },
      "source": [
        "Overall conclusion is that - california has highest no. of profit and sales in all over the years and in total years\n"
      ]
    },
    {
      "cell_type": "markdown",
      "metadata": {
        "id": "cfTTZ9DoGQjA"
      },
      "source": [
        "Now generating category wise sales and profit"
      ]
    },
    {
      "cell_type": "code",
      "execution_count": null,
      "metadata": {
        "id": "twfP2NU6F6xW"
      },
      "outputs": [],
      "source": [
        "df.head()"
      ]
    },
    {
      "cell_type": "code",
      "execution_count": null,
      "metadata": {
        "id": "c0s8krAU5YEE"
      },
      "outputs": [],
      "source": []
    },
    {
      "cell_type": "markdown",
      "metadata": {
        "id": "sV2j7laU5Y4v"
      },
      "source": [
        "Q-- How many times Sales occured from each city. "
      ]
    },
    {
      "cell_type": "code",
      "execution_count": null,
      "metadata": {
        "id": "COmAcDrLGYv1"
      },
      "outputs": [],
      "source": [
        "cities = df.City.value_counts().reset_index()\n",
        "cities\n",
        "cities.rename(columns={'index':'City','City':'Count'})"
      ]
    },
    {
      "cell_type": "markdown",
      "metadata": {
        "id": "YFyoX6bT8Aiy"
      },
      "source": [
        "How many times Sales occured from each State"
      ]
    },
    {
      "cell_type": "code",
      "execution_count": null,
      "metadata": {
        "id": "YBZ2fe05Hn4O"
      },
      "outputs": [],
      "source": [
        "df.State.value_counts().reset_index()\n"
      ]
    },
    {
      "cell_type": "markdown",
      "metadata": {
        "id": "7gdhpoXo8PXQ"
      },
      "source": [
        "How many times Sales occured from each category"
      ]
    },
    {
      "cell_type": "code",
      "execution_count": null,
      "metadata": {
        "id": "HeWZWxWSI8r6"
      },
      "outputs": [],
      "source": [
        "df.Category.value_counts().reset_index()"
      ]
    },
    {
      "cell_type": "code",
      "execution_count": null,
      "metadata": {
        "id": "ePaGSzfuKSCM"
      },
      "outputs": [],
      "source": [
        "z1 = df.groupby('Category')['Profit'].sum().reset_index()\n",
        "z1=z1.sort_values(by='Profit',ascending=False)\n",
        "z1\n",
        "#'''  isme \"reset_index() lgaya hua hai islie ye ek dataframe me convert ho gya hai or datafrme me \n",
        "#sort_values() me \"by\" argument lagana pdta hai....vhi agar hm isse data frame me convert nhi krte to\n",
        "#\"by\" argument lagane pr ye hame \"error\" dikha deta...\n",
        "#ab data frame me convert krne pr hame sort_index() ki b tension nhi hogi kyunki ye humse poochta hai\n",
        "#ki \"by= 'kis column ko sort krna cha rhe ho' '''"
      ]
    },
    {
      "cell_type": "code",
      "execution_count": null,
      "metadata": {
        "id": "4ZpEJVxcN28O"
      },
      "outputs": [],
      "source": [
        "z1 = df.groupby('Category')['Profit'].sum()\n",
        "z1=z1.sort_values(ascending=False)\n",
        "z1\n",
        "# '''  ab kyunki pehli vaale code me .reset_index() upper tha uske baad sorting hui islie index no.\n",
        "#line se nhi aaye...or agar reset_index() niche likhoge to grupby krne pe dataframe nhi bnega pehli\n",
        "#line me islie hame \"by\" argument hatana pdega or is case me sort_index() b kaam aa skta hai.\n",
        "\n",
        "# just see the d/f b/w both of the code..."
      ]
    },
    {
      "cell_type": "code",
      "execution_count": null,
      "metadata": {
        "id": "vD0dsXiwKoLW"
      },
      "outputs": [],
      "source": [
        "z1 = df.groupby('Category')['Profit'].sum().reset_index()\n",
        "fig = px.line(z1,x='Category',y='Profit',title='Profit over categories')\n",
        "fig.show()"
      ]
    },
    {
      "cell_type": "markdown",
      "metadata": {
        "id": "cYSKvctgTLxH"
      },
      "source": [
        "COPIERS  has the highest profit of 19327"
      ]
    },
    {
      "cell_type": "code",
      "execution_count": null,
      "metadata": {
        "id": "KjBFYNSRLTcP"
      },
      "outputs": [],
      "source": [
        "y1 = df.groupby('Category')['Sales'].sum()\n",
        "y1"
      ]
    },
    {
      "cell_type": "code",
      "execution_count": null,
      "metadata": {
        "id": "rR4RwScxUsHi"
      },
      "outputs": [],
      "source": [
        "y1=y1.reset_index()\n",
        "fig = px.line(y1,x='Category',y='Sales',title = 'Sales over Caegories')\n",
        "fig.show()"
      ]
    },
    {
      "cell_type": "markdown",
      "metadata": {
        "id": "F49LuJJhWjk5"
      },
      "source": [
        "CHAIRS has highest sales of - 101781"
      ]
    },
    {
      "cell_type": "code",
      "execution_count": null,
      "metadata": {
        "id": "FfRqgS0nMuna"
      },
      "outputs": [],
      "source": [
        "df.head()"
      ]
    },
    {
      "cell_type": "code",
      "execution_count": null,
      "metadata": {
        "id": "3bNE2iUzVY-h"
      },
      "outputs": [],
      "source": [
        "# showing above graph by bar graph\n",
        "y1=y1.reset_index()\n",
        "#fig=px.bar(y1,x='State',y='Sale',color='State',title='Profit By Categroy')\n",
        "fig = px.bar(y1, x='Category', y='Sales', color='Category', title='Sales By Category',hover_name= 'Category')\n",
        "fig.show()"
      ]
    },
    {
      "cell_type": "code",
      "execution_count": null,
      "metadata": {
        "id": "KEsoG3FGXWz_"
      },
      "outputs": [],
      "source": [
        "z1 = df.groupby('Category')['Profit'].sum().reset_index()\n",
        "fig= px.bar(z1,x='Category',y='Profit',color ='Category',title='Profit Over Category',hover_name = 'Category')\n",
        "fig.show()"
      ]
    },
    {
      "cell_type": "markdown",
      "metadata": {
        "id": "oUHh2uc0SP1I"
      },
      "source": [
        "Total profit by state and city in dataframe df"
      ]
    },
    {
      "cell_type": "code",
      "execution_count": null,
      "metadata": {
        "id": "WzL20CuYJcus"
      },
      "outputs": [],
      "source": [
        "c = df.groupby(['State','City'])['Profit'].sum()\n",
        "c"
      ]
    },
    {
      "cell_type": "markdown",
      "metadata": {
        "id": "7XVjBswQVNxv"
      },
      "source": [
        "Total sales by State and city of DataFrame df"
      ]
    },
    {
      "cell_type": "code",
      "execution_count": null,
      "metadata": {
        "id": "AJKuF-_WUyl-"
      },
      "outputs": [],
      "source": [
        "d = df.groupby(['State','City'])['Sales'].sum()\n",
        "d"
      ]
    },
    {
      "cell_type": "code",
      "execution_count": null,
      "metadata": {
        "id": "UwwqupwiWe-f"
      },
      "outputs": [],
      "source": [
        "e = df.groupby(['State','City'])['Quantity'].mean()\n",
        "e\n",
        "# Q - why we extract mean of this data or mean nikalne se kya faida hota hai..."
      ]
    },
    {
      "cell_type": "markdown",
      "metadata": {
        "id": "sx4YP8eYHCI5"
      },
      "source": [
        "No. of unique customers present in each city. "
      ]
    },
    {
      "cell_type": "code",
      "execution_count": null,
      "metadata": {
        "id": "a6boeVSy0M03"
      },
      "outputs": [],
      "source": [
        "f=df.groupby(['State','City'])['Customer Name'].nunique()\n",
        "f"
      ]
    },
    {
      "cell_type": "markdown",
      "metadata": {
        "id": "Xp9-5HNDHdy2"
      },
      "source": [
        "Name of the customers present in each cities of d/f States "
      ]
    },
    {
      "cell_type": "code",
      "execution_count": null,
      "metadata": {
        "id": "GntMgCEM_q4i"
      },
      "outputs": [],
      "source": [
        "#w = df.groupby(['State','City'])['Customer Name'].value_counts()\n",
        "#w\n",
        "# when applying above code then it gives you answer in series, and when u apply .reset_index then it gives u value_error. there4 u have to apply 2nd code or below code. --- appy both the code then you will see the d/f. \n",
        "w = df.groupby(['State','City'])['Customer Name'].value_counts().reset_index(name='Count').reset_index(drop=True)\n",
        "w\n",
        "# yha se aap states wise no. of orders bhi nikal skte hai."
      ]
    },
    {
      "cell_type": "code",
      "execution_count": null,
      "metadata": {
        "id": "6a_5sbgv9Lbd"
      },
      "outputs": [],
      "source": [
        "# now i want to find the no. of orders of each city like in avondale city no.of orders = 6\n",
        "w = df.groupby(['State','City'])['Customer Name'].value_counts()\n",
        "city_counts = w.groupby(level=[0, 1]).sum() # The groupby method with level=[0, 1] specifies that we want to group by the first and second levels of the index (State and City) and then apply the sum method to get the sum of the value_counts for each City.\n",
        "#here (level=[0,1]).sum()-- means level-0 = 0th column of w and level-1 = 1st column and then sum it.\n",
        "# bole to = ex- jha jha state = arizona hai(level-0) and jha khi bhi city=avondale ho unka sum krdo.\n",
        "print(city_counts)\n",
        "\n"
      ]
    },
    {
      "cell_type": "code",
      "execution_count": null,
      "metadata": {
        "id": "qaFfz6QYA4Qc"
      },
      "outputs": [],
      "source": [
        "# it also gives us the same answer, as above code gives.\n",
        "s1= df.groupby(['State', 'City']).size() # The size() method in Pandas is used to get the \n",
        "#number of rows (i.e., observations) in each group of a groupby object.\n",
        "# means ex- state = arizona , and city = avondale, jha b ye dikhe unko grp by krdo or unka size(jitni bar ye aae hai means count hue hai usko batao)\n",
        "print(s1)\n",
        "\n",
        "''' when you run c,d,e,f,w then you will find there is name ,length,dtype is - written in last line but in s1 or in this code, when you run this then- Name will not come in last, so bcoz of this when you merge s1 with any other line it will gives you a value error- ValueError: Cannot merge a Series without a name. so to resolve this error you have to  assign a name to s1\n",
        "assigning a name to s1 by two methods = 1st method.-  in second line write- s1.name = 'Size' (or any name u can give)\n",
        "2nd method- s1 = df.groupby(['State', 'City']).size().rename('Size')'''\n",
        "\n"
      ]
    },
    {
      "cell_type": "code",
      "execution_count": null,
      "metadata": {
        "id": "MXNYmkk8bIin"
      },
      "outputs": [],
      "source": [
        "m= pd.merge(c,d,how='left',on=['State','City'])\n",
        "m=pd.merge(pd.merge(m,e,how='left',on=['State','City']),f,how='left',on=['State','City'])\n",
        "m= pd.merge(m,s1 ,how='left',on=['State','City'])\n",
        "m.rename({'Quantity':'Avg. Order Quantity', 'Customer Name_y':'no._of_orders',\n",
        "'Customer Name_x':'Customers',},axis=1,inplace=True)\n",
        "m\n",
        "#m.rename(columns={'Quantity':'Avg. Order Quantity'})\n",
        "#isme column ko rename krne k lie rename method ka use kia tha but in that code we use-- (g.column=['value_counts'])"
      ]
    },
    {
      "cell_type": "code",
      "execution_count": null,
      "metadata": {
        "id": "XDi4irQZVw_u"
      },
      "outputs": [],
      "source": [
        "xyz = m.reset_index()\n",
        "xyz"
      ]
    },
    {
      "cell_type": "code",
      "execution_count": null,
      "metadata": {
        "id": "Ydlhz_V_sAqH"
      },
      "outputs": [],
      "source": [
        "h= df.groupby(['State','City'])['Customer Name'].nunique()\n",
        "h"
      ]
    },
    {
      "cell_type": "code",
      "execution_count": null,
      "metadata": {
        "id": "YjfBwM89sJcM"
      },
      "outputs": [],
      "source": [
        "df"
      ]
    },
    {
      "cell_type": "code",
      "execution_count": null,
      "metadata": {
        "id": "1jukqbl3Ulil"
      },
      "outputs": [],
      "source": [
        "f = df.groupby(['State','City'])['Customer Name'].nunique()\n",
        "print(f)"
      ]
    },
    {
      "cell_type": "code",
      "execution_count": null,
      "metadata": {
        "id": "URpNsJMK9YlI"
      },
      "outputs": [],
      "source": [
        "g = df.groupby(['State','City'])['Customer Name'].value_counts()\n",
        "print(g)"
      ]
    },
    {
      "cell_type": "code",
      "execution_count": null,
      "metadata": {
        "id": "511l6pgKcaCA"
      },
      "outputs": [],
      "source": [
        "f_df = pd.DataFrame(f)\n",
        "f_df"
      ]
    },
    {
      "cell_type": "code",
      "execution_count": null,
      "metadata": {
        "id": "i2u2TuTF9mFT"
      },
      "outputs": [],
      "source": [
        "g = pd.DataFrame(g)\n",
        "g"
      ]
    },
    {
      "cell_type": "code",
      "execution_count": null,
      "metadata": {
        "id": "PyHowwD7Xx6L"
      },
      "outputs": [],
      "source": [
        "#f_df.columns = ['City']  # Rename the column to 'Count' instead of 'Customer Name'\n",
        "f_df=f_df.rename(columns={'Customer Name':'value_counts'})\n",
        "f_df= f_df.reset_index()\n",
        "#'''g[g['City']=='Avondale']'''\n"
      ]
    },
    {
      "cell_type": "code",
      "execution_count": null,
      "metadata": {
        "id": "kPNN88P69w4m"
      },
      "outputs": [],
      "source": [
        "#g.rename({'Customer Name' : 'value' },axis=1,inplace=True)#you can also use this line to change column name\n",
        "#g.columns = ['value_counts']  # Rename the column to 'Count' instead of 'Customer Name'\n",
        "g=g.rename(columns={'Customer Name':'value_counts'})\n",
        "g = g.reset_index()"
      ]
    },
    {
      "cell_type": "code",
      "execution_count": null,
      "metadata": {
        "id": "sBnnbnFDYR7q"
      },
      "outputs": [],
      "source": [
        "#  Q- to ask -isko run krne k lie mjhe pehle g.reset_index() and g.count kyu lagaya \n",
        "f_df[f_df['State']=='Arizona']\n"
      ]
    },
    {
      "cell_type": "code",
      "execution_count": null,
      "metadata": {
        "id": "nUgnuwX8-BYc"
      },
      "outputs": [],
      "source": [
        "g[g['State']=='Arizona']"
      ]
    },
    {
      "cell_type": "code",
      "execution_count": null,
      "metadata": {
        "id": "XAP4OkylKGJr"
      },
      "outputs": [],
      "source": [
        "f_df = f_df.reset_index().drop('index', axis=1)\n",
        "f_df.columns = ['State', 'City', 'Count']\n"
      ]
    },
    {
      "cell_type": "code",
      "execution_count": null,
      "metadata": {
        "id": "Zdg4Dl2eXbMi"
      },
      "outputs": [],
      "source": [
        "# in do (f_df and g) examples se ye conclusion nikal k aata hai ki no dataframe have same_name 2 columns\n",
        "# g me dataframe bnane k baad jb if u see the dataframe it have 2 columns name same- i.e Customer Name\n",
        "# or koi bhi 2 columns k same naam nhi ho skte islie we have to change 1 columns name"
      ]
    },
    {
      "cell_type": "markdown",
      "metadata": {
        "id": "nNJAPEP-WFX-"
      },
      "source": [
        "Q- Is there any relation between Sales & Profit"
      ]
    },
    {
      "cell_type": "code",
      "execution_count": null,
      "metadata": {
        "id": "LtHqpxP1SZdZ"
      },
      "outputs": [],
      "source": [
        " a = df.groupby(['State'])['Profit'].sum()"
      ]
    },
    {
      "cell_type": "code",
      "execution_count": null,
      "metadata": {
        "id": "LHKZyws3SZG2"
      },
      "outputs": [],
      "source": [
        "b=df.groupby(['State'])['Sales'].sum()"
      ]
    },
    {
      "cell_type": "code",
      "execution_count": null,
      "metadata": {
        "id": "1K60stloSYs8"
      },
      "outputs": [],
      "source": [
        "xy = pd.merge(a,b,how='left',on=['State']).reset_index()\n",
        "xy.sort_values(by='Profit')\n",
        "xy\n",
        "# imp-- jb bhi aapko random index dikhe rows ka(jaise is code me dikh rha hai) or aap usko hta k reset index lgana chahte ho to bs agli line me reset_index(Drop=True) lga dena to ye random index value ko hta k reset index lga dega. jaise mene agle code me lgake dikhaya hai.    dono code ko run krke dekhna u can see the d/f."
      ]
    },
    {
      "cell_type": "code",
      "execution_count": null,
      "metadata": {
        "id": "aQ85ODfpT4b6"
      },
      "outputs": [],
      "source": [
        "ab = pd.merge(a,b,how='left',on=['State']).reset_index()\n",
        "ab.sort_values(by = 'Profit').reset_index(drop=True)\n",
        "ab"
      ]
    },
    {
      "cell_type": "markdown",
      "metadata": {
        "id": "uHzt22dZibDX"
      },
      "source": [
        "**Graph of Sales and Profit Co-Relation by State**"
      ]
    },
    {
      "cell_type": "code",
      "execution_count": null,
      "metadata": {
        "id": "ZG7vSs47JnnG"
      },
      "outputs": [],
      "source": [
        "fig = px.scatter(ab,x='Sales',y='Profit',color='State',title='Sales and Profit Co-Relation by State',size='Sales',hover_name='State')\n",
        "fig.show()\n",
        "\n",
        "# In the given code, size='Profit' is used to set the size of the data points in the scatter plot based on the value of the 'Profit' column. This means that data points with higher 'Profit' values will be represented by larger markers in the plot, while data points with lower 'Profit' values will be represented by smaller markers."
      ]
    },
    {
      "cell_type": "code",
      "execution_count": null,
      "metadata": {
        "id": "LWxfL6N2a0XR"
      },
      "outputs": [],
      "source": [
        "#this graph is the improve version of above graph\n",
        "#by this line - '''fig.update_traces(marker=dict(size=10))''' you can change the size of traces in graph\n",
        "fig = px.scatter(ab, x='Sales', y='Profit', color='State', \n",
        "                 title='Sales and Profit Co-Relation by State', \n",
        "                 hover_name='State', size_max=10)\n",
        "fig.update_traces(marker=dict(size=10))\n",
        "fig.show()\n",
        "\n"
      ]
    },
    {
      "cell_type": "markdown",
      "metadata": {
        "id": "NrhncnD_jFEA"
      },
      "source": [
        "Graph of Sales & Profit Co-Relation by City"
      ]
    },
    {
      "cell_type": "code",
      "execution_count": null,
      "metadata": {
        "id": "NN05Fjs4SNlk"
      },
      "outputs": [],
      "source": [
        "fig=px.scatter(ab,'Sales','Profit',color='State',title='Sales & Profit Co-Relation by City',\n",
        "               size='Sales', hover_name='City')\n",
        "fig.show()\n",
        "# now see how hover_name is imp. , jb hover_name = City daala to jitni cities hai utne point plot honge\n",
        "# it means--(hover_name) points plot krne k kaam aata hai and (color = state) jo right side me  states name\n",
        "# mark hote hai uske kaam aata hai...(by seeing these both chart you can see the diff.)"
      ]
    },
    {
      "cell_type": "code",
      "execution_count": null,
      "metadata": {
        "id": "5KEcGGrmYXA_"
      },
      "outputs": [],
      "source": [
        "# agar hum pichle code ki jagah ye code likhenge na to error dikhaega\n",
        "fig=px.scatter(ab,'Profit','Sales',color='State',title='Sales & Profit Co-Relation by City',\n",
        "               size='Profit', hover_name='City')\n",
        "fig.show()\n",
        "# becoz humne (size = 'Profit') likha hai, means jitna bada profit utna hi bada gole ka size\n",
        "# but agar profit -ve me hua to---tb gola to dikhega hi nhi(or kyunki hamara profit -ve me hai)...islie size = profit pe error dikhaega"
      ]
    },
    {
      "cell_type": "markdown",
      "metadata": {
        "id": "M-FgtKcvKb0K"
      },
      "source": [
        " Q--Is there any relation between No. of Customers & Sales?"
      ]
    },
    {
      "cell_type": "code",
      "execution_count": null,
      "metadata": {
        "id": "m5wC6WwtagrX"
      },
      "outputs": [],
      "source": [
        "zx = df.groupby(['State'])['Customer Name'].nunique().reset_index() # .reset_index() yha islie lga bcoz in next line we r renaming the column and rename func. only works in datafrme, or jb humne pehle code pe .nunique lgaya tha then zx is converted in series and to convert it into dataframe we use rset_index.   \n",
        "zx.rename(columns={'Customer Name':'No. Of Customers'},inplace=True)\n",
        "zy = df.groupby(['State'])['Sales'].sum()\n",
        "zxy = pd.merge(zx,zy,how='left',on=['State']).reset_index()# or yha reset_index islie lgaya bcoz plotly me graph tbhi kaam krta hai jb uske indexes ko reset kr dia jata hai...\n",
        "zxy"
      ]
    },
    {
      "cell_type": "code",
      "execution_count": null,
      "metadata": {
        "id": "cxUS2UpvKKHT"
      },
      "outputs": [],
      "source": [
        "fig=px.scatter(zxy,'No. Of Customers','Sales',color='State',title='No. of Customers & Sales Co-Relation',\n",
        "               hover_name='State',size='No. Of Customers')\n",
        "fig.show()"
      ]
    },
    {
      "cell_type": "markdown",
      "metadata": {
        "id": "LlK1gaWC7d1o"
      },
      "source": [
        "Q-- What is Total share of States in genrating profit?"
      ]
    },
    {
      "cell_type": "code",
      "execution_count": null,
      "metadata": {
        "id": "Iw9A8sl1UBj-"
      },
      "outputs": [],
      "source": [
        "wx = df.groupby(['State'])['Profit'].sum().reset_index()\n",
        "wx"
      ]
    },
    {
      "cell_type": "code",
      "execution_count": null,
      "metadata": {
        "id": "Awa3yf7VBF3W"
      },
      "outputs": [],
      "source": [
        "fig= px.pie(wx,names=wx['State'],values=wx['Profit'],title='Profit Output By State')\n",
        "fig.show()\n",
        "# here names and values these 2 things r there which means - pie chart ko banane k lie 2 chije chahiye hoti hai, 1st=name and 2nd = value, - kis chij ka name tum vha show krna chah rhe ho....so here we write -wx dataframe ka state column ko hum as a name lenge and pie chart me kis chij ki values daalna chahte ho, to hum isme wx dataFrme k profit column ko as values choose krte hai.\n",
        "\n",
        "# mene alag method se same pie chart niche b banaya hai."
      ]
    },
    {
      "cell_type": "code",
      "execution_count": null,
      "metadata": {
        "id": "hvtKjxFq_B2H"
      },
      "outputs": [],
      "source": [
        "fig = px.pie(wx,'State','Profit',color='State',title='Profit output by state',hover_name='State')\n",
        "fig.show()\n",
        "# hover name is used to add extra information to graph when we put pointer on it.\n",
        "# here instead of using names and values, we directly use columns name-- state and profit becoz it is by default that in first position- names will come and in second position values will come, it is like x and y axis. "
      ]
    },
    {
      "cell_type": "markdown",
      "metadata": {
        "id": "C7rA5B8VFrEH"
      },
      "source": [
        "Q--. What is the share of each states in genrating sales for wallmart?"
      ]
    },
    {
      "cell_type": "code",
      "execution_count": null,
      "metadata": {
        "id": "RPTFX87VFxhC"
      },
      "outputs": [],
      "source": [
        " wy = df.groupby('State')['Sales'].sum().reset_index()\n",
        " wy"
      ]
    },
    {
      "cell_type": "code",
      "execution_count": null,
      "metadata": {
        "id": "1XPq3QCMN_DO"
      },
      "outputs": [],
      "source": [
        "fig = px.pie(wy,'State','Sales',title='Sales output by each state',hover_name='State')\n",
        "fig.show()"
      ]
    },
    {
      "cell_type": "markdown",
      "metadata": {
        "id": "nhgVqBNQPDv6"
      },
      "source": [
        "California has the biggest share and genrates 63% of wallmart's revennue. Washington stand 2nd with contribution of 19.1%."
      ]
    },
    {
      "cell_type": "markdown",
      "metadata": {
        "id": "VTAoS2brQuWR"
      },
      "source": [
        "Q--. What is the share of each state in terms of footfall?    ...# footfall means how many customers  came into wallmart"
      ]
    },
    {
      "cell_type": "code",
      "execution_count": null,
      "metadata": {
        "id": "wzQ1wENPOzI0"
      },
      "outputs": [],
      "source": [
        "wz = df.groupby('State')['Customer Name'].nunique().reset_index()\n",
        "wz.rename(columns={'Customer Name':'No. of unique Customers'},inplace=True)\n",
        "wz"
      ]
    },
    {
      "cell_type": "code",
      "execution_count": null,
      "metadata": {
        "id": "SBtGl2ekR43c"
      },
      "outputs": [],
      "source": [
        "fig = px.pie(wz,'State','No. of unique Customers',title= 'footfall per State',hover_name='State')\n",
        "fig.show()"
      ]
    },
    {
      "cell_type": "markdown",
      "metadata": {
        "id": "p7uTFAYPU-TF"
      },
      "source": [
        "California is the 1st in the terms of footfall and has 61.5% of total footfall in wallmart."
      ]
    },
    {
      "cell_type": "code",
      "execution_count": null,
      "metadata": {
        "id": "8D0xyuRviMhj"
      },
      "outputs": [],
      "source": [
        "cd= df.groupby(['State', 'City'])['Customer Name'].nunique()\n",
        "\n",
        "# Find the city with the highest number of customers in each state\n",
        "best_cities = cd.groupby('State').nlargest()\n",
        "best_cities\n",
        "# .nlargest() method will not work in dataframe, it only works in series object....so if u write .reset_index() in 'cd' vaali line -it will gives u error. "
      ]
    },
    {
      "cell_type": "code",
      "execution_count": null,
      "metadata": {
        "id": "W2YHHtr4wmTl"
      },
      "outputs": [],
      "source": [
        "cd= df.groupby(['State', 'City'])['Customer Name'].nunique()\n",
        "\n",
        "# Find the city with the highest number of customers in each state\n",
        "best_cities = cd.groupby('State').nlargest(1).reset_index(level=1, drop=True)\n",
        "best_cities\n"
      ]
    },
    {
      "cell_type": "code",
      "execution_count": null,
      "metadata": {
        "id": "bu30ETkrx27w"
      },
      "outputs": [],
      "source": [
        "best_cities = df.groupby(['State', 'City'])['Customer Name'].nunique().reset_index()\n",
        "idx = best_cities.groupby('State')['Customer Name'].idxmax()\n",
        "best_cities.loc[idx, ['State', 'City']]\n"
      ]
    },
    {
      "cell_type": "code",
      "execution_count": null,
      "metadata": {
        "id": "RVuIbxCFy-Zb"
      },
      "outputs": [],
      "source": [
        "best_cities = df.groupby(['State', 'City'])['Customer Name'].nunique().reset_index()\n",
        "idx = best_cities.groupby('State')['Customer Name'].idxmax()\n",
        "result = best_cities.loc[idx, ['State', 'City', 'Customer Name']].reset_index(drop=True)\n",
        "result\n"
      ]
    },
    {
      "cell_type": "code",
      "execution_count": null,
      "metadata": {
        "id": "Qyvk9yk3l-zx"
      },
      "outputs": [],
      "source": [
        "# i write this code, but this code is for to see how .size() and .nlargest() method works. \n",
        "#counts_by_state = df.groupby(['State', 'City']).size().groupby('State').nlargest(1)\n",
        "\n",
        "#print(counts_by_state) "
      ]
    },
    {
      "cell_type": "code",
      "execution_count": null,
      "metadata": {
        "id": "YSdCivAvmeKl"
      },
      "outputs": [],
      "source": [
        "\n",
        "\n"
      ]
    },
    {
      "cell_type": "code",
      "execution_count": null,
      "metadata": {
        "id": "bOen7SR4VARk"
      },
      "outputs": [],
      "source": [
        "#m['Customers'].nlargest(10)"
      ]
    },
    {
      "cell_type": "markdown",
      "metadata": {
        "id": "XX3f8tthZUUh"
      },
      "source": [
        "Q--.In each State which is the best performing city in term of no. of customers?"
      ]
    },
    {
      "cell_type": "code",
      "execution_count": null,
      "metadata": {
        "id": "1Yk3Klrh5JEY"
      },
      "outputs": [],
      "source": [
        "xs = df.groupby(['State','City'])['Customer Name'].nunique().reset_index()\n",
        "es = xs.groupby(['State'])['Customer Name'].idxmax()\n",
        "result = xs.loc[es]\n",
        "result"
      ]
    },
    {
      "cell_type": "code",
      "execution_count": null,
      "metadata": {
        "id": "ZhQpKNnZ5J8a"
      },
      "outputs": [],
      "source": [
        "fig = px.bar(result,'State','Customer Name',color='State',title='\"Best Performing Cities by Number of Customers per State\"')\n",
        "fig.show()"
      ]
    },
    {
      "cell_type": "code",
      "execution_count": null,
      "metadata": {
        "id": "Myy1nc0coe7w"
      },
      "outputs": [],
      "source": [
        "# now find top 10 customers which generated highest profit"
      ]
    },
    {
      "cell_type": "code",
      "execution_count": null,
      "metadata": {
        "id": "hWxBeIan-xAC"
      },
      "outputs": [],
      "source": [
        "\n",
        "cv=df.groupby('Customer Name')['Profit'].sum()\n",
        "yv=df.groupby(['Customer Name'])['Quantity'].sum()\n",
        "iv=df.groupby(['Customer Name'])['Sales'].sum()\n",
        "qv = pd.merge(pd.merge(cv,yv,how='left',on='Customer Name'),iv,how='left',on='Customer Name')\n",
        "qv\n",
        "# hum keval customer name par merge or groupby nhi kr skte becoz koi baar aisa hota hai ki alag alag states me same naam or caste k 2 persons ho skte hai...islie ye code shi nhi hai 2nd vaala code shi hai."
      ]
    },
    {
      "cell_type": "code",
      "execution_count": null,
      "metadata": {
        "id": "cL-FZZ96wYT4"
      },
      "outputs": [],
      "source": []
    },
    {
      "cell_type": "code",
      "execution_count": null,
      "metadata": {
        "id": "shKjg46r64O6"
      },
      "outputs": [],
      "source": [
        "cv=df.groupby(['State','Customer Name'])['Profit'].sum()\n",
        "yv=df.groupby(['State','Customer Name'])['Quantity'].sum()\n",
        "iv=df.groupby(['State','Customer Name'])['Sales'].sum()\n",
        "qv=pd.merge(pd.merge(cv,yv,how='left',on=['State','Customer Name']),iv,how='left',on=['State','Customer Name'])\n",
        "#qv.sort_values(by='Customer Name')  -- to aapko ye pta chalega ki ek naam k 2 persons b hai alag alag states me.\n",
        "qv\n",
        "#  in dono code ko jb aap run kroge to 1st set of code me 686 rows dega and 2nd set of code me arnd 2200 rows hongi or jb merge hme on=customer name pe hi krna hai to state column ho ya na ho usse to koi farak pdna nhi chahiye... but this 2nd code is right"
      ]
    },
    {
      "cell_type": "code",
      "execution_count": null,
      "metadata": {
        "id": "eivFTNoY8siL"
      },
      "outputs": [],
      "source": [
        "cv = df.groupby(['State','Customer Name'])['Profit'].sum().reset_index()# yha pe reset_index()-toconvert into dataframe\n",
        "\n",
        "cv = cv.sort_values(by='Profit',ascending=False).reset_index().head(10)\n",
        "cv\n",
        "# you can get top 10 customers by this code also and by nlargest also which is written in next code."
      ]
    },
    {
      "cell_type": "code",
      "execution_count": null,
      "metadata": {
        "id": "G6MTE_Dp_7Z7"
      },
      "outputs": [],
      "source": [
        "xx = qv.nlargest(10,'Profit')\n",
        "xx.reset_index(inplace=True) # or assign reset_index() to a variable\n",
        "xx"
      ]
    },
    {
      "cell_type": "markdown",
      "metadata": {
        "id": "KfRoS3-lByT1"
      },
      "source": [
        " Q--What 10 Customers have genrated us the most Profit?"
      ]
    },
    {
      "cell_type": "code",
      "execution_count": null,
      "metadata": {
        "id": "vh9WgodnATL5"
      },
      "outputs": [],
      "source": [
        "fig=px.bar(xx,'Customer Name','Profit',color='Customer Name',title= 'Top 10 most profitable customer')\n",
        "fig.show()"
      ]
    },
    {
      "cell_type": "markdown",
      "metadata": {
        "id": "_g5JTHWznPU_"
      },
      "source": [
        "Q--In each state which is the top customer in terms of profit?"
      ]
    },
    {
      "cell_type": "code",
      "execution_count": null,
      "metadata": {
        "id": "QcOG8XnkCp7p"
      },
      "outputs": [],
      "source": [
        "''' imp information'''\n",
        "#top_cs = df.groupby(['State','Sales'])['Profit'].sum().reset_index()\n",
        "#top_cs=top_cs.groupby(['State']).idxmax()\n",
        "#top_cs\n",
        "# idxmax() method tbhi lgega jb kewal ek column ho jisme numerical value ho...in this there is 2 numerical values therefore it gives us wrong answer"
      ]
    },
    {
      "cell_type": "code",
      "execution_count": null,
      "metadata": {
        "id": "XaVvEzWyqtgm"
      },
      "outputs": [],
      "source": [
        "top_cs = df.groupby(['State','Customer Name'])['Profit'].sum().reset_index()\n",
        "max_idx=top_cs.groupby(['State'])['Profit'].idxmax()\n",
        "max_value=top_cs.loc[max_idx].reset_index()\n",
        "max_value"
      ]
    },
    {
      "cell_type": "markdown",
      "metadata": {
        "id": "NTE9XrZf0q8Y"
      },
      "source": [
        "Q--In each state which is the top customer in terms of profit?"
      ]
    },
    {
      "cell_type": "code",
      "execution_count": null,
      "metadata": {
        "id": "-KKmNGvFyd9N"
      },
      "outputs": [],
      "source": [
        "fig= px.bar(max_value,'State','Profit',color='State',hover_name='Customer Name')\n",
        "fig.show()\n",
        "# hover_name-- gives you or adds  extra information on graphs, when you click on the ars of the data"
      ]
    },
    {
      "cell_type": "markdown",
      "metadata": {
        "id": "pbzDkpwk1H1z"
      },
      "source": [
        "Q--. Which Top 10 customers has caused the most losses to us?"
      ]
    },
    {
      "cell_type": "code",
      "execution_count": null,
      "metadata": {
        "id": "nUS-1eK65Tnh"
      },
      "outputs": [],
      "source": [
        "most_losses = df.groupby(['State','City','Customer Name'])['Profit'].sum().reset_index()\n",
        "most_losses = most_losses.sort_values(by='Profit', ascending=True).head(10).reset_index()\n",
        "most_losses = most_losses.rename(columns={'Profit':'Loss'})\n",
        "most_losses\n",
        "# In series 'by' parameter not works in sort_values, so you should apply reset_index (in first line)by this it converts into dataframe then you can able to apply sort_values.\n"
      ]
    },
    {
      "cell_type": "code",
      "execution_count": null,
      "metadata": {
        "id": "WvAlSKPaalOh"
      },
      "outputs": [],
      "source": [
        "fig=px.bar(most_losses,'Customer Name','Loss',color='Customer Name',title= 'Top 10 losses in Wallmart',hover_name='City')\n",
        "fig.show()"
      ]
    },
    {
      "cell_type": "markdown",
      "metadata": {
        "id": "VkUYCPTveVNJ"
      },
      "source": [
        "Q-- In each state which is the Top customer in terms of losess"
      ]
    },
    {
      "cell_type": "code",
      "execution_count": null,
      "metadata": {
        "id": "0CF7xAIKdJLX"
      },
      "outputs": [],
      "source": [
        "dp = df.groupby(['State','City','Customer Name'])['Profit'].sum().reset_index()\n",
        "\n",
        "sp=dp.sort_values(by='Profit',ascending = True)\n",
        "pdd = sp.groupby('State')['Profit'].idxmin()\n",
        "result_2 = sp.loc[pdd]\n",
        "result_2= result_2.rename(columns={'Profit':'Loss'})\n",
        "result_2\n",
        "# as we use idxmax- to get index of max value, - and -same we can use idxmin- to get index of min value "
      ]
    },
    {
      "cell_type": "code",
      "execution_count": null,
      "metadata": {
        "id": "1VTmsmkUgTCc"
      },
      "outputs": [],
      "source": [
        "fig = px.bar(result_2,'State','Loss',color='State',hover_name='Customer Name')\n",
        "fig.show()"
      ]
    },
    {
      "cell_type": "markdown",
      "metadata": {
        "id": "1Kt9YZTP3rff"
      },
      "source": [
        "Monthly Sales over months of all years ?"
      ]
    },
    {
      "cell_type": "code",
      "execution_count": null,
      "metadata": {
        "id": "pK2gx5X12wJy"
      },
      "outputs": [],
      "source": [
        "monthly_sales = df.groupby(pd.Grouper(key='Order Date', freq='M'))['Sales'].sum()\n",
        "#monthly_sales_growth = monthly_sales.pct_change()\n",
        "monthly_sales_growth=pd.DataFrame(monthly_sales_growth)\n",
        "monthly_sales_growth\n",
        "# this code if u want sales in percentage and ask this code from chat gpt  it will explain u more clearly."
      ]
    },
    {
      "cell_type": "code",
      "execution_count": null,
      "metadata": {
        "id": "srizaCeNfhkp"
      },
      "outputs": [],
      "source": [
        "monthly_sales = df.groupby(pd.Grouper(key='Order Date', freq='M'))['Sales'].sum()\n",
        "#monthly_sales = monthly_sales.reset_index()\n",
        "#monthly_sales = monthly_sales.rename(columns={'Sales': 'Total Sales'})\n",
        "monthly_sales\n",
        "# and this code gives u total sales of each month.\n"
      ]
    }
  ],
  "metadata": {
    "colab": {
      "provenance": []
    },
    "kernelspec": {
      "display_name": "Python 3",
      "name": "python3"
    },
    "language_info": {
      "name": "python"
    }
  },
  "nbformat": 4,
  "nbformat_minor": 0
}