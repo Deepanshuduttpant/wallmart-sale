{
  "cells": [
    {
      "cell_type": "markdown",
      "metadata": {
        "id": "view-in-github",
        "colab_type": "text"
      },
      "source": [
        "<a href=\"https://colab.research.google.com/github/Deepanshuduttpant/wallmart-sale/blob/main/Wallmart_sales_analysis.ipynb\" target=\"_parent\"><img src=\"https://colab.research.google.com/assets/colab-badge.svg\" alt=\"Open In Colab\"/></a>"
      ]
    },
    {
      "cell_type": "code",
      "execution_count": null,
      "metadata": {
        "id": "hctGnWyMrDPX"
      },
      "outputs": [],
      "source": [
        "import pandas as pd \n",
        "import numpy as np\n",
        "import plotly.express as px"
      ]
    },
    {
      "cell_type": "code",
      "execution_count": null,
      "metadata": {
        "id": "tP8Il3yOrE6q"
      },
      "outputs": [],
      "source": [
        "df1 = pd.read_csv('/content/Walmart.csv')"
      ]
    },
    {
      "cell_type": "markdown",
      "metadata": {
        "id": "6iRJgitArSMk"
      },
      "source": [
        "# Basic level analysis"
      ]
    },
    {
      "cell_type": "code",
      "execution_count": null,
      "metadata": {
        "colab": {
          "base_uri": "https://localhost:8080/",
          "height": 354
        },
        "id": "HF3gToc2rPeM",
        "outputId": "7ffb5ae5-5f4d-48de-ec32-3ea959581c9a"
      },
      "outputs": [
        {
          "data": {
            "text/html": [
              "\n",
              "  <div id=\"df-e2bcad8d-3d03-4345-bac8-441d22abd396\">\n",
              "    <div class=\"colab-df-container\">\n",
              "      <div>\n",
              "<style scoped>\n",
              "    .dataframe tbody tr th:only-of-type {\n",
              "        vertical-align: middle;\n",
              "    }\n",
              "\n",
              "    .dataframe tbody tr th {\n",
              "        vertical-align: top;\n",
              "    }\n",
              "\n",
              "    .dataframe thead th {\n",
              "        text-align: right;\n",
              "    }\n",
              "</style>\n",
              "<table border=\"1\" class=\"dataframe\">\n",
              "  <thead>\n",
              "    <tr style=\"text-align: right;\">\n",
              "      <th></th>\n",
              "      <th>Order ID</th>\n",
              "      <th>Order Date</th>\n",
              "      <th>Ship Date</th>\n",
              "      <th>Customer Name</th>\n",
              "      <th>Country</th>\n",
              "      <th>City</th>\n",
              "      <th>State</th>\n",
              "      <th>Category</th>\n",
              "      <th>Product Name</th>\n",
              "      <th>Sales</th>\n",
              "      <th>Quantity</th>\n",
              "      <th>Profit</th>\n",
              "    </tr>\n",
              "  </thead>\n",
              "  <tbody>\n",
              "    <tr>\n",
              "      <th>0</th>\n",
              "      <td>CA-2013-138688</td>\n",
              "      <td>13-06-2013</td>\n",
              "      <td>17-06-2013</td>\n",
              "      <td>Darrin Van Huff</td>\n",
              "      <td>United States</td>\n",
              "      <td>Los Angeles</td>\n",
              "      <td>California</td>\n",
              "      <td>Labels</td>\n",
              "      <td>Self-Adhesive Address Labels for Typewriters b...</td>\n",
              "      <td>14.62</td>\n",
              "      <td>2.0</td>\n",
              "      <td>6.87</td>\n",
              "    </tr>\n",
              "    <tr>\n",
              "      <th>1</th>\n",
              "      <td>CA-2011-115812</td>\n",
              "      <td>09-06-2011</td>\n",
              "      <td>14-06-2011</td>\n",
              "      <td>Brosina Hoffman</td>\n",
              "      <td>United States</td>\n",
              "      <td>Los Angeles</td>\n",
              "      <td>California</td>\n",
              "      <td>Furnishings</td>\n",
              "      <td>Eldon Expressions Wood and Plastic Desk Access...</td>\n",
              "      <td>48.86</td>\n",
              "      <td>7.0</td>\n",
              "      <td>14.17</td>\n",
              "    </tr>\n",
              "    <tr>\n",
              "      <th>2</th>\n",
              "      <td>CA-2011-115812</td>\n",
              "      <td>09-06-2011</td>\n",
              "      <td>14-06-2011</td>\n",
              "      <td>Brosina Hoffman</td>\n",
              "      <td>United States</td>\n",
              "      <td>Los Angeles</td>\n",
              "      <td>California</td>\n",
              "      <td>Art</td>\n",
              "      <td>Newell 322</td>\n",
              "      <td>7.28</td>\n",
              "      <td>4.0</td>\n",
              "      <td>1.97</td>\n",
              "    </tr>\n",
              "    <tr>\n",
              "      <th>3</th>\n",
              "      <td>CA-2011-115812</td>\n",
              "      <td>09-06-2011</td>\n",
              "      <td>14-06-2011</td>\n",
              "      <td>Brosina Hoffman</td>\n",
              "      <td>United States</td>\n",
              "      <td>Los Angeles</td>\n",
              "      <td>California</td>\n",
              "      <td>Phones</td>\n",
              "      <td>Mitel 5320 IP Phone VoIP phone</td>\n",
              "      <td>907.15</td>\n",
              "      <td>4.0</td>\n",
              "      <td>90.72</td>\n",
              "    </tr>\n",
              "    <tr>\n",
              "      <th>4</th>\n",
              "      <td>CA-2011-115812</td>\n",
              "      <td>09-06-2011</td>\n",
              "      <td>14-06-2011</td>\n",
              "      <td>Brosina Hoffman</td>\n",
              "      <td>United States</td>\n",
              "      <td>Los Angeles</td>\n",
              "      <td>California</td>\n",
              "      <td>Binders</td>\n",
              "      <td>DXL Angle-View Binders with Locking Rings by S...</td>\n",
              "      <td>18.50</td>\n",
              "      <td>3.0</td>\n",
              "      <td>5.78</td>\n",
              "    </tr>\n",
              "  </tbody>\n",
              "</table>\n",
              "</div>\n",
              "      <button class=\"colab-df-convert\" onclick=\"convertToInteractive('df-e2bcad8d-3d03-4345-bac8-441d22abd396')\"\n",
              "              title=\"Convert this dataframe to an interactive table.\"\n",
              "              style=\"display:none;\">\n",
              "        \n",
              "  <svg xmlns=\"http://www.w3.org/2000/svg\" height=\"24px\"viewBox=\"0 0 24 24\"\n",
              "       width=\"24px\">\n",
              "    <path d=\"M0 0h24v24H0V0z\" fill=\"none\"/>\n",
              "    <path d=\"M18.56 5.44l.94 2.06.94-2.06 2.06-.94-2.06-.94-.94-2.06-.94 2.06-2.06.94zm-11 1L8.5 8.5l.94-2.06 2.06-.94-2.06-.94L8.5 2.5l-.94 2.06-2.06.94zm10 10l.94 2.06.94-2.06 2.06-.94-2.06-.94-.94-2.06-.94 2.06-2.06.94z\"/><path d=\"M17.41 7.96l-1.37-1.37c-.4-.4-.92-.59-1.43-.59-.52 0-1.04.2-1.43.59L10.3 9.45l-7.72 7.72c-.78.78-.78 2.05 0 2.83L4 21.41c.39.39.9.59 1.41.59.51 0 1.02-.2 1.41-.59l7.78-7.78 2.81-2.81c.8-.78.8-2.07 0-2.86zM5.41 20L4 18.59l7.72-7.72 1.47 1.35L5.41 20z\"/>\n",
              "  </svg>\n",
              "      </button>\n",
              "      \n",
              "  <style>\n",
              "    .colab-df-container {\n",
              "      display:flex;\n",
              "      flex-wrap:wrap;\n",
              "      gap: 12px;\n",
              "    }\n",
              "\n",
              "    .colab-df-convert {\n",
              "      background-color: #E8F0FE;\n",
              "      border: none;\n",
              "      border-radius: 50%;\n",
              "      cursor: pointer;\n",
              "      display: none;\n",
              "      fill: #1967D2;\n",
              "      height: 32px;\n",
              "      padding: 0 0 0 0;\n",
              "      width: 32px;\n",
              "    }\n",
              "\n",
              "    .colab-df-convert:hover {\n",
              "      background-color: #E2EBFA;\n",
              "      box-shadow: 0px 1px 2px rgba(60, 64, 67, 0.3), 0px 1px 3px 1px rgba(60, 64, 67, 0.15);\n",
              "      fill: #174EA6;\n",
              "    }\n",
              "\n",
              "    [theme=dark] .colab-df-convert {\n",
              "      background-color: #3B4455;\n",
              "      fill: #D2E3FC;\n",
              "    }\n",
              "\n",
              "    [theme=dark] .colab-df-convert:hover {\n",
              "      background-color: #434B5C;\n",
              "      box-shadow: 0px 1px 3px 1px rgba(0, 0, 0, 0.15);\n",
              "      filter: drop-shadow(0px 1px 2px rgba(0, 0, 0, 0.3));\n",
              "      fill: #FFFFFF;\n",
              "    }\n",
              "  </style>\n",
              "\n",
              "      <script>\n",
              "        const buttonEl =\n",
              "          document.querySelector('#df-e2bcad8d-3d03-4345-bac8-441d22abd396 button.colab-df-convert');\n",
              "        buttonEl.style.display =\n",
              "          google.colab.kernel.accessAllowed ? 'block' : 'none';\n",
              "\n",
              "        async function convertToInteractive(key) {\n",
              "          const element = document.querySelector('#df-e2bcad8d-3d03-4345-bac8-441d22abd396');\n",
              "          const dataTable =\n",
              "            await google.colab.kernel.invokeFunction('convertToInteractive',\n",
              "                                                     [key], {});\n",
              "          if (!dataTable) return;\n",
              "\n",
              "          const docLinkHtml = 'Like what you see? Visit the ' +\n",
              "            '<a target=\"_blank\" href=https://colab.research.google.com/notebooks/data_table.ipynb>data table notebook</a>'\n",
              "            + ' to learn more about interactive tables.';\n",
              "          element.innerHTML = '';\n",
              "          dataTable['output_type'] = 'display_data';\n",
              "          await google.colab.output.renderOutput(dataTable, element);\n",
              "          const docLink = document.createElement('div');\n",
              "          docLink.innerHTML = docLinkHtml;\n",
              "          element.appendChild(docLink);\n",
              "        }\n",
              "      </script>\n",
              "    </div>\n",
              "  </div>\n",
              "  "
            ],
            "text/plain": [
              "         Order ID  Order Date   Ship Date    Customer Name        Country  \\\n",
              "0  CA-2013-138688  13-06-2013  17-06-2013  Darrin Van Huff  United States   \n",
              "1  CA-2011-115812  09-06-2011  14-06-2011  Brosina Hoffman  United States   \n",
              "2  CA-2011-115812  09-06-2011  14-06-2011  Brosina Hoffman  United States   \n",
              "3  CA-2011-115812  09-06-2011  14-06-2011  Brosina Hoffman  United States   \n",
              "4  CA-2011-115812  09-06-2011  14-06-2011  Brosina Hoffman  United States   \n",
              "\n",
              "          City       State     Category  \\\n",
              "0  Los Angeles  California       Labels   \n",
              "1  Los Angeles  California  Furnishings   \n",
              "2  Los Angeles  California          Art   \n",
              "3  Los Angeles  California       Phones   \n",
              "4  Los Angeles  California      Binders   \n",
              "\n",
              "                                        Product Name   Sales  Quantity  Profit  \n",
              "0  Self-Adhesive Address Labels for Typewriters b...   14.62       2.0    6.87  \n",
              "1  Eldon Expressions Wood and Plastic Desk Access...   48.86       7.0   14.17  \n",
              "2                                         Newell 322    7.28       4.0    1.97  \n",
              "3                     Mitel 5320 IP Phone VoIP phone  907.15       4.0   90.72  \n",
              "4  DXL Angle-View Binders with Locking Rings by S...   18.50       3.0    5.78  "
            ]
          },
          "execution_count": 139,
          "metadata": {},
          "output_type": "execute_result"
        }
      ],
      "source": [
        "df1.head() "
      ]
    },
    {
      "cell_type": "markdown",
      "metadata": {
        "id": "RY06QiRkv5qR"
      },
      "source": [
        "to see the total no of rows and columns"
      ]
    },
    {
      "cell_type": "code",
      "execution_count": null,
      "metadata": {
        "colab": {
          "base_uri": "https://localhost:8080/"
        },
        "id": "BW0fyxLWramC",
        "outputId": "b31c27e6-2053-470b-e1e3-5c571c4187be"
      },
      "outputs": [
        {
          "data": {
            "text/plain": [
              "(3203, 12)"
            ]
          },
          "execution_count": 140,
          "metadata": {},
          "output_type": "execute_result"
        }
      ],
      "source": [
        "df1.shape"
      ]
    },
    {
      "cell_type": "markdown",
      "metadata": {
        "id": "4cShjYjCwCRm"
      },
      "source": [
        "to see the names of the columns"
      ]
    },
    {
      "cell_type": "code",
      "execution_count": null,
      "metadata": {
        "colab": {
          "base_uri": "https://localhost:8080/"
        },
        "id": "UCFJ3XVLwACK",
        "outputId": "6e0022ef-64f6-48a5-b31e-bfa2a061fd79"
      },
      "outputs": [
        {
          "data": {
            "text/plain": [
              "['Order ID',\n",
              " 'Order Date',\n",
              " 'Ship Date',\n",
              " 'Customer Name',\n",
              " 'Country',\n",
              " 'City',\n",
              " 'State',\n",
              " 'Category',\n",
              " 'Product Name',\n",
              " 'Sales',\n",
              " 'Quantity',\n",
              " 'Profit']"
            ]
          },
          "execution_count": 141,
          "metadata": {},
          "output_type": "execute_result"
        }
      ],
      "source": [
        "list(df1.columns)"
      ]
    },
    {
      "cell_type": "code",
      "execution_count": null,
      "metadata": {
        "colab": {
          "base_uri": "https://localhost:8080/"
        },
        "id": "Tt7wG_BWwJtY",
        "outputId": "79e17721-59f3-45fb-f570-66d4367700eb"
      },
      "outputs": [
        {
          "name": "stdout",
          "output_type": "stream",
          "text": [
            "<class 'pandas.core.frame.DataFrame'>\n",
            "RangeIndex: 3203 entries, 0 to 3202\n",
            "Data columns (total 12 columns):\n",
            " #   Column         Non-Null Count  Dtype  \n",
            "---  ------         --------------  -----  \n",
            " 0   Order ID       3203 non-null   object \n",
            " 1   Order Date     3203 non-null   object \n",
            " 2   Ship Date      3203 non-null   object \n",
            " 3   Customer Name  3203 non-null   object \n",
            " 4   Country        3203 non-null   object \n",
            " 5   City           3203 non-null   object \n",
            " 6   State          3203 non-null   object \n",
            " 7   Category       3203 non-null   object \n",
            " 8   Product Name   3203 non-null   object \n",
            " 9   Sales          3203 non-null   float64\n",
            " 10  Quantity       3203 non-null   float64\n",
            " 11  Profit         3203 non-null   float64\n",
            "dtypes: float64(3), object(9)\n",
            "memory usage: 300.4+ KB\n"
          ]
        }
      ],
      "source": [
        "df1.info()"
      ]
    },
    {
      "cell_type": "markdown",
      "metadata": {
        "id": "Hq4fxEi8eoCe"
      },
      "source": [
        "to see the null values "
      ]
    },
    {
      "cell_type": "code",
      "execution_count": null,
      "metadata": {
        "colab": {
          "base_uri": "https://localhost:8080/"
        },
        "id": "q0PQmZJMw-qQ",
        "outputId": "d461818b-4109-4487-9c71-e02a254d38f3"
      },
      "outputs": [
        {
          "data": {
            "text/plain": [
              "Order ID         0\n",
              "Order Date       0\n",
              "Ship Date        0\n",
              "Customer Name    0\n",
              "Country          0\n",
              "City             0\n",
              "State            0\n",
              "Category         0\n",
              "Product Name     0\n",
              "Sales            0\n",
              "Quantity         0\n",
              "Profit           0\n",
              "dtype: int64"
            ]
          },
          "execution_count": 143,
          "metadata": {},
          "output_type": "execute_result"
        }
      ],
      "source": [
        "df1.isna().sum()"
      ]
    },
    {
      "cell_type": "code",
      "execution_count": null,
      "metadata": {
        "colab": {
          "base_uri": "https://localhost:8080/"
        },
        "id": "s3RJmaFnxYcS",
        "outputId": "294c20c6-e6be-47b9-9179-3d3b9fb6d4b2"
      },
      "outputs": [
        {
          "data": {
            "text/plain": [
              "Order ID         1611\n",
              "Order Date        845\n",
              "Ship Date         911\n",
              "Customer Name     686\n",
              "Country             1\n",
              "City              169\n",
              "State              11\n",
              "Category           17\n",
              "Product Name     1494\n",
              "Sales            2295\n",
              "Quantity           14\n",
              "Profit           2164\n",
              "dtype: int64"
            ]
          },
          "execution_count": 144,
          "metadata": {},
          "output_type": "execute_result"
        }
      ],
      "source": [
        "df1.nunique()"
      ]
    },
    {
      "cell_type": "markdown",
      "metadata": {
        "id": "_7WC_VVFeu_X"
      },
      "source": [
        "converting order date and ship date datatype to datetime "
      ]
    },
    {
      "cell_type": "code",
      "execution_count": null,
      "metadata": {
        "colab": {
          "base_uri": "https://localhost:8080/"
        },
        "id": "49NPJgpRxw7P",
        "outputId": "8c8fff2b-8bb8-4db3-9ef0-d6cb5f680676"
      },
      "outputs": [
        {
          "name": "stderr",
          "output_type": "stream",
          "text": [
            "<ipython-input-145-a7fea54ccc0d>:1: UserWarning:\n",
            "\n",
            "Parsing dates in DD/MM/YYYY format when dayfirst=False (the default) was specified. This may lead to inconsistently parsed dates! Specify a format to ensure consistent parsing.\n",
            "\n",
            "<ipython-input-145-a7fea54ccc0d>:2: UserWarning:\n",
            "\n",
            "Parsing dates in DD/MM/YYYY format when dayfirst=False (the default) was specified. This may lead to inconsistently parsed dates! Specify a format to ensure consistent parsing.\n",
            "\n"
          ]
        }
      ],
      "source": [
        "df1['Order Date'] = pd.to_datetime(df1['Order Date'])\n",
        "df1['Ship Date'] = pd.to_datetime(df1['Ship Date'])"
      ]
    },
    {
      "cell_type": "markdown",
      "metadata": {
        "id": "C1NJt_2IfJ22"
      },
      "source": [
        "Extracting month and year column from order date"
      ]
    },
    {
      "cell_type": "code",
      "execution_count": null,
      "metadata": {
        "id": "tWVysczT8RwA"
      },
      "outputs": [],
      "source": [
        "df1['Month'] = df1['Order Date'].dt.month\n",
        "df1['Year'] = df1['Order Date'].dt.year"
      ]
    },
    {
      "cell_type": "markdown",
      "metadata": {
        "id": "_yD5fD4_fUnN"
      },
      "source": [
        "Adding some more columns in our DataFrame "
      ]
    },
    {
      "cell_type": "code",
      "execution_count": null,
      "metadata": {
        "id": "VqrNGuKMA6yY"
      },
      "outputs": [],
      "source": [
        "df1['Cost'] = df1['Sales']-df1['Profit']"
      ]
    },
    {
      "cell_type": "code",
      "execution_count": null,
      "metadata": {
        "id": "91Rbk8baBjoj"
      },
      "outputs": [],
      "source": [
        "df1['Cost/Unit'] = df1['Cost']/df1['Quantity']\n",
        "df1['Price'] = df1['Sales']/df1['Quantity']\n",
        "df1['Profit/Unit'] = df1['Profit']/df1['Quantity']"
      ]
    },
    {
      "cell_type": "code",
      "execution_count": null,
      "metadata": {
        "colab": {
          "base_uri": "https://localhost:8080/",
          "height": 249
        },
        "id": "sSMqHf6g9ZaA",
        "outputId": "3a4906a5-feab-46de-abf7-9e794e668ba8"
      },
      "outputs": [
        {
          "data": {
            "text/html": [
              "\n",
              "  <div id=\"df-dacb1db8-68ba-4a1d-949b-adf63462e880\">\n",
              "    <div class=\"colab-df-container\">\n",
              "      <div>\n",
              "<style scoped>\n",
              "    .dataframe tbody tr th:only-of-type {\n",
              "        vertical-align: middle;\n",
              "    }\n",
              "\n",
              "    .dataframe tbody tr th {\n",
              "        vertical-align: top;\n",
              "    }\n",
              "\n",
              "    .dataframe thead th {\n",
              "        text-align: right;\n",
              "    }\n",
              "</style>\n",
              "<table border=\"1\" class=\"dataframe\">\n",
              "  <thead>\n",
              "    <tr style=\"text-align: right;\">\n",
              "      <th></th>\n",
              "      <th>Order ID</th>\n",
              "      <th>Order Date</th>\n",
              "      <th>Ship Date</th>\n",
              "      <th>Customer Name</th>\n",
              "      <th>Country</th>\n",
              "      <th>City</th>\n",
              "      <th>State</th>\n",
              "      <th>Category</th>\n",
              "      <th>Product Name</th>\n",
              "      <th>Sales</th>\n",
              "      <th>Quantity</th>\n",
              "      <th>Profit</th>\n",
              "      <th>Month</th>\n",
              "      <th>Year</th>\n",
              "      <th>Cost</th>\n",
              "      <th>Cost/Unit</th>\n",
              "      <th>Price</th>\n",
              "      <th>Profit/Unit</th>\n",
              "    </tr>\n",
              "  </thead>\n",
              "  <tbody>\n",
              "    <tr>\n",
              "      <th>0</th>\n",
              "      <td>CA-2013-138688</td>\n",
              "      <td>2013-06-13</td>\n",
              "      <td>2013-06-17</td>\n",
              "      <td>Darrin Van Huff</td>\n",
              "      <td>United States</td>\n",
              "      <td>Los Angeles</td>\n",
              "      <td>California</td>\n",
              "      <td>Labels</td>\n",
              "      <td>Self-Adhesive Address Labels for Typewriters b...</td>\n",
              "      <td>14.62</td>\n",
              "      <td>2.0</td>\n",
              "      <td>6.87</td>\n",
              "      <td>6</td>\n",
              "      <td>2013</td>\n",
              "      <td>7.75</td>\n",
              "      <td>3.875</td>\n",
              "      <td>7.31</td>\n",
              "      <td>3.435</td>\n",
              "    </tr>\n",
              "  </tbody>\n",
              "</table>\n",
              "</div>\n",
              "      <button class=\"colab-df-convert\" onclick=\"convertToInteractive('df-dacb1db8-68ba-4a1d-949b-adf63462e880')\"\n",
              "              title=\"Convert this dataframe to an interactive table.\"\n",
              "              style=\"display:none;\">\n",
              "        \n",
              "  <svg xmlns=\"http://www.w3.org/2000/svg\" height=\"24px\"viewBox=\"0 0 24 24\"\n",
              "       width=\"24px\">\n",
              "    <path d=\"M0 0h24v24H0V0z\" fill=\"none\"/>\n",
              "    <path d=\"M18.56 5.44l.94 2.06.94-2.06 2.06-.94-2.06-.94-.94-2.06-.94 2.06-2.06.94zm-11 1L8.5 8.5l.94-2.06 2.06-.94-2.06-.94L8.5 2.5l-.94 2.06-2.06.94zm10 10l.94 2.06.94-2.06 2.06-.94-2.06-.94-.94-2.06-.94 2.06-2.06.94z\"/><path d=\"M17.41 7.96l-1.37-1.37c-.4-.4-.92-.59-1.43-.59-.52 0-1.04.2-1.43.59L10.3 9.45l-7.72 7.72c-.78.78-.78 2.05 0 2.83L4 21.41c.39.39.9.59 1.41.59.51 0 1.02-.2 1.41-.59l7.78-7.78 2.81-2.81c.8-.78.8-2.07 0-2.86zM5.41 20L4 18.59l7.72-7.72 1.47 1.35L5.41 20z\"/>\n",
              "  </svg>\n",
              "      </button>\n",
              "      \n",
              "  <style>\n",
              "    .colab-df-container {\n",
              "      display:flex;\n",
              "      flex-wrap:wrap;\n",
              "      gap: 12px;\n",
              "    }\n",
              "\n",
              "    .colab-df-convert {\n",
              "      background-color: #E8F0FE;\n",
              "      border: none;\n",
              "      border-radius: 50%;\n",
              "      cursor: pointer;\n",
              "      display: none;\n",
              "      fill: #1967D2;\n",
              "      height: 32px;\n",
              "      padding: 0 0 0 0;\n",
              "      width: 32px;\n",
              "    }\n",
              "\n",
              "    .colab-df-convert:hover {\n",
              "      background-color: #E2EBFA;\n",
              "      box-shadow: 0px 1px 2px rgba(60, 64, 67, 0.3), 0px 1px 3px 1px rgba(60, 64, 67, 0.15);\n",
              "      fill: #174EA6;\n",
              "    }\n",
              "\n",
              "    [theme=dark] .colab-df-convert {\n",
              "      background-color: #3B4455;\n",
              "      fill: #D2E3FC;\n",
              "    }\n",
              "\n",
              "    [theme=dark] .colab-df-convert:hover {\n",
              "      background-color: #434B5C;\n",
              "      box-shadow: 0px 1px 3px 1px rgba(0, 0, 0, 0.15);\n",
              "      filter: drop-shadow(0px 1px 2px rgba(0, 0, 0, 0.3));\n",
              "      fill: #FFFFFF;\n",
              "    }\n",
              "  </style>\n",
              "\n",
              "      <script>\n",
              "        const buttonEl =\n",
              "          document.querySelector('#df-dacb1db8-68ba-4a1d-949b-adf63462e880 button.colab-df-convert');\n",
              "        buttonEl.style.display =\n",
              "          google.colab.kernel.accessAllowed ? 'block' : 'none';\n",
              "\n",
              "        async function convertToInteractive(key) {\n",
              "          const element = document.querySelector('#df-dacb1db8-68ba-4a1d-949b-adf63462e880');\n",
              "          const dataTable =\n",
              "            await google.colab.kernel.invokeFunction('convertToInteractive',\n",
              "                                                     [key], {});\n",
              "          if (!dataTable) return;\n",
              "\n",
              "          const docLinkHtml = 'Like what you see? Visit the ' +\n",
              "            '<a target=\"_blank\" href=https://colab.research.google.com/notebooks/data_table.ipynb>data table notebook</a>'\n",
              "            + ' to learn more about interactive tables.';\n",
              "          element.innerHTML = '';\n",
              "          dataTable['output_type'] = 'display_data';\n",
              "          await google.colab.output.renderOutput(dataTable, element);\n",
              "          const docLink = document.createElement('div');\n",
              "          docLink.innerHTML = docLinkHtml;\n",
              "          element.appendChild(docLink);\n",
              "        }\n",
              "      </script>\n",
              "    </div>\n",
              "  </div>\n",
              "  "
            ],
            "text/plain": [
              "         Order ID Order Date  Ship Date    Customer Name        Country  \\\n",
              "0  CA-2013-138688 2013-06-13 2013-06-17  Darrin Van Huff  United States   \n",
              "\n",
              "          City       State Category  \\\n",
              "0  Los Angeles  California   Labels   \n",
              "\n",
              "                                        Product Name  Sales  Quantity  Profit  \\\n",
              "0  Self-Adhesive Address Labels for Typewriters b...  14.62       2.0    6.87   \n",
              "\n",
              "   Month  Year  Cost  Cost/Unit  Price  Profit/Unit  \n",
              "0      6  2013  7.75      3.875   7.31        3.435  "
            ]
          },
          "execution_count": 149,
          "metadata": {},
          "output_type": "execute_result"
        }
      ],
      "source": [
        "df1.head(1)"
      ]
    },
    {
      "cell_type": "markdown",
      "metadata": {
        "id": "3K9G-QW3fjLT"
      },
      "source": [
        "setting the columns in our dataframe according to our convenience"
      ]
    },
    {
      "cell_type": "code",
      "execution_count": null,
      "metadata": {
        "id": "5Rv2z6IQ9xiG"
      },
      "outputs": [],
      "source": [
        " df = df1.reindex(columns = ['Order ID',\t'Order Date',\t'Month',\t'Year'\t,'Ship Date',\t'Customer Name',\t'Country',\t'City',\t'State',\t'Category',\t'Product Name','Quantity','Cost','Sales','Profit','Cost/Unit','Price','Profit/Unit'])"
      ]
    },
    {
      "cell_type": "code",
      "execution_count": null,
      "metadata": {
        "colab": {
          "base_uri": "https://localhost:8080/",
          "height": 367
        },
        "id": "mn7GGGmW_zfg",
        "outputId": "7fa255d2-65f3-46c8-c877-068d5bb79d04"
      },
      "outputs": [
        {
          "data": {
            "text/html": [
              "\n",
              "  <div id=\"df-a39cec99-d015-4ac5-a998-1ea91fda2d8d\">\n",
              "    <div class=\"colab-df-container\">\n",
              "      <div>\n",
              "<style scoped>\n",
              "    .dataframe tbody tr th:only-of-type {\n",
              "        vertical-align: middle;\n",
              "    }\n",
              "\n",
              "    .dataframe tbody tr th {\n",
              "        vertical-align: top;\n",
              "    }\n",
              "\n",
              "    .dataframe thead th {\n",
              "        text-align: right;\n",
              "    }\n",
              "</style>\n",
              "<table border=\"1\" class=\"dataframe\">\n",
              "  <thead>\n",
              "    <tr style=\"text-align: right;\">\n",
              "      <th></th>\n",
              "      <th>Order ID</th>\n",
              "      <th>Order Date</th>\n",
              "      <th>Month</th>\n",
              "      <th>Year</th>\n",
              "      <th>Ship Date</th>\n",
              "      <th>Customer Name</th>\n",
              "      <th>Country</th>\n",
              "      <th>City</th>\n",
              "      <th>State</th>\n",
              "      <th>Category</th>\n",
              "      <th>Product Name</th>\n",
              "      <th>Quantity</th>\n",
              "      <th>Cost</th>\n",
              "      <th>Sales</th>\n",
              "      <th>Profit</th>\n",
              "      <th>Cost/Unit</th>\n",
              "      <th>Price</th>\n",
              "      <th>Profit/Unit</th>\n",
              "    </tr>\n",
              "  </thead>\n",
              "  <tbody>\n",
              "    <tr>\n",
              "      <th>0</th>\n",
              "      <td>CA-2013-138688</td>\n",
              "      <td>2013-06-13</td>\n",
              "      <td>6</td>\n",
              "      <td>2013</td>\n",
              "      <td>2013-06-17</td>\n",
              "      <td>Darrin Van Huff</td>\n",
              "      <td>United States</td>\n",
              "      <td>Los Angeles</td>\n",
              "      <td>California</td>\n",
              "      <td>Labels</td>\n",
              "      <td>Self-Adhesive Address Labels for Typewriters b...</td>\n",
              "      <td>2.0</td>\n",
              "      <td>7.75</td>\n",
              "      <td>14.62</td>\n",
              "      <td>6.87</td>\n",
              "      <td>3.875000</td>\n",
              "      <td>7.31</td>\n",
              "      <td>3.435000</td>\n",
              "    </tr>\n",
              "    <tr>\n",
              "      <th>1</th>\n",
              "      <td>CA-2011-115812</td>\n",
              "      <td>2011-09-06</td>\n",
              "      <td>9</td>\n",
              "      <td>2011</td>\n",
              "      <td>2011-06-14</td>\n",
              "      <td>Brosina Hoffman</td>\n",
              "      <td>United States</td>\n",
              "      <td>Los Angeles</td>\n",
              "      <td>California</td>\n",
              "      <td>Furnishings</td>\n",
              "      <td>Eldon Expressions Wood and Plastic Desk Access...</td>\n",
              "      <td>7.0</td>\n",
              "      <td>34.69</td>\n",
              "      <td>48.86</td>\n",
              "      <td>14.17</td>\n",
              "      <td>4.955714</td>\n",
              "      <td>6.98</td>\n",
              "      <td>2.024286</td>\n",
              "    </tr>\n",
              "  </tbody>\n",
              "</table>\n",
              "</div>\n",
              "      <button class=\"colab-df-convert\" onclick=\"convertToInteractive('df-a39cec99-d015-4ac5-a998-1ea91fda2d8d')\"\n",
              "              title=\"Convert this dataframe to an interactive table.\"\n",
              "              style=\"display:none;\">\n",
              "        \n",
              "  <svg xmlns=\"http://www.w3.org/2000/svg\" height=\"24px\"viewBox=\"0 0 24 24\"\n",
              "       width=\"24px\">\n",
              "    <path d=\"M0 0h24v24H0V0z\" fill=\"none\"/>\n",
              "    <path d=\"M18.56 5.44l.94 2.06.94-2.06 2.06-.94-2.06-.94-.94-2.06-.94 2.06-2.06.94zm-11 1L8.5 8.5l.94-2.06 2.06-.94-2.06-.94L8.5 2.5l-.94 2.06-2.06.94zm10 10l.94 2.06.94-2.06 2.06-.94-2.06-.94-.94-2.06-.94 2.06-2.06.94z\"/><path d=\"M17.41 7.96l-1.37-1.37c-.4-.4-.92-.59-1.43-.59-.52 0-1.04.2-1.43.59L10.3 9.45l-7.72 7.72c-.78.78-.78 2.05 0 2.83L4 21.41c.39.39.9.59 1.41.59.51 0 1.02-.2 1.41-.59l7.78-7.78 2.81-2.81c.8-.78.8-2.07 0-2.86zM5.41 20L4 18.59l7.72-7.72 1.47 1.35L5.41 20z\"/>\n",
              "  </svg>\n",
              "      </button>\n",
              "      \n",
              "  <style>\n",
              "    .colab-df-container {\n",
              "      display:flex;\n",
              "      flex-wrap:wrap;\n",
              "      gap: 12px;\n",
              "    }\n",
              "\n",
              "    .colab-df-convert {\n",
              "      background-color: #E8F0FE;\n",
              "      border: none;\n",
              "      border-radius: 50%;\n",
              "      cursor: pointer;\n",
              "      display: none;\n",
              "      fill: #1967D2;\n",
              "      height: 32px;\n",
              "      padding: 0 0 0 0;\n",
              "      width: 32px;\n",
              "    }\n",
              "\n",
              "    .colab-df-convert:hover {\n",
              "      background-color: #E2EBFA;\n",
              "      box-shadow: 0px 1px 2px rgba(60, 64, 67, 0.3), 0px 1px 3px 1px rgba(60, 64, 67, 0.15);\n",
              "      fill: #174EA6;\n",
              "    }\n",
              "\n",
              "    [theme=dark] .colab-df-convert {\n",
              "      background-color: #3B4455;\n",
              "      fill: #D2E3FC;\n",
              "    }\n",
              "\n",
              "    [theme=dark] .colab-df-convert:hover {\n",
              "      background-color: #434B5C;\n",
              "      box-shadow: 0px 1px 3px 1px rgba(0, 0, 0, 0.15);\n",
              "      filter: drop-shadow(0px 1px 2px rgba(0, 0, 0, 0.3));\n",
              "      fill: #FFFFFF;\n",
              "    }\n",
              "  </style>\n",
              "\n",
              "      <script>\n",
              "        const buttonEl =\n",
              "          document.querySelector('#df-a39cec99-d015-4ac5-a998-1ea91fda2d8d button.colab-df-convert');\n",
              "        buttonEl.style.display =\n",
              "          google.colab.kernel.accessAllowed ? 'block' : 'none';\n",
              "\n",
              "        async function convertToInteractive(key) {\n",
              "          const element = document.querySelector('#df-a39cec99-d015-4ac5-a998-1ea91fda2d8d');\n",
              "          const dataTable =\n",
              "            await google.colab.kernel.invokeFunction('convertToInteractive',\n",
              "                                                     [key], {});\n",
              "          if (!dataTable) return;\n",
              "\n",
              "          const docLinkHtml = 'Like what you see? Visit the ' +\n",
              "            '<a target=\"_blank\" href=https://colab.research.google.com/notebooks/data_table.ipynb>data table notebook</a>'\n",
              "            + ' to learn more about interactive tables.';\n",
              "          element.innerHTML = '';\n",
              "          dataTable['output_type'] = 'display_data';\n",
              "          await google.colab.output.renderOutput(dataTable, element);\n",
              "          const docLink = document.createElement('div');\n",
              "          docLink.innerHTML = docLinkHtml;\n",
              "          element.appendChild(docLink);\n",
              "        }\n",
              "      </script>\n",
              "    </div>\n",
              "  </div>\n",
              "  "
            ],
            "text/plain": [
              "         Order ID Order Date  Month  Year  Ship Date    Customer Name  \\\n",
              "0  CA-2013-138688 2013-06-13      6  2013 2013-06-17  Darrin Van Huff   \n",
              "1  CA-2011-115812 2011-09-06      9  2011 2011-06-14  Brosina Hoffman   \n",
              "\n",
              "         Country         City       State     Category  \\\n",
              "0  United States  Los Angeles  California       Labels   \n",
              "1  United States  Los Angeles  California  Furnishings   \n",
              "\n",
              "                                        Product Name  Quantity   Cost  Sales  \\\n",
              "0  Self-Adhesive Address Labels for Typewriters b...       2.0   7.75  14.62   \n",
              "1  Eldon Expressions Wood and Plastic Desk Access...       7.0  34.69  48.86   \n",
              "\n",
              "   Profit  Cost/Unit  Price  Profit/Unit  \n",
              "0    6.87   3.875000   7.31     3.435000  \n",
              "1   14.17   4.955714   6.98     2.024286  "
            ]
          },
          "execution_count": 151,
          "metadata": {},
          "output_type": "execute_result"
        }
      ],
      "source": [
        "df.head(2)"
      ]
    },
    {
      "cell_type": "markdown",
      "metadata": {
        "id": "ZDmmaO7ggdtN"
      },
      "source": [
        "finding no. of years present in our dataframe"
      ]
    },
    {
      "cell_type": "code",
      "execution_count": null,
      "metadata": {
        "colab": {
          "base_uri": "https://localhost:8080/"
        },
        "id": "xlnN203m5acM",
        "outputId": "fac97762-ab7f-4c06-e94c-fe2f0bace00b"
      },
      "outputs": [
        {
          "data": {
            "text/plain": [
              "2014    1099\n",
              "2013     801\n",
              "2012     642\n",
              "2011     661\n",
              "Name: Year, dtype: int64"
            ]
          },
          "execution_count": 152,
          "metadata": {},
          "output_type": "execute_result"
        }
      ],
      "source": [
        "#df.Year.value_counts().sort_values(by='Year')\n",
        "zzz=df['Year'].value_counts().sort_index(ascending=False)\n",
        "#'''we cant write here sort_values becoz if we write then becoz value_count() k baad sort_value() aaega islie\n",
        "#ye value counts() k column ko sort krega in decending order. but when u write sort_index() then ye\n",
        "#value_counts() ko sort na krke index k behalf pe sort kkrega'''  \n",
        "\n",
        "# '''imp note single column me \"by\" argument use nhi hota with sort_values()...it only uses with 2 column \n",
        "# names, or groupby func...or merge func()...'''\n",
        "zzz\n"
      ]
    },
    {
      "cell_type": "markdown",
      "metadata": {
        "id": "UXeDRPpB53Ri"
      },
      "source": [
        "**year wise finding-- monthly= (profit and sales)**"
      ]
    },
    {
      "cell_type": "code",
      "execution_count": null,
      "metadata": {
        "colab": {
          "base_uri": "https://localhost:8080/"
        },
        "id": "jhs1BEmUm57c",
        "outputId": "0bdc057b-204d-4f72-9edd-0a338e9888a4"
      },
      "outputs": [
        {
          "data": {
            "text/plain": [
              "(661, 18)"
            ]
          },
          "execution_count": 153,
          "metadata": {},
          "output_type": "execute_result"
        }
      ],
      "source": [
        "year1=df[df.Year==2011]\n",
        "year1.shape"
      ]
    },
    {
      "cell_type": "markdown",
      "metadata": {
        "id": "cNGDmjFvf3qA"
      },
      "source": [
        "**Now- month wise showing the profit and sales of every state** . "
      ]
    },
    {
      "cell_type": "code",
      "execution_count": null,
      "metadata": {
        "colab": {
          "base_uri": "https://localhost:8080/",
          "height": 424
        },
        "id": "p8dVtCbi6W8M",
        "outputId": "73021445-bb53-48cb-8f6d-80cace2bfac3"
      },
      "outputs": [
        {
          "data": {
            "text/html": [
              "\n",
              "  <div id=\"df-21ade914-a9a0-451e-95ac-d8cd8c7bb1fb\">\n",
              "    <div class=\"colab-df-container\">\n",
              "      <div>\n",
              "<style scoped>\n",
              "    .dataframe tbody tr th:only-of-type {\n",
              "        vertical-align: middle;\n",
              "    }\n",
              "\n",
              "    .dataframe tbody tr th {\n",
              "        vertical-align: top;\n",
              "    }\n",
              "\n",
              "    .dataframe thead th {\n",
              "        text-align: right;\n",
              "    }\n",
              "</style>\n",
              "<table border=\"1\" class=\"dataframe\">\n",
              "  <thead>\n",
              "    <tr style=\"text-align: right;\">\n",
              "      <th></th>\n",
              "      <th>Month</th>\n",
              "      <th>State</th>\n",
              "      <th>Profit</th>\n",
              "      <th>Sales</th>\n",
              "    </tr>\n",
              "  </thead>\n",
              "  <tbody>\n",
              "    <tr>\n",
              "      <th>0</th>\n",
              "      <td>1</td>\n",
              "      <td>Arizona</td>\n",
              "      <td>-288.01</td>\n",
              "      <td>378.59</td>\n",
              "    </tr>\n",
              "    <tr>\n",
              "      <th>1</th>\n",
              "      <td>1</td>\n",
              "      <td>California</td>\n",
              "      <td>380.59</td>\n",
              "      <td>2680.13</td>\n",
              "    </tr>\n",
              "    <tr>\n",
              "      <th>2</th>\n",
              "      <td>1</td>\n",
              "      <td>Colorado</td>\n",
              "      <td>252.32</td>\n",
              "      <td>2027.15</td>\n",
              "    </tr>\n",
              "    <tr>\n",
              "      <th>3</th>\n",
              "      <td>1</td>\n",
              "      <td>Nevada</td>\n",
              "      <td>19.24</td>\n",
              "      <td>44.79</td>\n",
              "    </tr>\n",
              "    <tr>\n",
              "      <th>4</th>\n",
              "      <td>1</td>\n",
              "      <td>Oregon</td>\n",
              "      <td>-33.25</td>\n",
              "      <td>664.76</td>\n",
              "    </tr>\n",
              "    <tr>\n",
              "      <th>...</th>\n",
              "      <td>...</td>\n",
              "      <td>...</td>\n",
              "      <td>...</td>\n",
              "      <td>...</td>\n",
              "    </tr>\n",
              "    <tr>\n",
              "      <th>66</th>\n",
              "      <td>12</td>\n",
              "      <td>California</td>\n",
              "      <td>2273.83</td>\n",
              "      <td>20722.05</td>\n",
              "    </tr>\n",
              "    <tr>\n",
              "      <th>67</th>\n",
              "      <td>12</td>\n",
              "      <td>Colorado</td>\n",
              "      <td>110.47</td>\n",
              "      <td>1303.21</td>\n",
              "    </tr>\n",
              "    <tr>\n",
              "      <th>68</th>\n",
              "      <td>12</td>\n",
              "      <td>Nevada</td>\n",
              "      <td>59.49</td>\n",
              "      <td>475.94</td>\n",
              "    </tr>\n",
              "    <tr>\n",
              "      <th>69</th>\n",
              "      <td>12</td>\n",
              "      <td>New Mexico</td>\n",
              "      <td>2.30</td>\n",
              "      <td>57.27</td>\n",
              "    </tr>\n",
              "    <tr>\n",
              "      <th>70</th>\n",
              "      <td>12</td>\n",
              "      <td>Washington</td>\n",
              "      <td>32.55</td>\n",
              "      <td>165.45</td>\n",
              "    </tr>\n",
              "  </tbody>\n",
              "</table>\n",
              "<p>71 rows × 4 columns</p>\n",
              "</div>\n",
              "      <button class=\"colab-df-convert\" onclick=\"convertToInteractive('df-21ade914-a9a0-451e-95ac-d8cd8c7bb1fb')\"\n",
              "              title=\"Convert this dataframe to an interactive table.\"\n",
              "              style=\"display:none;\">\n",
              "        \n",
              "  <svg xmlns=\"http://www.w3.org/2000/svg\" height=\"24px\"viewBox=\"0 0 24 24\"\n",
              "       width=\"24px\">\n",
              "    <path d=\"M0 0h24v24H0V0z\" fill=\"none\"/>\n",
              "    <path d=\"M18.56 5.44l.94 2.06.94-2.06 2.06-.94-2.06-.94-.94-2.06-.94 2.06-2.06.94zm-11 1L8.5 8.5l.94-2.06 2.06-.94-2.06-.94L8.5 2.5l-.94 2.06-2.06.94zm10 10l.94 2.06.94-2.06 2.06-.94-2.06-.94-.94-2.06-.94 2.06-2.06.94z\"/><path d=\"M17.41 7.96l-1.37-1.37c-.4-.4-.92-.59-1.43-.59-.52 0-1.04.2-1.43.59L10.3 9.45l-7.72 7.72c-.78.78-.78 2.05 0 2.83L4 21.41c.39.39.9.59 1.41.59.51 0 1.02-.2 1.41-.59l7.78-7.78 2.81-2.81c.8-.78.8-2.07 0-2.86zM5.41 20L4 18.59l7.72-7.72 1.47 1.35L5.41 20z\"/>\n",
              "  </svg>\n",
              "      </button>\n",
              "      \n",
              "  <style>\n",
              "    .colab-df-container {\n",
              "      display:flex;\n",
              "      flex-wrap:wrap;\n",
              "      gap: 12px;\n",
              "    }\n",
              "\n",
              "    .colab-df-convert {\n",
              "      background-color: #E8F0FE;\n",
              "      border: none;\n",
              "      border-radius: 50%;\n",
              "      cursor: pointer;\n",
              "      display: none;\n",
              "      fill: #1967D2;\n",
              "      height: 32px;\n",
              "      padding: 0 0 0 0;\n",
              "      width: 32px;\n",
              "    }\n",
              "\n",
              "    .colab-df-convert:hover {\n",
              "      background-color: #E2EBFA;\n",
              "      box-shadow: 0px 1px 2px rgba(60, 64, 67, 0.3), 0px 1px 3px 1px rgba(60, 64, 67, 0.15);\n",
              "      fill: #174EA6;\n",
              "    }\n",
              "\n",
              "    [theme=dark] .colab-df-convert {\n",
              "      background-color: #3B4455;\n",
              "      fill: #D2E3FC;\n",
              "    }\n",
              "\n",
              "    [theme=dark] .colab-df-convert:hover {\n",
              "      background-color: #434B5C;\n",
              "      box-shadow: 0px 1px 3px 1px rgba(0, 0, 0, 0.15);\n",
              "      filter: drop-shadow(0px 1px 2px rgba(0, 0, 0, 0.3));\n",
              "      fill: #FFFFFF;\n",
              "    }\n",
              "  </style>\n",
              "\n",
              "      <script>\n",
              "        const buttonEl =\n",
              "          document.querySelector('#df-21ade914-a9a0-451e-95ac-d8cd8c7bb1fb button.colab-df-convert');\n",
              "        buttonEl.style.display =\n",
              "          google.colab.kernel.accessAllowed ? 'block' : 'none';\n",
              "\n",
              "        async function convertToInteractive(key) {\n",
              "          const element = document.querySelector('#df-21ade914-a9a0-451e-95ac-d8cd8c7bb1fb');\n",
              "          const dataTable =\n",
              "            await google.colab.kernel.invokeFunction('convertToInteractive',\n",
              "                                                     [key], {});\n",
              "          if (!dataTable) return;\n",
              "\n",
              "          const docLinkHtml = 'Like what you see? Visit the ' +\n",
              "            '<a target=\"_blank\" href=https://colab.research.google.com/notebooks/data_table.ipynb>data table notebook</a>'\n",
              "            + ' to learn more about interactive tables.';\n",
              "          element.innerHTML = '';\n",
              "          dataTable['output_type'] = 'display_data';\n",
              "          await google.colab.output.renderOutput(dataTable, element);\n",
              "          const docLink = document.createElement('div');\n",
              "          docLink.innerHTML = docLinkHtml;\n",
              "          element.appendChild(docLink);\n",
              "        }\n",
              "      </script>\n",
              "    </div>\n",
              "  </div>\n",
              "  "
            ],
            "text/plain": [
              "    Month       State   Profit     Sales\n",
              "0       1     Arizona  -288.01    378.59\n",
              "1       1  California   380.59   2680.13\n",
              "2       1    Colorado   252.32   2027.15\n",
              "3       1      Nevada    19.24     44.79\n",
              "4       1      Oregon   -33.25    664.76\n",
              "..    ...         ...      ...       ...\n",
              "66     12  California  2273.83  20722.05\n",
              "67     12    Colorado   110.47   1303.21\n",
              "68     12      Nevada    59.49    475.94\n",
              "69     12  New Mexico     2.30     57.27\n",
              "70     12  Washington    32.55    165.45\n",
              "\n",
              "[71 rows x 4 columns]"
            ]
          },
          "execution_count": 154,
          "metadata": {},
          "output_type": "execute_result"
        }
      ],
      "source": [
        "# after applying merge function it already gives your answer into dataframe you dont have to convert it\n",
        "# into dataframe\n",
        "q2 = year1.groupby(['Month','State'])['Profit'].sum()\n",
        "c2 = year1.groupby(['Month','State'])['Sales'].sum()\n",
        "d2 = pd.merge(q2,c2,how='left',on=['Month','State'])\n",
        "d2.reset_index(inplace=True)# We use the inplace=True argument when we want to modify a DataFrame object in place, without creating a new DataFrame object.\n",
        "d2.sort_values(by='Sales', ascending = True)\n",
        "d2\n",
        "# after this code i can give you examples that whats d/f b/w reset_index() and reset_index(inplace=True)"
      ]
    },
    {
      "cell_type": "code",
      "execution_count": null,
      "metadata": {
        "colab": {
          "base_uri": "https://localhost:8080/"
        },
        "id": "nIvG_OYcrqIb",
        "outputId": "55e138dc-d8a8-4db1-e3c6-8a62e6439297"
      },
      "outputs": [
        {
          "name": "stdout",
          "output_type": "stream",
          "text": [
            "      Name  Score\n",
            "0    Alice     90\n",
            "1      Bob     85\n",
            "2  Charlie     95\n",
            "   index     Name  Score\n",
            "0      0    Alice     90\n",
            "1      1      Bob     85\n",
            "2      2  Charlie     95\n"
          ]
        }
      ],
      "source": [
        "#Example 1: Using reset_index()\n",
        "# create a sample DataFrame\n",
        "df = pd.DataFrame({'Name': ['Alice', 'Bob', 'Charlie'], 'Score': [90, 85, 95]})\n",
        "\n",
        "# reset the index without using inplace=True\n",
        "df_new = df.reset_index()\n",
        "\n",
        "# print the original DataFrame and the new DataFrame\n",
        "print(df)\n",
        "print(df_new)\n"
      ]
    },
    {
      "cell_type": "code",
      "execution_count": null,
      "metadata": {
        "colab": {
          "base_uri": "https://localhost:8080/"
        },
        "id": "LCtcDbhXsZ9-",
        "outputId": "cfeb7fac-a7a0-4b29-a00e-fa4d7427bc1a"
      },
      "outputs": [
        {
          "name": "stdout",
          "output_type": "stream",
          "text": [
            "   index     Name  Score\n",
            "0      0    Alice     90\n",
            "1      1      Bob     85\n",
            "2      2  Charlie     95\n"
          ]
        }
      ],
      "source": [
        "#Example 2: Using reset_index(inplace=True)\n",
        "# create a sample DataFrame\n",
        "df = pd.DataFrame({'Name': ['Alice', 'Bob', 'Charlie'], 'Score': [90, 85, 95]})\n",
        "\n",
        "# reset the index using inplace=True\n",
        "df.reset_index(inplace=True)\n",
        "\n",
        "# print the modified DataFrame\n",
        "print(df)\n",
        "# In this example, reset_index(inplace=True) is used to reset the index of the DataFrame df in place, without creating a new DataFrame.\n"
      ]
    },
    {
      "cell_type": "code",
      "execution_count": null,
      "metadata": {
        "colab": {
          "base_uri": "https://localhost:8080/",
          "height": 424
        },
        "id": "mZnqJXbFuXu2",
        "outputId": "f9743792-babf-4bf0-e063-91af4928693d"
      },
      "outputs": [
        {
          "data": {
            "text/html": [
              "\n",
              "  <div id=\"df-f5b9b79f-77c8-4c67-ab50-6a7f5772f4dd\">\n",
              "    <div class=\"colab-df-container\">\n",
              "      <div>\n",
              "<style scoped>\n",
              "    .dataframe tbody tr th:only-of-type {\n",
              "        vertical-align: middle;\n",
              "    }\n",
              "\n",
              "    .dataframe tbody tr th {\n",
              "        vertical-align: top;\n",
              "    }\n",
              "\n",
              "    .dataframe thead th {\n",
              "        text-align: right;\n",
              "    }\n",
              "</style>\n",
              "<table border=\"1\" class=\"dataframe\">\n",
              "  <thead>\n",
              "    <tr style=\"text-align: right;\">\n",
              "      <th></th>\n",
              "      <th>Month</th>\n",
              "      <th>State</th>\n",
              "      <th>Profit</th>\n",
              "      <th>Sales</th>\n",
              "    </tr>\n",
              "  </thead>\n",
              "  <tbody>\n",
              "    <tr>\n",
              "      <th>0</th>\n",
              "      <td>1</td>\n",
              "      <td>Arizona</td>\n",
              "      <td>-288.01</td>\n",
              "      <td>378.59</td>\n",
              "    </tr>\n",
              "    <tr>\n",
              "      <th>1</th>\n",
              "      <td>1</td>\n",
              "      <td>California</td>\n",
              "      <td>380.59</td>\n",
              "      <td>2680.13</td>\n",
              "    </tr>\n",
              "    <tr>\n",
              "      <th>2</th>\n",
              "      <td>1</td>\n",
              "      <td>Colorado</td>\n",
              "      <td>252.32</td>\n",
              "      <td>2027.15</td>\n",
              "    </tr>\n",
              "    <tr>\n",
              "      <th>3</th>\n",
              "      <td>1</td>\n",
              "      <td>Nevada</td>\n",
              "      <td>19.24</td>\n",
              "      <td>44.79</td>\n",
              "    </tr>\n",
              "    <tr>\n",
              "      <th>4</th>\n",
              "      <td>1</td>\n",
              "      <td>Oregon</td>\n",
              "      <td>-33.25</td>\n",
              "      <td>664.76</td>\n",
              "    </tr>\n",
              "    <tr>\n",
              "      <th>...</th>\n",
              "      <td>...</td>\n",
              "      <td>...</td>\n",
              "      <td>...</td>\n",
              "      <td>...</td>\n",
              "    </tr>\n",
              "    <tr>\n",
              "      <th>66</th>\n",
              "      <td>12</td>\n",
              "      <td>California</td>\n",
              "      <td>2273.83</td>\n",
              "      <td>20722.05</td>\n",
              "    </tr>\n",
              "    <tr>\n",
              "      <th>67</th>\n",
              "      <td>12</td>\n",
              "      <td>Colorado</td>\n",
              "      <td>110.47</td>\n",
              "      <td>1303.21</td>\n",
              "    </tr>\n",
              "    <tr>\n",
              "      <th>68</th>\n",
              "      <td>12</td>\n",
              "      <td>Nevada</td>\n",
              "      <td>59.49</td>\n",
              "      <td>475.94</td>\n",
              "    </tr>\n",
              "    <tr>\n",
              "      <th>69</th>\n",
              "      <td>12</td>\n",
              "      <td>New Mexico</td>\n",
              "      <td>2.30</td>\n",
              "      <td>57.27</td>\n",
              "    </tr>\n",
              "    <tr>\n",
              "      <th>70</th>\n",
              "      <td>12</td>\n",
              "      <td>Washington</td>\n",
              "      <td>32.55</td>\n",
              "      <td>165.45</td>\n",
              "    </tr>\n",
              "  </tbody>\n",
              "</table>\n",
              "<p>71 rows × 4 columns</p>\n",
              "</div>\n",
              "      <button class=\"colab-df-convert\" onclick=\"convertToInteractive('df-f5b9b79f-77c8-4c67-ab50-6a7f5772f4dd')\"\n",
              "              title=\"Convert this dataframe to an interactive table.\"\n",
              "              style=\"display:none;\">\n",
              "        \n",
              "  <svg xmlns=\"http://www.w3.org/2000/svg\" height=\"24px\"viewBox=\"0 0 24 24\"\n",
              "       width=\"24px\">\n",
              "    <path d=\"M0 0h24v24H0V0z\" fill=\"none\"/>\n",
              "    <path d=\"M18.56 5.44l.94 2.06.94-2.06 2.06-.94-2.06-.94-.94-2.06-.94 2.06-2.06.94zm-11 1L8.5 8.5l.94-2.06 2.06-.94-2.06-.94L8.5 2.5l-.94 2.06-2.06.94zm10 10l.94 2.06.94-2.06 2.06-.94-2.06-.94-.94-2.06-.94 2.06-2.06.94z\"/><path d=\"M17.41 7.96l-1.37-1.37c-.4-.4-.92-.59-1.43-.59-.52 0-1.04.2-1.43.59L10.3 9.45l-7.72 7.72c-.78.78-.78 2.05 0 2.83L4 21.41c.39.39.9.59 1.41.59.51 0 1.02-.2 1.41-.59l7.78-7.78 2.81-2.81c.8-.78.8-2.07 0-2.86zM5.41 20L4 18.59l7.72-7.72 1.47 1.35L5.41 20z\"/>\n",
              "  </svg>\n",
              "      </button>\n",
              "      \n",
              "  <style>\n",
              "    .colab-df-container {\n",
              "      display:flex;\n",
              "      flex-wrap:wrap;\n",
              "      gap: 12px;\n",
              "    }\n",
              "\n",
              "    .colab-df-convert {\n",
              "      background-color: #E8F0FE;\n",
              "      border: none;\n",
              "      border-radius: 50%;\n",
              "      cursor: pointer;\n",
              "      display: none;\n",
              "      fill: #1967D2;\n",
              "      height: 32px;\n",
              "      padding: 0 0 0 0;\n",
              "      width: 32px;\n",
              "    }\n",
              "\n",
              "    .colab-df-convert:hover {\n",
              "      background-color: #E2EBFA;\n",
              "      box-shadow: 0px 1px 2px rgba(60, 64, 67, 0.3), 0px 1px 3px 1px rgba(60, 64, 67, 0.15);\n",
              "      fill: #174EA6;\n",
              "    }\n",
              "\n",
              "    [theme=dark] .colab-df-convert {\n",
              "      background-color: #3B4455;\n",
              "      fill: #D2E3FC;\n",
              "    }\n",
              "\n",
              "    [theme=dark] .colab-df-convert:hover {\n",
              "      background-color: #434B5C;\n",
              "      box-shadow: 0px 1px 3px 1px rgba(0, 0, 0, 0.15);\n",
              "      filter: drop-shadow(0px 1px 2px rgba(0, 0, 0, 0.3));\n",
              "      fill: #FFFFFF;\n",
              "    }\n",
              "  </style>\n",
              "\n",
              "      <script>\n",
              "        const buttonEl =\n",
              "          document.querySelector('#df-f5b9b79f-77c8-4c67-ab50-6a7f5772f4dd button.colab-df-convert');\n",
              "        buttonEl.style.display =\n",
              "          google.colab.kernel.accessAllowed ? 'block' : 'none';\n",
              "\n",
              "        async function convertToInteractive(key) {\n",
              "          const element = document.querySelector('#df-f5b9b79f-77c8-4c67-ab50-6a7f5772f4dd');\n",
              "          const dataTable =\n",
              "            await google.colab.kernel.invokeFunction('convertToInteractive',\n",
              "                                                     [key], {});\n",
              "          if (!dataTable) return;\n",
              "\n",
              "          const docLinkHtml = 'Like what you see? Visit the ' +\n",
              "            '<a target=\"_blank\" href=https://colab.research.google.com/notebooks/data_table.ipynb>data table notebook</a>'\n",
              "            + ' to learn more about interactive tables.';\n",
              "          element.innerHTML = '';\n",
              "          dataTable['output_type'] = 'display_data';\n",
              "          await google.colab.output.renderOutput(dataTable, element);\n",
              "          const docLink = document.createElement('div');\n",
              "          docLink.innerHTML = docLinkHtml;\n",
              "          element.appendChild(docLink);\n",
              "        }\n",
              "      </script>\n",
              "    </div>\n",
              "  </div>\n",
              "  "
            ],
            "text/plain": [
              "    Month       State   Profit     Sales\n",
              "0       1     Arizona  -288.01    378.59\n",
              "1       1  California   380.59   2680.13\n",
              "2       1    Colorado   252.32   2027.15\n",
              "3       1      Nevada    19.24     44.79\n",
              "4       1      Oregon   -33.25    664.76\n",
              "..    ...         ...      ...       ...\n",
              "66     12  California  2273.83  20722.05\n",
              "67     12    Colorado   110.47   1303.21\n",
              "68     12      Nevada    59.49    475.94\n",
              "69     12  New Mexico     2.30     57.27\n",
              "70     12  Washington    32.55    165.45\n",
              "\n",
              "[71 rows x 4 columns]"
            ]
          },
          "execution_count": 157,
          "metadata": {},
          "output_type": "execute_result"
        }
      ],
      "source": [
        "''' Q - agar merge krte samai hm on = khali state column pe lagaye or month column add na krre then\n",
        "it gives me 635 rows but agar hm month lgaye then it gives 71 rows only jbki jo month and state q2\n",
        "me hai voohi c2 me b hai. to same aana chahiye then why it gives me different values.'''\n",
        "\n",
        "q2 = year1.groupby(['Month','State'])['Profit'].sum()\n",
        "c2 = year1.groupby(['Month','State'])['Sales'].sum()\n",
        "d2 = pd.merge(q2,c2,how='left',on=['Month','State'])\n",
        "d2.reset_index(inplace=True)\n",
        "d2"
      ]
    },
    {
      "cell_type": "markdown",
      "metadata": {
        "id": "gvUV2eCJ_KL0"
      },
      "source": [
        "making a line graph by ploty"
      ]
    },
    {
      "cell_type": "code",
      "execution_count": null,
      "metadata": {
        "colab": {
          "base_uri": "https://localhost:8080/",
          "height": 542
        },
        "id": "KZtJ0tdL_JNx",
        "outputId": "67b6c991-ecfc-48e9-ce19-900b17f0ddff"
      },
      "outputs": [
        {
          "data": {
            "text/html": [
              "<html>\n",
              "<head><meta charset=\"utf-8\" /></head>\n",
              "<body>\n",
              "    <div>            <script src=\"https://cdnjs.cloudflare.com/ajax/libs/mathjax/2.7.5/MathJax.js?config=TeX-AMS-MML_SVG\"></script><script type=\"text/javascript\">if (window.MathJax && window.MathJax.Hub && window.MathJax.Hub.Config) {window.MathJax.Hub.Config({SVG: {font: \"STIX-Web\"}});}</script>                <script type=\"text/javascript\">window.PlotlyConfig = {MathJaxConfig: 'local'};</script>\n",
              "        <script src=\"https://cdn.plot.ly/plotly-2.18.2.min.js\"></script>                <div id=\"b6286873-6e11-4041-bad4-a06f86cccaee\" class=\"plotly-graph-div\" style=\"height:525px; width:100%;\"></div>            <script type=\"text/javascript\">                                    window.PLOTLYENV=window.PLOTLYENV || {};                                    if (document.getElementById(\"b6286873-6e11-4041-bad4-a06f86cccaee\")) {                    Plotly.newPlot(                        \"b6286873-6e11-4041-bad4-a06f86cccaee\",                        [{\"hovertemplate\":\"State=Arizona<br>Month=%{x}<br>Profit=%{y}<extra></extra>\",\"legendgroup\":\"Arizona\",\"line\":{\"color\":\"#636efa\",\"dash\":\"solid\"},\"marker\":{\"symbol\":\"circle\"},\"mode\":\"lines\",\"name\":\"Arizona\",\"orientation\":\"v\",\"showlegend\":true,\"x\":[1,2,3,5,6,7,8,9,10,11,12],\"xaxis\":\"x\",\"y\":[-288.01,133.77,21.599999999999998,174.29,-5.07,124.83999999999999,-17.94,-48.62,87.03,-4.209999999999999,-1080.87],\"yaxis\":\"y\",\"type\":\"scatter\"},{\"hovertemplate\":\"State=California<br>Month=%{x}<br>Profit=%{y}<extra></extra>\",\"legendgroup\":\"California\",\"line\":{\"color\":\"#EF553B\",\"dash\":\"solid\"},\"marker\":{\"symbol\":\"circle\"},\"mode\":\"lines\",\"name\":\"California\",\"orientation\":\"v\",\"showlegend\":true,\"x\":[1,2,3,4,5,6,7,8,9,10,11,12],\"xaxis\":\"x\",\"y\":[380.59000000000003,101.73,1385.46,979.63,729.38,780.37,1306.79,1272.38,1482.33,753.11,1192.4,2273.83],\"yaxis\":\"y\",\"type\":\"scatter\"},{\"hovertemplate\":\"State=Colorado<br>Month=%{x}<br>Profit=%{y}<extra></extra>\",\"legendgroup\":\"Colorado\",\"line\":{\"color\":\"#00cc96\",\"dash\":\"solid\"},\"marker\":{\"symbol\":\"circle\"},\"mode\":\"lines\",\"name\":\"Colorado\",\"orientation\":\"v\",\"showlegend\":true,\"x\":[1,3,4,6,8,9,10,11,12],\"xaxis\":\"x\",\"y\":[252.32,-161.59,65.38,31.659999999999997,98.59,2.37,-6.550000000000001,45.56,110.47],\"yaxis\":\"y\",\"type\":\"scatter\"},{\"hovertemplate\":\"State=Nevada<br>Month=%{x}<br>Profit=%{y}<extra></extra>\",\"legendgroup\":\"Nevada\",\"line\":{\"color\":\"#ab63fa\",\"dash\":\"solid\"},\"marker\":{\"symbol\":\"circle\"},\"mode\":\"lines\",\"name\":\"Nevada\",\"orientation\":\"v\",\"showlegend\":true,\"x\":[1,7,9,12],\"xaxis\":\"x\",\"y\":[19.24,110.69999999999999,60.84,59.49],\"yaxis\":\"y\",\"type\":\"scatter\"},{\"hovertemplate\":\"State=Oregon<br>Month=%{x}<br>Profit=%{y}<extra></extra>\",\"legendgroup\":\"Oregon\",\"line\":{\"color\":\"#FFA15A\",\"dash\":\"solid\"},\"marker\":{\"symbol\":\"circle\"},\"mode\":\"lines\",\"name\":\"Oregon\",\"orientation\":\"v\",\"showlegend\":true,\"x\":[1,2,6,7,8,9,10,11],\"xaxis\":\"x\",\"y\":[-33.24999999999999,18.79,-127.60000000000002,18.130000000000003,13.809999999999999,59.620000000000005,156.29999999999998,-241.21],\"yaxis\":\"y\",\"type\":\"scatter\"},{\"hovertemplate\":\"State=Washington<br>Month=%{x}<br>Profit=%{y}<extra></extra>\",\"legendgroup\":\"Washington\",\"line\":{\"color\":\"#19d3f3\",\"dash\":\"solid\"},\"marker\":{\"symbol\":\"circle\"},\"mode\":\"lines\",\"name\":\"Washington\",\"orientation\":\"v\",\"showlegend\":true,\"x\":[1,2,3,4,5,6,7,8,9,10,11,12],\"xaxis\":\"x\",\"y\":[58.449999999999996,141.04000000000002,135.69,68.23,65.53,1186.27,464.08,450.32,2354.75,531.29,1119.05,32.55],\"yaxis\":\"y\",\"type\":\"scatter\"},{\"hovertemplate\":\"State=Utah<br>Month=%{x}<br>Profit=%{y}<extra></extra>\",\"legendgroup\":\"Utah\",\"line\":{\"color\":\"#FF6692\",\"dash\":\"solid\"},\"marker\":{\"symbol\":\"circle\"},\"mode\":\"lines\",\"name\":\"Utah\",\"orientation\":\"v\",\"showlegend\":true,\"x\":[2,3,4,5,7,11],\"xaxis\":\"x\",\"y\":[41.44,46.97,576.56,33.22,34.7,89.78],\"yaxis\":\"y\",\"type\":\"scatter\"},{\"hovertemplate\":\"State=New Mexico<br>Month=%{x}<br>Profit=%{y}<extra></extra>\",\"legendgroup\":\"New Mexico\",\"line\":{\"color\":\"#B6E880\",\"dash\":\"solid\"},\"marker\":{\"symbol\":\"circle\"},\"mode\":\"lines\",\"name\":\"New Mexico\",\"orientation\":\"v\",\"showlegend\":true,\"x\":[3,8,10,12],\"xaxis\":\"x\",\"y\":[22.68,18.5,112.57,2.3],\"yaxis\":\"y\",\"type\":\"scatter\"},{\"hovertemplate\":\"State=Montana<br>Month=%{x}<br>Profit=%{y}<extra></extra>\",\"legendgroup\":\"Montana\",\"line\":{\"color\":\"#FF97FF\",\"dash\":\"solid\"},\"marker\":{\"symbol\":\"circle\"},\"mode\":\"lines\",\"name\":\"Montana\",\"orientation\":\"v\",\"showlegend\":true,\"x\":[7,8,11],\"xaxis\":\"x\",\"y\":[2.21,2.69,124.94],\"yaxis\":\"y\",\"type\":\"scatter\"},{\"hovertemplate\":\"State=Idaho<br>Month=%{x}<br>Profit=%{y}<extra></extra>\",\"legendgroup\":\"Idaho\",\"line\":{\"color\":\"#FECB52\",\"dash\":\"solid\"},\"marker\":{\"symbol\":\"circle\"},\"mode\":\"lines\",\"name\":\"Idaho\",\"orientation\":\"v\",\"showlegend\":true,\"x\":[10,11],\"xaxis\":\"x\",\"y\":[58.7,3.35],\"yaxis\":\"y\",\"type\":\"scatter\"}],                        {\"template\":{\"data\":{\"histogram2dcontour\":[{\"type\":\"histogram2dcontour\",\"colorbar\":{\"outlinewidth\":0,\"ticks\":\"\"},\"colorscale\":[[0.0,\"#0d0887\"],[0.1111111111111111,\"#46039f\"],[0.2222222222222222,\"#7201a8\"],[0.3333333333333333,\"#9c179e\"],[0.4444444444444444,\"#bd3786\"],[0.5555555555555556,\"#d8576b\"],[0.6666666666666666,\"#ed7953\"],[0.7777777777777778,\"#fb9f3a\"],[0.8888888888888888,\"#fdca26\"],[1.0,\"#f0f921\"]]}],\"choropleth\":[{\"type\":\"choropleth\",\"colorbar\":{\"outlinewidth\":0,\"ticks\":\"\"}}],\"histogram2d\":[{\"type\":\"histogram2d\",\"colorbar\":{\"outlinewidth\":0,\"ticks\":\"\"},\"colorscale\":[[0.0,\"#0d0887\"],[0.1111111111111111,\"#46039f\"],[0.2222222222222222,\"#7201a8\"],[0.3333333333333333,\"#9c179e\"],[0.4444444444444444,\"#bd3786\"],[0.5555555555555556,\"#d8576b\"],[0.6666666666666666,\"#ed7953\"],[0.7777777777777778,\"#fb9f3a\"],[0.8888888888888888,\"#fdca26\"],[1.0,\"#f0f921\"]]}],\"heatmap\":[{\"type\":\"heatmap\",\"colorbar\":{\"outlinewidth\":0,\"ticks\":\"\"},\"colorscale\":[[0.0,\"#0d0887\"],[0.1111111111111111,\"#46039f\"],[0.2222222222222222,\"#7201a8\"],[0.3333333333333333,\"#9c179e\"],[0.4444444444444444,\"#bd3786\"],[0.5555555555555556,\"#d8576b\"],[0.6666666666666666,\"#ed7953\"],[0.7777777777777778,\"#fb9f3a\"],[0.8888888888888888,\"#fdca26\"],[1.0,\"#f0f921\"]]}],\"heatmapgl\":[{\"type\":\"heatmapgl\",\"colorbar\":{\"outlinewidth\":0,\"ticks\":\"\"},\"colorscale\":[[0.0,\"#0d0887\"],[0.1111111111111111,\"#46039f\"],[0.2222222222222222,\"#7201a8\"],[0.3333333333333333,\"#9c179e\"],[0.4444444444444444,\"#bd3786\"],[0.5555555555555556,\"#d8576b\"],[0.6666666666666666,\"#ed7953\"],[0.7777777777777778,\"#fb9f3a\"],[0.8888888888888888,\"#fdca26\"],[1.0,\"#f0f921\"]]}],\"contourcarpet\":[{\"type\":\"contourcarpet\",\"colorbar\":{\"outlinewidth\":0,\"ticks\":\"\"}}],\"contour\":[{\"type\":\"contour\",\"colorbar\":{\"outlinewidth\":0,\"ticks\":\"\"},\"colorscale\":[[0.0,\"#0d0887\"],[0.1111111111111111,\"#46039f\"],[0.2222222222222222,\"#7201a8\"],[0.3333333333333333,\"#9c179e\"],[0.4444444444444444,\"#bd3786\"],[0.5555555555555556,\"#d8576b\"],[0.6666666666666666,\"#ed7953\"],[0.7777777777777778,\"#fb9f3a\"],[0.8888888888888888,\"#fdca26\"],[1.0,\"#f0f921\"]]}],\"surface\":[{\"type\":\"surface\",\"colorbar\":{\"outlinewidth\":0,\"ticks\":\"\"},\"colorscale\":[[0.0,\"#0d0887\"],[0.1111111111111111,\"#46039f\"],[0.2222222222222222,\"#7201a8\"],[0.3333333333333333,\"#9c179e\"],[0.4444444444444444,\"#bd3786\"],[0.5555555555555556,\"#d8576b\"],[0.6666666666666666,\"#ed7953\"],[0.7777777777777778,\"#fb9f3a\"],[0.8888888888888888,\"#fdca26\"],[1.0,\"#f0f921\"]]}],\"mesh3d\":[{\"type\":\"mesh3d\",\"colorbar\":{\"outlinewidth\":0,\"ticks\":\"\"}}],\"scatter\":[{\"fillpattern\":{\"fillmode\":\"overlay\",\"size\":10,\"solidity\":0.2},\"type\":\"scatter\"}],\"parcoords\":[{\"type\":\"parcoords\",\"line\":{\"colorbar\":{\"outlinewidth\":0,\"ticks\":\"\"}}}],\"scatterpolargl\":[{\"type\":\"scatterpolargl\",\"marker\":{\"colorbar\":{\"outlinewidth\":0,\"ticks\":\"\"}}}],\"bar\":[{\"error_x\":{\"color\":\"#2a3f5f\"},\"error_y\":{\"color\":\"#2a3f5f\"},\"marker\":{\"line\":{\"color\":\"#E5ECF6\",\"width\":0.5},\"pattern\":{\"fillmode\":\"overlay\",\"size\":10,\"solidity\":0.2}},\"type\":\"bar\"}],\"scattergeo\":[{\"type\":\"scattergeo\",\"marker\":{\"colorbar\":{\"outlinewidth\":0,\"ticks\":\"\"}}}],\"scatterpolar\":[{\"type\":\"scatterpolar\",\"marker\":{\"colorbar\":{\"outlinewidth\":0,\"ticks\":\"\"}}}],\"histogram\":[{\"marker\":{\"pattern\":{\"fillmode\":\"overlay\",\"size\":10,\"solidity\":0.2}},\"type\":\"histogram\"}],\"scattergl\":[{\"type\":\"scattergl\",\"marker\":{\"colorbar\":{\"outlinewidth\":0,\"ticks\":\"\"}}}],\"scatter3d\":[{\"type\":\"scatter3d\",\"line\":{\"colorbar\":{\"outlinewidth\":0,\"ticks\":\"\"}},\"marker\":{\"colorbar\":{\"outlinewidth\":0,\"ticks\":\"\"}}}],\"scattermapbox\":[{\"type\":\"scattermapbox\",\"marker\":{\"colorbar\":{\"outlinewidth\":0,\"ticks\":\"\"}}}],\"scatterternary\":[{\"type\":\"scatterternary\",\"marker\":{\"colorbar\":{\"outlinewidth\":0,\"ticks\":\"\"}}}],\"scattercarpet\":[{\"type\":\"scattercarpet\",\"marker\":{\"colorbar\":{\"outlinewidth\":0,\"ticks\":\"\"}}}],\"carpet\":[{\"aaxis\":{\"endlinecolor\":\"#2a3f5f\",\"gridcolor\":\"white\",\"linecolor\":\"white\",\"minorgridcolor\":\"white\",\"startlinecolor\":\"#2a3f5f\"},\"baxis\":{\"endlinecolor\":\"#2a3f5f\",\"gridcolor\":\"white\",\"linecolor\":\"white\",\"minorgridcolor\":\"white\",\"startlinecolor\":\"#2a3f5f\"},\"type\":\"carpet\"}],\"table\":[{\"cells\":{\"fill\":{\"color\":\"#EBF0F8\"},\"line\":{\"color\":\"white\"}},\"header\":{\"fill\":{\"color\":\"#C8D4E3\"},\"line\":{\"color\":\"white\"}},\"type\":\"table\"}],\"barpolar\":[{\"marker\":{\"line\":{\"color\":\"#E5ECF6\",\"width\":0.5},\"pattern\":{\"fillmode\":\"overlay\",\"size\":10,\"solidity\":0.2}},\"type\":\"barpolar\"}],\"pie\":[{\"automargin\":true,\"type\":\"pie\"}]},\"layout\":{\"autotypenumbers\":\"strict\",\"colorway\":[\"#636efa\",\"#EF553B\",\"#00cc96\",\"#ab63fa\",\"#FFA15A\",\"#19d3f3\",\"#FF6692\",\"#B6E880\",\"#FF97FF\",\"#FECB52\"],\"font\":{\"color\":\"#2a3f5f\"},\"hovermode\":\"closest\",\"hoverlabel\":{\"align\":\"left\"},\"paper_bgcolor\":\"white\",\"plot_bgcolor\":\"#E5ECF6\",\"polar\":{\"bgcolor\":\"#E5ECF6\",\"angularaxis\":{\"gridcolor\":\"white\",\"linecolor\":\"white\",\"ticks\":\"\"},\"radialaxis\":{\"gridcolor\":\"white\",\"linecolor\":\"white\",\"ticks\":\"\"}},\"ternary\":{\"bgcolor\":\"#E5ECF6\",\"aaxis\":{\"gridcolor\":\"white\",\"linecolor\":\"white\",\"ticks\":\"\"},\"baxis\":{\"gridcolor\":\"white\",\"linecolor\":\"white\",\"ticks\":\"\"},\"caxis\":{\"gridcolor\":\"white\",\"linecolor\":\"white\",\"ticks\":\"\"}},\"coloraxis\":{\"colorbar\":{\"outlinewidth\":0,\"ticks\":\"\"}},\"colorscale\":{\"sequential\":[[0.0,\"#0d0887\"],[0.1111111111111111,\"#46039f\"],[0.2222222222222222,\"#7201a8\"],[0.3333333333333333,\"#9c179e\"],[0.4444444444444444,\"#bd3786\"],[0.5555555555555556,\"#d8576b\"],[0.6666666666666666,\"#ed7953\"],[0.7777777777777778,\"#fb9f3a\"],[0.8888888888888888,\"#fdca26\"],[1.0,\"#f0f921\"]],\"sequentialminus\":[[0.0,\"#0d0887\"],[0.1111111111111111,\"#46039f\"],[0.2222222222222222,\"#7201a8\"],[0.3333333333333333,\"#9c179e\"],[0.4444444444444444,\"#bd3786\"],[0.5555555555555556,\"#d8576b\"],[0.6666666666666666,\"#ed7953\"],[0.7777777777777778,\"#fb9f3a\"],[0.8888888888888888,\"#fdca26\"],[1.0,\"#f0f921\"]],\"diverging\":[[0,\"#8e0152\"],[0.1,\"#c51b7d\"],[0.2,\"#de77ae\"],[0.3,\"#f1b6da\"],[0.4,\"#fde0ef\"],[0.5,\"#f7f7f7\"],[0.6,\"#e6f5d0\"],[0.7,\"#b8e186\"],[0.8,\"#7fbc41\"],[0.9,\"#4d9221\"],[1,\"#276419\"]]},\"xaxis\":{\"gridcolor\":\"white\",\"linecolor\":\"white\",\"ticks\":\"\",\"title\":{\"standoff\":15},\"zerolinecolor\":\"white\",\"automargin\":true,\"zerolinewidth\":2},\"yaxis\":{\"gridcolor\":\"white\",\"linecolor\":\"white\",\"ticks\":\"\",\"title\":{\"standoff\":15},\"zerolinecolor\":\"white\",\"automargin\":true,\"zerolinewidth\":2},\"scene\":{\"xaxis\":{\"backgroundcolor\":\"#E5ECF6\",\"gridcolor\":\"white\",\"linecolor\":\"white\",\"showbackground\":true,\"ticks\":\"\",\"zerolinecolor\":\"white\",\"gridwidth\":2},\"yaxis\":{\"backgroundcolor\":\"#E5ECF6\",\"gridcolor\":\"white\",\"linecolor\":\"white\",\"showbackground\":true,\"ticks\":\"\",\"zerolinecolor\":\"white\",\"gridwidth\":2},\"zaxis\":{\"backgroundcolor\":\"#E5ECF6\",\"gridcolor\":\"white\",\"linecolor\":\"white\",\"showbackground\":true,\"ticks\":\"\",\"zerolinecolor\":\"white\",\"gridwidth\":2}},\"shapedefaults\":{\"line\":{\"color\":\"#2a3f5f\"}},\"annotationdefaults\":{\"arrowcolor\":\"#2a3f5f\",\"arrowhead\":0,\"arrowwidth\":1},\"geo\":{\"bgcolor\":\"white\",\"landcolor\":\"#E5ECF6\",\"subunitcolor\":\"white\",\"showland\":true,\"showlakes\":true,\"lakecolor\":\"white\"},\"title\":{\"x\":0.05},\"mapbox\":{\"style\":\"light\"}}},\"xaxis\":{\"anchor\":\"y\",\"domain\":[0.0,1.0],\"title\":{\"text\":\"Month\"}},\"yaxis\":{\"anchor\":\"x\",\"domain\":[0.0,1.0],\"title\":{\"text\":\"Profit\"}},\"legend\":{\"title\":{\"text\":\"State\"},\"tracegroupgap\":0},\"title\":{\"text\":\"Profit over Months(2011)\"}},                        {\"responsive\": true}                    ).then(function(){\n",
              "                            \n",
              "var gd = document.getElementById('b6286873-6e11-4041-bad4-a06f86cccaee');\n",
              "var x = new MutationObserver(function (mutations, observer) {{\n",
              "        var display = window.getComputedStyle(gd).display;\n",
              "        if (!display || display === 'none') {{\n",
              "            console.log([gd, 'removed!']);\n",
              "            Plotly.purge(gd);\n",
              "            observer.disconnect();\n",
              "        }}\n",
              "}});\n",
              "\n",
              "// Listen for the removal of the full notebook cells\n",
              "var notebookContainer = gd.closest('#notebook-container');\n",
              "if (notebookContainer) {{\n",
              "    x.observe(notebookContainer, {childList: true});\n",
              "}}\n",
              "\n",
              "// Listen for the clearing of the current output cell\n",
              "var outputEl = gd.closest('.output');\n",
              "if (outputEl) {{\n",
              "    x.observe(outputEl, {childList: true});\n",
              "}}\n",
              "\n",
              "                        })                };                            </script>        </div>\n",
              "</body>\n",
              "</html>"
            ]
          },
          "metadata": {},
          "output_type": "display_data"
        }
      ],
      "source": [
        "#import ploty.express as px\n",
        "fig = px.line(d2,'Month','Profit',color='State',title='Profit over Months(2011)')\n",
        "fig.show()"
      ]
    },
    {
      "cell_type": "markdown",
      "metadata": {
        "id": "CnzsUcFuvO8W"
      },
      "source": [
        "CALIFORNIA profit inc. over month and its highest profit is in month 12, i.e - 2273"
      ]
    },
    {
      "cell_type": "code",
      "execution_count": null,
      "metadata": {
        "colab": {
          "base_uri": "https://localhost:8080/",
          "height": 542
        },
        "id": "jPNBX9emrNRi",
        "outputId": "ba850714-d22c-4f2e-c798-a3d4579e0e8e"
      },
      "outputs": [
        {
          "data": {
            "text/html": [
              "<html>\n",
              "<head><meta charset=\"utf-8\" /></head>\n",
              "<body>\n",
              "    <div>            <script src=\"https://cdnjs.cloudflare.com/ajax/libs/mathjax/2.7.5/MathJax.js?config=TeX-AMS-MML_SVG\"></script><script type=\"text/javascript\">if (window.MathJax && window.MathJax.Hub && window.MathJax.Hub.Config) {window.MathJax.Hub.Config({SVG: {font: \"STIX-Web\"}});}</script>                <script type=\"text/javascript\">window.PlotlyConfig = {MathJaxConfig: 'local'};</script>\n",
              "        <script src=\"https://cdn.plot.ly/plotly-2.18.2.min.js\"></script>                <div id=\"42ecbd5d-2f56-48e2-91af-f9d0adabe135\" class=\"plotly-graph-div\" style=\"height:525px; width:100%;\"></div>            <script type=\"text/javascript\">                                    window.PLOTLYENV=window.PLOTLYENV || {};                                    if (document.getElementById(\"42ecbd5d-2f56-48e2-91af-f9d0adabe135\")) {                    Plotly.newPlot(                        \"42ecbd5d-2f56-48e2-91af-f9d0adabe135\",                        [{\"hovertemplate\":\"State=Arizona<br>Month=%{x}<br>Sales=%{y}<extra></extra>\",\"legendgroup\":\"Arizona\",\"line\":{\"color\":\"#636efa\",\"dash\":\"solid\"},\"marker\":{\"symbol\":\"circle\"},\"mode\":\"lines\",\"name\":\"Arizona\",\"orientation\":\"v\",\"showlegend\":true,\"x\":[1,2,3,5,6,7,8,9,10,11,12],\"xaxis\":\"x\",\"y\":[378.59000000000003,598.15,481.72,1280.99,12.5,1835.44,288.53,267.83000000000004,789.21,173.7,2188.59],\"yaxis\":\"y\",\"type\":\"scatter\"},{\"hovertemplate\":\"State=California<br>Month=%{x}<br>Sales=%{y}<extra></extra>\",\"legendgroup\":\"California\",\"line\":{\"color\":\"#EF553B\",\"dash\":\"solid\"},\"marker\":{\"symbol\":\"circle\"},\"mode\":\"lines\",\"name\":\"California\",\"orientation\":\"v\",\"showlegend\":true,\"x\":[1,2,3,4,5,6,7,8,9,10,11,12],\"xaxis\":\"x\",\"y\":[2680.13,571.27,7749.42,6747.09,5026.38,3374.7599999999998,13868.41,5893.51,10059.29,6004.68,8606.55,20722.05],\"yaxis\":\"y\",\"type\":\"scatter\"},{\"hovertemplate\":\"State=Colorado<br>Month=%{x}<br>Sales=%{y}<extra></extra>\",\"legendgroup\":\"Colorado\",\"line\":{\"color\":\"#00cc96\",\"dash\":\"solid\"},\"marker\":{\"symbol\":\"circle\"},\"mode\":\"lines\",\"name\":\"Colorado\",\"orientation\":\"v\",\"showlegend\":true,\"x\":[1,3,4,6,8,9,10,11,12],\"xaxis\":\"x\",\"y\":[2027.15,221.35,209.97,233.0,424.37,14.58,719.5799999999999,1349.08,1303.21],\"yaxis\":\"y\",\"type\":\"scatter\"},{\"hovertemplate\":\"State=Nevada<br>Month=%{x}<br>Sales=%{y}<extra></extra>\",\"legendgroup\":\"Nevada\",\"line\":{\"color\":\"#ab63fa\",\"dash\":\"solid\"},\"marker\":{\"symbol\":\"circle\"},\"mode\":\"lines\",\"name\":\"Nevada\",\"orientation\":\"v\",\"showlegend\":true,\"x\":[1,7,9,12],\"xaxis\":\"x\",\"y\":[44.79,1891.31,149.16,475.94],\"yaxis\":\"y\",\"type\":\"scatter\"},{\"hovertemplate\":\"State=Oregon<br>Month=%{x}<br>Sales=%{y}<extra></extra>\",\"legendgroup\":\"Oregon\",\"line\":{\"color\":\"#FFA15A\",\"dash\":\"solid\"},\"marker\":{\"symbol\":\"circle\"},\"mode\":\"lines\",\"name\":\"Oregon\",\"orientation\":\"v\",\"showlegend\":true,\"x\":[1,2,6,7,8,9,10,11],\"xaxis\":\"x\",\"y\":[664.76,55.68,673.83,146.69,265.79,318.3,1508.77,1173.99],\"yaxis\":\"y\",\"type\":\"scatter\"},{\"hovertemplate\":\"State=Washington<br>Month=%{x}<br>Sales=%{y}<extra></extra>\",\"legendgroup\":\"Washington\",\"line\":{\"color\":\"#19d3f3\",\"dash\":\"solid\"},\"marker\":{\"symbol\":\"circle\"},\"mode\":\"lines\",\"name\":\"Washington\",\"orientation\":\"v\",\"showlegend\":true,\"x\":[1,2,3,4,5,6,7,8,9,10,11,12],\"xaxis\":\"x\",\"y\":[477.49,676.64,576.12,196.21,234.93,3977.9700000000003,3198.26,4014.6099999999997,9858.55,2262.68,4232.66,165.45],\"yaxis\":\"y\",\"type\":\"scatter\"},{\"hovertemplate\":\"State=Utah<br>Month=%{x}<br>Sales=%{y}<extra></extra>\",\"legendgroup\":\"Utah\",\"line\":{\"color\":\"#FF6692\",\"dash\":\"solid\"},\"marker\":{\"symbol\":\"circle\"},\"mode\":\"lines\",\"name\":\"Utah\",\"orientation\":\"v\",\"showlegend\":true,\"x\":[2,3,4,5,7,11],\"xaxis\":\"x\",\"y\":[133.13,280.28,2126.0299999999997,103.9,111.93,188.42],\"yaxis\":\"y\",\"type\":\"scatter\"},{\"hovertemplate\":\"State=New Mexico<br>Month=%{x}<br>Sales=%{y}<extra></extra>\",\"legendgroup\":\"New Mexico\",\"line\":{\"color\":\"#B6E880\",\"dash\":\"solid\"},\"marker\":{\"symbol\":\"circle\"},\"mode\":\"lines\",\"name\":\"New Mexico\",\"orientation\":\"v\",\"showlegend\":true,\"x\":[3,8,10,12],\"xaxis\":\"x\",\"y\":[302.38,92.52,255.85,57.269999999999996],\"yaxis\":\"y\",\"type\":\"scatter\"},{\"hovertemplate\":\"State=Montana<br>Month=%{x}<br>Sales=%{y}<extra></extra>\",\"legendgroup\":\"Montana\",\"line\":{\"color\":\"#FF97FF\",\"dash\":\"solid\"},\"marker\":{\"symbol\":\"circle\"},\"mode\":\"lines\",\"name\":\"Montana\",\"orientation\":\"v\",\"showlegend\":true,\"x\":[7,8,11],\"xaxis\":\"x\",\"y\":[6.1,8.29,410.1],\"yaxis\":\"y\",\"type\":\"scatter\"},{\"hovertemplate\":\"State=Idaho<br>Month=%{x}<br>Sales=%{y}<extra></extra>\",\"legendgroup\":\"Idaho\",\"line\":{\"color\":\"#FECB52\",\"dash\":\"solid\"},\"marker\":{\"symbol\":\"circle\"},\"mode\":\"lines\",\"name\":\"Idaho\",\"orientation\":\"v\",\"showlegend\":true,\"x\":[10,11],\"xaxis\":\"x\",\"y\":[455.63,9.58],\"yaxis\":\"y\",\"type\":\"scatter\"}],                        {\"template\":{\"data\":{\"histogram2dcontour\":[{\"type\":\"histogram2dcontour\",\"colorbar\":{\"outlinewidth\":0,\"ticks\":\"\"},\"colorscale\":[[0.0,\"#0d0887\"],[0.1111111111111111,\"#46039f\"],[0.2222222222222222,\"#7201a8\"],[0.3333333333333333,\"#9c179e\"],[0.4444444444444444,\"#bd3786\"],[0.5555555555555556,\"#d8576b\"],[0.6666666666666666,\"#ed7953\"],[0.7777777777777778,\"#fb9f3a\"],[0.8888888888888888,\"#fdca26\"],[1.0,\"#f0f921\"]]}],\"choropleth\":[{\"type\":\"choropleth\",\"colorbar\":{\"outlinewidth\":0,\"ticks\":\"\"}}],\"histogram2d\":[{\"type\":\"histogram2d\",\"colorbar\":{\"outlinewidth\":0,\"ticks\":\"\"},\"colorscale\":[[0.0,\"#0d0887\"],[0.1111111111111111,\"#46039f\"],[0.2222222222222222,\"#7201a8\"],[0.3333333333333333,\"#9c179e\"],[0.4444444444444444,\"#bd3786\"],[0.5555555555555556,\"#d8576b\"],[0.6666666666666666,\"#ed7953\"],[0.7777777777777778,\"#fb9f3a\"],[0.8888888888888888,\"#fdca26\"],[1.0,\"#f0f921\"]]}],\"heatmap\":[{\"type\":\"heatmap\",\"colorbar\":{\"outlinewidth\":0,\"ticks\":\"\"},\"colorscale\":[[0.0,\"#0d0887\"],[0.1111111111111111,\"#46039f\"],[0.2222222222222222,\"#7201a8\"],[0.3333333333333333,\"#9c179e\"],[0.4444444444444444,\"#bd3786\"],[0.5555555555555556,\"#d8576b\"],[0.6666666666666666,\"#ed7953\"],[0.7777777777777778,\"#fb9f3a\"],[0.8888888888888888,\"#fdca26\"],[1.0,\"#f0f921\"]]}],\"heatmapgl\":[{\"type\":\"heatmapgl\",\"colorbar\":{\"outlinewidth\":0,\"ticks\":\"\"},\"colorscale\":[[0.0,\"#0d0887\"],[0.1111111111111111,\"#46039f\"],[0.2222222222222222,\"#7201a8\"],[0.3333333333333333,\"#9c179e\"],[0.4444444444444444,\"#bd3786\"],[0.5555555555555556,\"#d8576b\"],[0.6666666666666666,\"#ed7953\"],[0.7777777777777778,\"#fb9f3a\"],[0.8888888888888888,\"#fdca26\"],[1.0,\"#f0f921\"]]}],\"contourcarpet\":[{\"type\":\"contourcarpet\",\"colorbar\":{\"outlinewidth\":0,\"ticks\":\"\"}}],\"contour\":[{\"type\":\"contour\",\"colorbar\":{\"outlinewidth\":0,\"ticks\":\"\"},\"colorscale\":[[0.0,\"#0d0887\"],[0.1111111111111111,\"#46039f\"],[0.2222222222222222,\"#7201a8\"],[0.3333333333333333,\"#9c179e\"],[0.4444444444444444,\"#bd3786\"],[0.5555555555555556,\"#d8576b\"],[0.6666666666666666,\"#ed7953\"],[0.7777777777777778,\"#fb9f3a\"],[0.8888888888888888,\"#fdca26\"],[1.0,\"#f0f921\"]]}],\"surface\":[{\"type\":\"surface\",\"colorbar\":{\"outlinewidth\":0,\"ticks\":\"\"},\"colorscale\":[[0.0,\"#0d0887\"],[0.1111111111111111,\"#46039f\"],[0.2222222222222222,\"#7201a8\"],[0.3333333333333333,\"#9c179e\"],[0.4444444444444444,\"#bd3786\"],[0.5555555555555556,\"#d8576b\"],[0.6666666666666666,\"#ed7953\"],[0.7777777777777778,\"#fb9f3a\"],[0.8888888888888888,\"#fdca26\"],[1.0,\"#f0f921\"]]}],\"mesh3d\":[{\"type\":\"mesh3d\",\"colorbar\":{\"outlinewidth\":0,\"ticks\":\"\"}}],\"scatter\":[{\"fillpattern\":{\"fillmode\":\"overlay\",\"size\":10,\"solidity\":0.2},\"type\":\"scatter\"}],\"parcoords\":[{\"type\":\"parcoords\",\"line\":{\"colorbar\":{\"outlinewidth\":0,\"ticks\":\"\"}}}],\"scatterpolargl\":[{\"type\":\"scatterpolargl\",\"marker\":{\"colorbar\":{\"outlinewidth\":0,\"ticks\":\"\"}}}],\"bar\":[{\"error_x\":{\"color\":\"#2a3f5f\"},\"error_y\":{\"color\":\"#2a3f5f\"},\"marker\":{\"line\":{\"color\":\"#E5ECF6\",\"width\":0.5},\"pattern\":{\"fillmode\":\"overlay\",\"size\":10,\"solidity\":0.2}},\"type\":\"bar\"}],\"scattergeo\":[{\"type\":\"scattergeo\",\"marker\":{\"colorbar\":{\"outlinewidth\":0,\"ticks\":\"\"}}}],\"scatterpolar\":[{\"type\":\"scatterpolar\",\"marker\":{\"colorbar\":{\"outlinewidth\":0,\"ticks\":\"\"}}}],\"histogram\":[{\"marker\":{\"pattern\":{\"fillmode\":\"overlay\",\"size\":10,\"solidity\":0.2}},\"type\":\"histogram\"}],\"scattergl\":[{\"type\":\"scattergl\",\"marker\":{\"colorbar\":{\"outlinewidth\":0,\"ticks\":\"\"}}}],\"scatter3d\":[{\"type\":\"scatter3d\",\"line\":{\"colorbar\":{\"outlinewidth\":0,\"ticks\":\"\"}},\"marker\":{\"colorbar\":{\"outlinewidth\":0,\"ticks\":\"\"}}}],\"scattermapbox\":[{\"type\":\"scattermapbox\",\"marker\":{\"colorbar\":{\"outlinewidth\":0,\"ticks\":\"\"}}}],\"scatterternary\":[{\"type\":\"scatterternary\",\"marker\":{\"colorbar\":{\"outlinewidth\":0,\"ticks\":\"\"}}}],\"scattercarpet\":[{\"type\":\"scattercarpet\",\"marker\":{\"colorbar\":{\"outlinewidth\":0,\"ticks\":\"\"}}}],\"carpet\":[{\"aaxis\":{\"endlinecolor\":\"#2a3f5f\",\"gridcolor\":\"white\",\"linecolor\":\"white\",\"minorgridcolor\":\"white\",\"startlinecolor\":\"#2a3f5f\"},\"baxis\":{\"endlinecolor\":\"#2a3f5f\",\"gridcolor\":\"white\",\"linecolor\":\"white\",\"minorgridcolor\":\"white\",\"startlinecolor\":\"#2a3f5f\"},\"type\":\"carpet\"}],\"table\":[{\"cells\":{\"fill\":{\"color\":\"#EBF0F8\"},\"line\":{\"color\":\"white\"}},\"header\":{\"fill\":{\"color\":\"#C8D4E3\"},\"line\":{\"color\":\"white\"}},\"type\":\"table\"}],\"barpolar\":[{\"marker\":{\"line\":{\"color\":\"#E5ECF6\",\"width\":0.5},\"pattern\":{\"fillmode\":\"overlay\",\"size\":10,\"solidity\":0.2}},\"type\":\"barpolar\"}],\"pie\":[{\"automargin\":true,\"type\":\"pie\"}]},\"layout\":{\"autotypenumbers\":\"strict\",\"colorway\":[\"#636efa\",\"#EF553B\",\"#00cc96\",\"#ab63fa\",\"#FFA15A\",\"#19d3f3\",\"#FF6692\",\"#B6E880\",\"#FF97FF\",\"#FECB52\"],\"font\":{\"color\":\"#2a3f5f\"},\"hovermode\":\"closest\",\"hoverlabel\":{\"align\":\"left\"},\"paper_bgcolor\":\"white\",\"plot_bgcolor\":\"#E5ECF6\",\"polar\":{\"bgcolor\":\"#E5ECF6\",\"angularaxis\":{\"gridcolor\":\"white\",\"linecolor\":\"white\",\"ticks\":\"\"},\"radialaxis\":{\"gridcolor\":\"white\",\"linecolor\":\"white\",\"ticks\":\"\"}},\"ternary\":{\"bgcolor\":\"#E5ECF6\",\"aaxis\":{\"gridcolor\":\"white\",\"linecolor\":\"white\",\"ticks\":\"\"},\"baxis\":{\"gridcolor\":\"white\",\"linecolor\":\"white\",\"ticks\":\"\"},\"caxis\":{\"gridcolor\":\"white\",\"linecolor\":\"white\",\"ticks\":\"\"}},\"coloraxis\":{\"colorbar\":{\"outlinewidth\":0,\"ticks\":\"\"}},\"colorscale\":{\"sequential\":[[0.0,\"#0d0887\"],[0.1111111111111111,\"#46039f\"],[0.2222222222222222,\"#7201a8\"],[0.3333333333333333,\"#9c179e\"],[0.4444444444444444,\"#bd3786\"],[0.5555555555555556,\"#d8576b\"],[0.6666666666666666,\"#ed7953\"],[0.7777777777777778,\"#fb9f3a\"],[0.8888888888888888,\"#fdca26\"],[1.0,\"#f0f921\"]],\"sequentialminus\":[[0.0,\"#0d0887\"],[0.1111111111111111,\"#46039f\"],[0.2222222222222222,\"#7201a8\"],[0.3333333333333333,\"#9c179e\"],[0.4444444444444444,\"#bd3786\"],[0.5555555555555556,\"#d8576b\"],[0.6666666666666666,\"#ed7953\"],[0.7777777777777778,\"#fb9f3a\"],[0.8888888888888888,\"#fdca26\"],[1.0,\"#f0f921\"]],\"diverging\":[[0,\"#8e0152\"],[0.1,\"#c51b7d\"],[0.2,\"#de77ae\"],[0.3,\"#f1b6da\"],[0.4,\"#fde0ef\"],[0.5,\"#f7f7f7\"],[0.6,\"#e6f5d0\"],[0.7,\"#b8e186\"],[0.8,\"#7fbc41\"],[0.9,\"#4d9221\"],[1,\"#276419\"]]},\"xaxis\":{\"gridcolor\":\"white\",\"linecolor\":\"white\",\"ticks\":\"\",\"title\":{\"standoff\":15},\"zerolinecolor\":\"white\",\"automargin\":true,\"zerolinewidth\":2},\"yaxis\":{\"gridcolor\":\"white\",\"linecolor\":\"white\",\"ticks\":\"\",\"title\":{\"standoff\":15},\"zerolinecolor\":\"white\",\"automargin\":true,\"zerolinewidth\":2},\"scene\":{\"xaxis\":{\"backgroundcolor\":\"#E5ECF6\",\"gridcolor\":\"white\",\"linecolor\":\"white\",\"showbackground\":true,\"ticks\":\"\",\"zerolinecolor\":\"white\",\"gridwidth\":2},\"yaxis\":{\"backgroundcolor\":\"#E5ECF6\",\"gridcolor\":\"white\",\"linecolor\":\"white\",\"showbackground\":true,\"ticks\":\"\",\"zerolinecolor\":\"white\",\"gridwidth\":2},\"zaxis\":{\"backgroundcolor\":\"#E5ECF6\",\"gridcolor\":\"white\",\"linecolor\":\"white\",\"showbackground\":true,\"ticks\":\"\",\"zerolinecolor\":\"white\",\"gridwidth\":2}},\"shapedefaults\":{\"line\":{\"color\":\"#2a3f5f\"}},\"annotationdefaults\":{\"arrowcolor\":\"#2a3f5f\",\"arrowhead\":0,\"arrowwidth\":1},\"geo\":{\"bgcolor\":\"white\",\"landcolor\":\"#E5ECF6\",\"subunitcolor\":\"white\",\"showland\":true,\"showlakes\":true,\"lakecolor\":\"white\"},\"title\":{\"x\":0.05},\"mapbox\":{\"style\":\"light\"}}},\"xaxis\":{\"anchor\":\"y\",\"domain\":[0.0,1.0],\"title\":{\"text\":\"Month\"}},\"yaxis\":{\"anchor\":\"x\",\"domain\":[0.0,1.0],\"title\":{\"text\":\"Sales\"}},\"legend\":{\"title\":{\"text\":\"State\"},\"tracegroupgap\":0},\"title\":{\"text\":\"Sales_over_month(2011)\"}},                        {\"responsive\": true}                    ).then(function(){\n",
              "                            \n",
              "var gd = document.getElementById('42ecbd5d-2f56-48e2-91af-f9d0adabe135');\n",
              "var x = new MutationObserver(function (mutations, observer) {{\n",
              "        var display = window.getComputedStyle(gd).display;\n",
              "        if (!display || display === 'none') {{\n",
              "            console.log([gd, 'removed!']);\n",
              "            Plotly.purge(gd);\n",
              "            observer.disconnect();\n",
              "        }}\n",
              "}});\n",
              "\n",
              "// Listen for the removal of the full notebook cells\n",
              "var notebookContainer = gd.closest('#notebook-container');\n",
              "if (notebookContainer) {{\n",
              "    x.observe(notebookContainer, {childList: true});\n",
              "}}\n",
              "\n",
              "// Listen for the clearing of the current output cell\n",
              "var outputEl = gd.closest('.output');\n",
              "if (outputEl) {{\n",
              "    x.observe(outputEl, {childList: true});\n",
              "}}\n",
              "\n",
              "                        })                };                            </script>        </div>\n",
              "</body>\n",
              "</html>"
            ]
          },
          "metadata": {},
          "output_type": "display_data"
        }
      ],
      "source": [
        "# graph of sales over month\n",
        "fig = px.line(d2,y='Sales',x='Month',color='State',title = 'Sales_over_month(2011)')\n",
        "fig.show()"
      ]
    },
    {
      "cell_type": "markdown",
      "metadata": {
        "id": "-hqKwkQ-slPt"
      },
      "source": [
        "california sales inc. over months and its highest sale is on month 12 which is 20722."
      ]
    },
    {
      "cell_type": "code",
      "execution_count": null,
      "metadata": {
        "colab": {
          "base_uri": "https://localhost:8080/",
          "height": 478
        },
        "id": "Ygmbn1fgvPRY",
        "outputId": "19f116a2-8df0-4c81-fd60-dfebb8ee0df5"
      },
      "outputs": [
        {
          "data": {
            "text/html": [
              "\n",
              "  <div id=\"df-864cf347-f2b1-4c7d-a1de-eec084ff0260\">\n",
              "    <div class=\"colab-df-container\">\n",
              "      <div>\n",
              "<style scoped>\n",
              "    .dataframe tbody tr th:only-of-type {\n",
              "        vertical-align: middle;\n",
              "    }\n",
              "\n",
              "    .dataframe tbody tr th {\n",
              "        vertical-align: top;\n",
              "    }\n",
              "\n",
              "    .dataframe thead th {\n",
              "        text-align: right;\n",
              "    }\n",
              "</style>\n",
              "<table border=\"1\" class=\"dataframe\">\n",
              "  <thead>\n",
              "    <tr style=\"text-align: right;\">\n",
              "      <th></th>\n",
              "      <th>Order ID</th>\n",
              "      <th>Order Date</th>\n",
              "      <th>Month</th>\n",
              "      <th>Year</th>\n",
              "      <th>Ship Date</th>\n",
              "      <th>Customer Name</th>\n",
              "      <th>Country</th>\n",
              "      <th>City</th>\n",
              "      <th>State</th>\n",
              "      <th>Category</th>\n",
              "      <th>Product Name</th>\n",
              "      <th>Quantity</th>\n",
              "      <th>Cost</th>\n",
              "      <th>Sales</th>\n",
              "      <th>Profit</th>\n",
              "      <th>Cost/Unit</th>\n",
              "      <th>Price</th>\n",
              "      <th>Profit/Unit</th>\n",
              "    </tr>\n",
              "  </thead>\n",
              "  <tbody>\n",
              "    <tr>\n",
              "      <th>1114</th>\n",
              "      <td>CA-2011-143385</td>\n",
              "      <td>2011-08-31</td>\n",
              "      <td>8</td>\n",
              "      <td>2011</td>\n",
              "      <td>2011-05-09</td>\n",
              "      <td>Shirley Jackson</td>\n",
              "      <td>United States</td>\n",
              "      <td>Santa Fe</td>\n",
              "      <td>New Mexico</td>\n",
              "      <td>Accessories</td>\n",
              "      <td>KeyTronic KT400U2 - Keyboard - Black</td>\n",
              "      <td>9.0</td>\n",
              "      <td>74.02</td>\n",
              "      <td>92.52</td>\n",
              "      <td>18.50</td>\n",
              "      <td>8.224444</td>\n",
              "      <td>10.280000</td>\n",
              "      <td>2.055556</td>\n",
              "    </tr>\n",
              "    <tr>\n",
              "      <th>1356</th>\n",
              "      <td>CA-2011-152345</td>\n",
              "      <td>2011-12-29</td>\n",
              "      <td>12</td>\n",
              "      <td>2011</td>\n",
              "      <td>2012-03-01</td>\n",
              "      <td>Shui Tom</td>\n",
              "      <td>United States</td>\n",
              "      <td>Albuquerque</td>\n",
              "      <td>New Mexico</td>\n",
              "      <td>Phones</td>\n",
              "      <td>Mediabridge Sport Armband iPhone 5s</td>\n",
              "      <td>3.0</td>\n",
              "      <td>29.67</td>\n",
              "      <td>23.98</td>\n",
              "      <td>-5.69</td>\n",
              "      <td>9.890000</td>\n",
              "      <td>7.993333</td>\n",
              "      <td>-1.896667</td>\n",
              "    </tr>\n",
              "    <tr>\n",
              "      <th>1357</th>\n",
              "      <td>CA-2011-152345</td>\n",
              "      <td>2011-12-29</td>\n",
              "      <td>12</td>\n",
              "      <td>2011</td>\n",
              "      <td>2012-03-01</td>\n",
              "      <td>Shui Tom</td>\n",
              "      <td>United States</td>\n",
              "      <td>Albuquerque</td>\n",
              "      <td>New Mexico</td>\n",
              "      <td>Storage</td>\n",
              "      <td>Fellowes Bases and Tops For Staxonsteel/High-S...</td>\n",
              "      <td>1.0</td>\n",
              "      <td>25.30</td>\n",
              "      <td>33.29</td>\n",
              "      <td>7.99</td>\n",
              "      <td>25.300000</td>\n",
              "      <td>33.290000</td>\n",
              "      <td>7.990000</td>\n",
              "    </tr>\n",
              "    <tr>\n",
              "      <th>2733</th>\n",
              "      <td>CA-2011-100881</td>\n",
              "      <td>2011-03-28</td>\n",
              "      <td>3</td>\n",
              "      <td>2011</td>\n",
              "      <td>2011-01-04</td>\n",
              "      <td>Daniel Raglin</td>\n",
              "      <td>United States</td>\n",
              "      <td>Albuquerque</td>\n",
              "      <td>New Mexico</td>\n",
              "      <td>Phones</td>\n",
              "      <td>AT&amp;T TR1909W</td>\n",
              "      <td>3.0</td>\n",
              "      <td>279.70</td>\n",
              "      <td>302.38</td>\n",
              "      <td>22.68</td>\n",
              "      <td>93.233333</td>\n",
              "      <td>100.793333</td>\n",
              "      <td>7.560000</td>\n",
              "    </tr>\n",
              "    <tr>\n",
              "      <th>2976</th>\n",
              "      <td>US-2011-134054</td>\n",
              "      <td>2011-10-10</td>\n",
              "      <td>10</td>\n",
              "      <td>2011</td>\n",
              "      <td>2011-10-10</td>\n",
              "      <td>Fred Chung</td>\n",
              "      <td>United States</td>\n",
              "      <td>Albuquerque</td>\n",
              "      <td>New Mexico</td>\n",
              "      <td>Art</td>\n",
              "      <td>Dixon Ticonderoga Core-Lock Colored Pencils, 4...</td>\n",
              "      <td>7.0</td>\n",
              "      <td>143.28</td>\n",
              "      <td>255.85</td>\n",
              "      <td>112.57</td>\n",
              "      <td>20.468571</td>\n",
              "      <td>36.550000</td>\n",
              "      <td>16.081429</td>\n",
              "    </tr>\n",
              "  </tbody>\n",
              "</table>\n",
              "</div>\n",
              "      <button class=\"colab-df-convert\" onclick=\"convertToInteractive('df-864cf347-f2b1-4c7d-a1de-eec084ff0260')\"\n",
              "              title=\"Convert this dataframe to an interactive table.\"\n",
              "              style=\"display:none;\">\n",
              "        \n",
              "  <svg xmlns=\"http://www.w3.org/2000/svg\" height=\"24px\"viewBox=\"0 0 24 24\"\n",
              "       width=\"24px\">\n",
              "    <path d=\"M0 0h24v24H0V0z\" fill=\"none\"/>\n",
              "    <path d=\"M18.56 5.44l.94 2.06.94-2.06 2.06-.94-2.06-.94-.94-2.06-.94 2.06-2.06.94zm-11 1L8.5 8.5l.94-2.06 2.06-.94-2.06-.94L8.5 2.5l-.94 2.06-2.06.94zm10 10l.94 2.06.94-2.06 2.06-.94-2.06-.94-.94-2.06-.94 2.06-2.06.94z\"/><path d=\"M17.41 7.96l-1.37-1.37c-.4-.4-.92-.59-1.43-.59-.52 0-1.04.2-1.43.59L10.3 9.45l-7.72 7.72c-.78.78-.78 2.05 0 2.83L4 21.41c.39.39.9.59 1.41.59.51 0 1.02-.2 1.41-.59l7.78-7.78 2.81-2.81c.8-.78.8-2.07 0-2.86zM5.41 20L4 18.59l7.72-7.72 1.47 1.35L5.41 20z\"/>\n",
              "  </svg>\n",
              "      </button>\n",
              "      \n",
              "  <style>\n",
              "    .colab-df-container {\n",
              "      display:flex;\n",
              "      flex-wrap:wrap;\n",
              "      gap: 12px;\n",
              "    }\n",
              "\n",
              "    .colab-df-convert {\n",
              "      background-color: #E8F0FE;\n",
              "      border: none;\n",
              "      border-radius: 50%;\n",
              "      cursor: pointer;\n",
              "      display: none;\n",
              "      fill: #1967D2;\n",
              "      height: 32px;\n",
              "      padding: 0 0 0 0;\n",
              "      width: 32px;\n",
              "    }\n",
              "\n",
              "    .colab-df-convert:hover {\n",
              "      background-color: #E2EBFA;\n",
              "      box-shadow: 0px 1px 2px rgba(60, 64, 67, 0.3), 0px 1px 3px 1px rgba(60, 64, 67, 0.15);\n",
              "      fill: #174EA6;\n",
              "    }\n",
              "\n",
              "    [theme=dark] .colab-df-convert {\n",
              "      background-color: #3B4455;\n",
              "      fill: #D2E3FC;\n",
              "    }\n",
              "\n",
              "    [theme=dark] .colab-df-convert:hover {\n",
              "      background-color: #434B5C;\n",
              "      box-shadow: 0px 1px 3px 1px rgba(0, 0, 0, 0.15);\n",
              "      filter: drop-shadow(0px 1px 2px rgba(0, 0, 0, 0.3));\n",
              "      fill: #FFFFFF;\n",
              "    }\n",
              "  </style>\n",
              "\n",
              "      <script>\n",
              "        const buttonEl =\n",
              "          document.querySelector('#df-864cf347-f2b1-4c7d-a1de-eec084ff0260 button.colab-df-convert');\n",
              "        buttonEl.style.display =\n",
              "          google.colab.kernel.accessAllowed ? 'block' : 'none';\n",
              "\n",
              "        async function convertToInteractive(key) {\n",
              "          const element = document.querySelector('#df-864cf347-f2b1-4c7d-a1de-eec084ff0260');\n",
              "          const dataTable =\n",
              "            await google.colab.kernel.invokeFunction('convertToInteractive',\n",
              "                                                     [key], {});\n",
              "          if (!dataTable) return;\n",
              "\n",
              "          const docLinkHtml = 'Like what you see? Visit the ' +\n",
              "            '<a target=\"_blank\" href=https://colab.research.google.com/notebooks/data_table.ipynb>data table notebook</a>'\n",
              "            + ' to learn more about interactive tables.';\n",
              "          element.innerHTML = '';\n",
              "          dataTable['output_type'] = 'display_data';\n",
              "          await google.colab.output.renderOutput(dataTable, element);\n",
              "          const docLink = document.createElement('div');\n",
              "          docLink.innerHTML = docLinkHtml;\n",
              "          element.appendChild(docLink);\n",
              "        }\n",
              "      </script>\n",
              "    </div>\n",
              "  </div>\n",
              "  "
            ],
            "text/plain": [
              "            Order ID Order Date  Month  Year  Ship Date    Customer Name  \\\n",
              "1114  CA-2011-143385 2011-08-31      8  2011 2011-05-09  Shirley Jackson   \n",
              "1356  CA-2011-152345 2011-12-29     12  2011 2012-03-01         Shui Tom   \n",
              "1357  CA-2011-152345 2011-12-29     12  2011 2012-03-01         Shui Tom   \n",
              "2733  CA-2011-100881 2011-03-28      3  2011 2011-01-04    Daniel Raglin   \n",
              "2976  US-2011-134054 2011-10-10     10  2011 2011-10-10       Fred Chung   \n",
              "\n",
              "            Country         City       State     Category  \\\n",
              "1114  United States     Santa Fe  New Mexico  Accessories   \n",
              "1356  United States  Albuquerque  New Mexico       Phones   \n",
              "1357  United States  Albuquerque  New Mexico      Storage   \n",
              "2733  United States  Albuquerque  New Mexico       Phones   \n",
              "2976  United States  Albuquerque  New Mexico          Art   \n",
              "\n",
              "                                           Product Name  Quantity    Cost  \\\n",
              "1114               KeyTronic KT400U2 - Keyboard - Black       9.0   74.02   \n",
              "1356                Mediabridge Sport Armband iPhone 5s       3.0   29.67   \n",
              "1357  Fellowes Bases and Tops For Staxonsteel/High-S...       1.0   25.30   \n",
              "2733                                       AT&T TR1909W       3.0  279.70   \n",
              "2976  Dixon Ticonderoga Core-Lock Colored Pencils, 4...       7.0  143.28   \n",
              "\n",
              "       Sales  Profit  Cost/Unit       Price  Profit/Unit  \n",
              "1114   92.52   18.50   8.224444   10.280000     2.055556  \n",
              "1356   23.98   -5.69   9.890000    7.993333    -1.896667  \n",
              "1357   33.29    7.99  25.300000   33.290000     7.990000  \n",
              "2733  302.38   22.68  93.233333  100.793333     7.560000  \n",
              "2976  255.85  112.57  20.468571   36.550000    16.081429  "
            ]
          },
          "execution_count": 160,
          "metadata": {},
          "output_type": "execute_result"
        }
      ],
      "source": [
        "# Q- agar ab hame isme ye nikalna hai ki 12th month me new mexico state ki kitni sale hui hai\n",
        "c= year1[year1['State']=='New Mexico']\n",
        "c"
      ]
    },
    {
      "cell_type": "code",
      "execution_count": null,
      "metadata": {
        "colab": {
          "base_uri": "https://localhost:8080/"
        },
        "id": "hrOkpj11wv8m",
        "outputId": "acd36c5c-813b-41c5-8d95-ee288b9c3c18"
      },
      "outputs": [
        {
          "data": {
            "text/plain": [
              "1356    23.98\n",
              "1357    33.29\n",
              "Name: Sales, dtype: float64"
            ]
          },
          "execution_count": 161,
          "metadata": {},
          "output_type": "execute_result"
        }
      ],
      "source": [
        "# ''' IMP CODE HAI LIKH LENA'''----- .query\n",
        "result = year1.query('Month == 12 and State == \"New Mexico\"')['Sales']\n",
        "result"
      ]
    },
    {
      "cell_type": "code",
      "execution_count": null,
      "metadata": {
        "colab": {
          "base_uri": "https://localhost:8080/",
          "height": 280
        },
        "id": "Vly-WVaJ27MJ",
        "outputId": "8ee0f896-6bd2-4afb-b9d9-a1d175586673"
      },
      "outputs": [
        {
          "data": {
            "text/html": [
              "\n",
              "  <div id=\"df-101d914f-8e82-46f8-901d-0d9f86fdffc0\">\n",
              "    <div class=\"colab-df-container\">\n",
              "      <div>\n",
              "<style scoped>\n",
              "    .dataframe tbody tr th:only-of-type {\n",
              "        vertical-align: middle;\n",
              "    }\n",
              "\n",
              "    .dataframe tbody tr th {\n",
              "        vertical-align: top;\n",
              "    }\n",
              "\n",
              "    .dataframe thead th {\n",
              "        text-align: right;\n",
              "    }\n",
              "</style>\n",
              "<table border=\"1\" class=\"dataframe\">\n",
              "  <thead>\n",
              "    <tr style=\"text-align: right;\">\n",
              "      <th></th>\n",
              "      <th>Order ID</th>\n",
              "      <th>Order Date</th>\n",
              "      <th>Month</th>\n",
              "      <th>Year</th>\n",
              "      <th>Ship Date</th>\n",
              "      <th>Customer Name</th>\n",
              "      <th>Country</th>\n",
              "      <th>City</th>\n",
              "      <th>State</th>\n",
              "      <th>Category</th>\n",
              "      <th>Product Name</th>\n",
              "      <th>Quantity</th>\n",
              "      <th>Cost</th>\n",
              "      <th>Sales</th>\n",
              "      <th>Profit</th>\n",
              "      <th>Cost/Unit</th>\n",
              "      <th>Price</th>\n",
              "      <th>Profit/Unit</th>\n",
              "    </tr>\n",
              "  </thead>\n",
              "  <tbody>\n",
              "    <tr>\n",
              "      <th>1356</th>\n",
              "      <td>CA-2011-152345</td>\n",
              "      <td>2011-12-29</td>\n",
              "      <td>12</td>\n",
              "      <td>2011</td>\n",
              "      <td>2012-03-01</td>\n",
              "      <td>Shui Tom</td>\n",
              "      <td>United States</td>\n",
              "      <td>Albuquerque</td>\n",
              "      <td>New Mexico</td>\n",
              "      <td>Phones</td>\n",
              "      <td>Mediabridge Sport Armband iPhone 5s</td>\n",
              "      <td>3.0</td>\n",
              "      <td>29.67</td>\n",
              "      <td>23.98</td>\n",
              "      <td>-5.69</td>\n",
              "      <td>9.89</td>\n",
              "      <td>7.993333</td>\n",
              "      <td>-1.896667</td>\n",
              "    </tr>\n",
              "    <tr>\n",
              "      <th>1357</th>\n",
              "      <td>CA-2011-152345</td>\n",
              "      <td>2011-12-29</td>\n",
              "      <td>12</td>\n",
              "      <td>2011</td>\n",
              "      <td>2012-03-01</td>\n",
              "      <td>Shui Tom</td>\n",
              "      <td>United States</td>\n",
              "      <td>Albuquerque</td>\n",
              "      <td>New Mexico</td>\n",
              "      <td>Storage</td>\n",
              "      <td>Fellowes Bases and Tops For Staxonsteel/High-S...</td>\n",
              "      <td>1.0</td>\n",
              "      <td>25.30</td>\n",
              "      <td>33.29</td>\n",
              "      <td>7.99</td>\n",
              "      <td>25.30</td>\n",
              "      <td>33.290000</td>\n",
              "      <td>7.990000</td>\n",
              "    </tr>\n",
              "  </tbody>\n",
              "</table>\n",
              "</div>\n",
              "      <button class=\"colab-df-convert\" onclick=\"convertToInteractive('df-101d914f-8e82-46f8-901d-0d9f86fdffc0')\"\n",
              "              title=\"Convert this dataframe to an interactive table.\"\n",
              "              style=\"display:none;\">\n",
              "        \n",
              "  <svg xmlns=\"http://www.w3.org/2000/svg\" height=\"24px\"viewBox=\"0 0 24 24\"\n",
              "       width=\"24px\">\n",
              "    <path d=\"M0 0h24v24H0V0z\" fill=\"none\"/>\n",
              "    <path d=\"M18.56 5.44l.94 2.06.94-2.06 2.06-.94-2.06-.94-.94-2.06-.94 2.06-2.06.94zm-11 1L8.5 8.5l.94-2.06 2.06-.94-2.06-.94L8.5 2.5l-.94 2.06-2.06.94zm10 10l.94 2.06.94-2.06 2.06-.94-2.06-.94-.94-2.06-.94 2.06-2.06.94z\"/><path d=\"M17.41 7.96l-1.37-1.37c-.4-.4-.92-.59-1.43-.59-.52 0-1.04.2-1.43.59L10.3 9.45l-7.72 7.72c-.78.78-.78 2.05 0 2.83L4 21.41c.39.39.9.59 1.41.59.51 0 1.02-.2 1.41-.59l7.78-7.78 2.81-2.81c.8-.78.8-2.07 0-2.86zM5.41 20L4 18.59l7.72-7.72 1.47 1.35L5.41 20z\"/>\n",
              "  </svg>\n",
              "      </button>\n",
              "      \n",
              "  <style>\n",
              "    .colab-df-container {\n",
              "      display:flex;\n",
              "      flex-wrap:wrap;\n",
              "      gap: 12px;\n",
              "    }\n",
              "\n",
              "    .colab-df-convert {\n",
              "      background-color: #E8F0FE;\n",
              "      border: none;\n",
              "      border-radius: 50%;\n",
              "      cursor: pointer;\n",
              "      display: none;\n",
              "      fill: #1967D2;\n",
              "      height: 32px;\n",
              "      padding: 0 0 0 0;\n",
              "      width: 32px;\n",
              "    }\n",
              "\n",
              "    .colab-df-convert:hover {\n",
              "      background-color: #E2EBFA;\n",
              "      box-shadow: 0px 1px 2px rgba(60, 64, 67, 0.3), 0px 1px 3px 1px rgba(60, 64, 67, 0.15);\n",
              "      fill: #174EA6;\n",
              "    }\n",
              "\n",
              "    [theme=dark] .colab-df-convert {\n",
              "      background-color: #3B4455;\n",
              "      fill: #D2E3FC;\n",
              "    }\n",
              "\n",
              "    [theme=dark] .colab-df-convert:hover {\n",
              "      background-color: #434B5C;\n",
              "      box-shadow: 0px 1px 3px 1px rgba(0, 0, 0, 0.15);\n",
              "      filter: drop-shadow(0px 1px 2px rgba(0, 0, 0, 0.3));\n",
              "      fill: #FFFFFF;\n",
              "    }\n",
              "  </style>\n",
              "\n",
              "      <script>\n",
              "        const buttonEl =\n",
              "          document.querySelector('#df-101d914f-8e82-46f8-901d-0d9f86fdffc0 button.colab-df-convert');\n",
              "        buttonEl.style.display =\n",
              "          google.colab.kernel.accessAllowed ? 'block' : 'none';\n",
              "\n",
              "        async function convertToInteractive(key) {\n",
              "          const element = document.querySelector('#df-101d914f-8e82-46f8-901d-0d9f86fdffc0');\n",
              "          const dataTable =\n",
              "            await google.colab.kernel.invokeFunction('convertToInteractive',\n",
              "                                                     [key], {});\n",
              "          if (!dataTable) return;\n",
              "\n",
              "          const docLinkHtml = 'Like what you see? Visit the ' +\n",
              "            '<a target=\"_blank\" href=https://colab.research.google.com/notebooks/data_table.ipynb>data table notebook</a>'\n",
              "            + ' to learn more about interactive tables.';\n",
              "          element.innerHTML = '';\n",
              "          dataTable['output_type'] = 'display_data';\n",
              "          await google.colab.output.renderOutput(dataTable, element);\n",
              "          const docLink = document.createElement('div');\n",
              "          docLink.innerHTML = docLinkHtml;\n",
              "          element.appendChild(docLink);\n",
              "        }\n",
              "      </script>\n",
              "    </div>\n",
              "  </div>\n",
              "  "
            ],
            "text/plain": [
              "            Order ID Order Date  Month  Year  Ship Date Customer Name  \\\n",
              "1356  CA-2011-152345 2011-12-29     12  2011 2012-03-01      Shui Tom   \n",
              "1357  CA-2011-152345 2011-12-29     12  2011 2012-03-01      Shui Tom   \n",
              "\n",
              "            Country         City       State Category  \\\n",
              "1356  United States  Albuquerque  New Mexico   Phones   \n",
              "1357  United States  Albuquerque  New Mexico  Storage   \n",
              "\n",
              "                                           Product Name  Quantity   Cost  \\\n",
              "1356                Mediabridge Sport Armband iPhone 5s       3.0  29.67   \n",
              "1357  Fellowes Bases and Tops For Staxonsteel/High-S...       1.0  25.30   \n",
              "\n",
              "      Sales  Profit  Cost/Unit      Price  Profit/Unit  \n",
              "1356  23.98   -5.69       9.89   7.993333    -1.896667  \n",
              "1357  33.29    7.99      25.30  33.290000     7.990000  "
            ]
          },
          "execution_count": 162,
          "metadata": {},
          "output_type": "execute_result"
        }
      ],
      "source": [
        "# or u can apply this also\n",
        "c = year1[(year1['State']=='New Mexico') & (year1['Month']==12)]\n",
        "sale_data = c['Sales'].sum()\n",
        "c"
      ]
    },
    {
      "cell_type": "markdown",
      "metadata": {
        "id": "KtgdFIsNeD9Z"
      },
      "source": [
        " which state gives you highest profit in the whole year"
      ]
    },
    {
      "cell_type": "code",
      "execution_count": null,
      "metadata": {
        "colab": {
          "base_uri": "https://localhost:8080/",
          "height": 363
        },
        "id": "oPzpTmV7zBqd",
        "outputId": "8d91b6b4-7777-40c4-e426-e7c98db68cd4"
      },
      "outputs": [
        {
          "data": {
            "text/html": [
              "\n",
              "  <div id=\"df-d7f611c1-4074-4551-a7cd-a6f916076b34\">\n",
              "    <div class=\"colab-df-container\">\n",
              "      <div>\n",
              "<style scoped>\n",
              "    .dataframe tbody tr th:only-of-type {\n",
              "        vertical-align: middle;\n",
              "    }\n",
              "\n",
              "    .dataframe tbody tr th {\n",
              "        vertical-align: top;\n",
              "    }\n",
              "\n",
              "    .dataframe thead th {\n",
              "        text-align: right;\n",
              "    }\n",
              "</style>\n",
              "<table border=\"1\" class=\"dataframe\">\n",
              "  <thead>\n",
              "    <tr style=\"text-align: right;\">\n",
              "      <th></th>\n",
              "      <th>State</th>\n",
              "      <th>Profit</th>\n",
              "    </tr>\n",
              "  </thead>\n",
              "  <tbody>\n",
              "    <tr>\n",
              "      <th>0</th>\n",
              "      <td>California</td>\n",
              "      <td>12638.00</td>\n",
              "    </tr>\n",
              "    <tr>\n",
              "      <th>1</th>\n",
              "      <td>Washington</td>\n",
              "      <td>6607.25</td>\n",
              "    </tr>\n",
              "    <tr>\n",
              "      <th>2</th>\n",
              "      <td>Utah</td>\n",
              "      <td>822.67</td>\n",
              "    </tr>\n",
              "    <tr>\n",
              "      <th>3</th>\n",
              "      <td>Colorado</td>\n",
              "      <td>438.21</td>\n",
              "    </tr>\n",
              "    <tr>\n",
              "      <th>4</th>\n",
              "      <td>Nevada</td>\n",
              "      <td>250.27</td>\n",
              "    </tr>\n",
              "    <tr>\n",
              "      <th>5</th>\n",
              "      <td>New Mexico</td>\n",
              "      <td>156.05</td>\n",
              "    </tr>\n",
              "    <tr>\n",
              "      <th>6</th>\n",
              "      <td>Montana</td>\n",
              "      <td>129.84</td>\n",
              "    </tr>\n",
              "    <tr>\n",
              "      <th>7</th>\n",
              "      <td>Idaho</td>\n",
              "      <td>62.05</td>\n",
              "    </tr>\n",
              "    <tr>\n",
              "      <th>8</th>\n",
              "      <td>Oregon</td>\n",
              "      <td>-135.41</td>\n",
              "    </tr>\n",
              "    <tr>\n",
              "      <th>9</th>\n",
              "      <td>Arizona</td>\n",
              "      <td>-903.19</td>\n",
              "    </tr>\n",
              "  </tbody>\n",
              "</table>\n",
              "</div>\n",
              "      <button class=\"colab-df-convert\" onclick=\"convertToInteractive('df-d7f611c1-4074-4551-a7cd-a6f916076b34')\"\n",
              "              title=\"Convert this dataframe to an interactive table.\"\n",
              "              style=\"display:none;\">\n",
              "        \n",
              "  <svg xmlns=\"http://www.w3.org/2000/svg\" height=\"24px\"viewBox=\"0 0 24 24\"\n",
              "       width=\"24px\">\n",
              "    <path d=\"M0 0h24v24H0V0z\" fill=\"none\"/>\n",
              "    <path d=\"M18.56 5.44l.94 2.06.94-2.06 2.06-.94-2.06-.94-.94-2.06-.94 2.06-2.06.94zm-11 1L8.5 8.5l.94-2.06 2.06-.94-2.06-.94L8.5 2.5l-.94 2.06-2.06.94zm10 10l.94 2.06.94-2.06 2.06-.94-2.06-.94-.94-2.06-.94 2.06-2.06.94z\"/><path d=\"M17.41 7.96l-1.37-1.37c-.4-.4-.92-.59-1.43-.59-.52 0-1.04.2-1.43.59L10.3 9.45l-7.72 7.72c-.78.78-.78 2.05 0 2.83L4 21.41c.39.39.9.59 1.41.59.51 0 1.02-.2 1.41-.59l7.78-7.78 2.81-2.81c.8-.78.8-2.07 0-2.86zM5.41 20L4 18.59l7.72-7.72 1.47 1.35L5.41 20z\"/>\n",
              "  </svg>\n",
              "      </button>\n",
              "      \n",
              "  <style>\n",
              "    .colab-df-container {\n",
              "      display:flex;\n",
              "      flex-wrap:wrap;\n",
              "      gap: 12px;\n",
              "    }\n",
              "\n",
              "    .colab-df-convert {\n",
              "      background-color: #E8F0FE;\n",
              "      border: none;\n",
              "      border-radius: 50%;\n",
              "      cursor: pointer;\n",
              "      display: none;\n",
              "      fill: #1967D2;\n",
              "      height: 32px;\n",
              "      padding: 0 0 0 0;\n",
              "      width: 32px;\n",
              "    }\n",
              "\n",
              "    .colab-df-convert:hover {\n",
              "      background-color: #E2EBFA;\n",
              "      box-shadow: 0px 1px 2px rgba(60, 64, 67, 0.3), 0px 1px 3px 1px rgba(60, 64, 67, 0.15);\n",
              "      fill: #174EA6;\n",
              "    }\n",
              "\n",
              "    [theme=dark] .colab-df-convert {\n",
              "      background-color: #3B4455;\n",
              "      fill: #D2E3FC;\n",
              "    }\n",
              "\n",
              "    [theme=dark] .colab-df-convert:hover {\n",
              "      background-color: #434B5C;\n",
              "      box-shadow: 0px 1px 3px 1px rgba(0, 0, 0, 0.15);\n",
              "      filter: drop-shadow(0px 1px 2px rgba(0, 0, 0, 0.3));\n",
              "      fill: #FFFFFF;\n",
              "    }\n",
              "  </style>\n",
              "\n",
              "      <script>\n",
              "        const buttonEl =\n",
              "          document.querySelector('#df-d7f611c1-4074-4551-a7cd-a6f916076b34 button.colab-df-convert');\n",
              "        buttonEl.style.display =\n",
              "          google.colab.kernel.accessAllowed ? 'block' : 'none';\n",
              "\n",
              "        async function convertToInteractive(key) {\n",
              "          const element = document.querySelector('#df-d7f611c1-4074-4551-a7cd-a6f916076b34');\n",
              "          const dataTable =\n",
              "            await google.colab.kernel.invokeFunction('convertToInteractive',\n",
              "                                                     [key], {});\n",
              "          if (!dataTable) return;\n",
              "\n",
              "          const docLinkHtml = 'Like what you see? Visit the ' +\n",
              "            '<a target=\"_blank\" href=https://colab.research.google.com/notebooks/data_table.ipynb>data table notebook</a>'\n",
              "            + ' to learn more about interactive tables.';\n",
              "          element.innerHTML = '';\n",
              "          dataTable['output_type'] = 'display_data';\n",
              "          await google.colab.output.renderOutput(dataTable, element);\n",
              "          const docLink = document.createElement('div');\n",
              "          docLink.innerHTML = docLinkHtml;\n",
              "          element.appendChild(docLink);\n",
              "        }\n",
              "      </script>\n",
              "    </div>\n",
              "  </div>\n",
              "  "
            ],
            "text/plain": [
              "        State    Profit\n",
              "0  California  12638.00\n",
              "1  Washington   6607.25\n",
              "2        Utah    822.67\n",
              "3    Colorado    438.21\n",
              "4      Nevada    250.27\n",
              "5  New Mexico    156.05\n",
              "6     Montana    129.84\n",
              "7       Idaho     62.05\n",
              "8      Oregon   -135.41\n",
              "9     Arizona   -903.19"
            ]
          },
          "execution_count": 163,
          "metadata": {},
          "output_type": "execute_result"
        }
      ],
      "source": [
        "\n",
        "state_profit = year1.groupby('State')['Profit'].sum()\n",
        "state_profit = state_profit.sort_values(ascending=False).reset_index()\n",
        "state_profit"
      ]
    },
    {
      "cell_type": "code",
      "execution_count": null,
      "metadata": {
        "colab": {
          "base_uri": "https://localhost:8080/",
          "height": 578
        },
        "id": "quSSKTC43w67",
        "outputId": "2a92fb46-9f03-4a6a-9549-0ef97f08f759"
      },
      "outputs": [
        {
          "data": {
            "text/html": [
              "<html>\n",
              "<head><meta charset=\"utf-8\" /></head>\n",
              "<body>\n",
              "    <div>            <script src=\"https://cdnjs.cloudflare.com/ajax/libs/mathjax/2.7.5/MathJax.js?config=TeX-AMS-MML_SVG\"></script><script type=\"text/javascript\">if (window.MathJax && window.MathJax.Hub && window.MathJax.Hub.Config) {window.MathJax.Hub.Config({SVG: {font: \"STIX-Web\"}});}</script>                <script type=\"text/javascript\">window.PlotlyConfig = {MathJaxConfig: 'local'};</script>\n",
              "        <script src=\"https://cdn.plot.ly/plotly-2.18.2.min.js\"></script>                <div id=\"c221f189-03e0-4929-bcfd-d9d0e0223ace\" class=\"plotly-graph-div\" style=\"height:525px; width:100%;\"></div>            <script type=\"text/javascript\">                                    window.PLOTLYENV=window.PLOTLYENV || {};                                    if (document.getElementById(\"c221f189-03e0-4929-bcfd-d9d0e0223ace\")) {                    Plotly.newPlot(                        \"c221f189-03e0-4929-bcfd-d9d0e0223ace\",                        [{\"hovertemplate\":\"State=%{x}<br>Profit=%{y}<extra></extra>\",\"legendgroup\":\"\",\"line\":{\"color\":\"#636efa\",\"dash\":\"solid\"},\"marker\":{\"symbol\":\"circle\"},\"mode\":\"lines\",\"name\":\"\",\"orientation\":\"v\",\"showlegend\":false,\"x\":[\"Arizona\",\"California\",\"Colorado\",\"Idaho\",\"Montana\",\"Nevada\",\"New Mexico\",\"Oregon\",\"Utah\",\"Washington\"],\"xaxis\":\"x\",\"y\":[-903.1899999999999,12638.0,438.21,62.05,129.83999999999997,250.26999999999998,156.05,-135.41000000000005,822.67,6607.25],\"yaxis\":\"y\",\"type\":\"scatter\"}],                        {\"template\":{\"data\":{\"histogram2dcontour\":[{\"type\":\"histogram2dcontour\",\"colorbar\":{\"outlinewidth\":0,\"ticks\":\"\"},\"colorscale\":[[0.0,\"#0d0887\"],[0.1111111111111111,\"#46039f\"],[0.2222222222222222,\"#7201a8\"],[0.3333333333333333,\"#9c179e\"],[0.4444444444444444,\"#bd3786\"],[0.5555555555555556,\"#d8576b\"],[0.6666666666666666,\"#ed7953\"],[0.7777777777777778,\"#fb9f3a\"],[0.8888888888888888,\"#fdca26\"],[1.0,\"#f0f921\"]]}],\"choropleth\":[{\"type\":\"choropleth\",\"colorbar\":{\"outlinewidth\":0,\"ticks\":\"\"}}],\"histogram2d\":[{\"type\":\"histogram2d\",\"colorbar\":{\"outlinewidth\":0,\"ticks\":\"\"},\"colorscale\":[[0.0,\"#0d0887\"],[0.1111111111111111,\"#46039f\"],[0.2222222222222222,\"#7201a8\"],[0.3333333333333333,\"#9c179e\"],[0.4444444444444444,\"#bd3786\"],[0.5555555555555556,\"#d8576b\"],[0.6666666666666666,\"#ed7953\"],[0.7777777777777778,\"#fb9f3a\"],[0.8888888888888888,\"#fdca26\"],[1.0,\"#f0f921\"]]}],\"heatmap\":[{\"type\":\"heatmap\",\"colorbar\":{\"outlinewidth\":0,\"ticks\":\"\"},\"colorscale\":[[0.0,\"#0d0887\"],[0.1111111111111111,\"#46039f\"],[0.2222222222222222,\"#7201a8\"],[0.3333333333333333,\"#9c179e\"],[0.4444444444444444,\"#bd3786\"],[0.5555555555555556,\"#d8576b\"],[0.6666666666666666,\"#ed7953\"],[0.7777777777777778,\"#fb9f3a\"],[0.8888888888888888,\"#fdca26\"],[1.0,\"#f0f921\"]]}],\"heatmapgl\":[{\"type\":\"heatmapgl\",\"colorbar\":{\"outlinewidth\":0,\"ticks\":\"\"},\"colorscale\":[[0.0,\"#0d0887\"],[0.1111111111111111,\"#46039f\"],[0.2222222222222222,\"#7201a8\"],[0.3333333333333333,\"#9c179e\"],[0.4444444444444444,\"#bd3786\"],[0.5555555555555556,\"#d8576b\"],[0.6666666666666666,\"#ed7953\"],[0.7777777777777778,\"#fb9f3a\"],[0.8888888888888888,\"#fdca26\"],[1.0,\"#f0f921\"]]}],\"contourcarpet\":[{\"type\":\"contourcarpet\",\"colorbar\":{\"outlinewidth\":0,\"ticks\":\"\"}}],\"contour\":[{\"type\":\"contour\",\"colorbar\":{\"outlinewidth\":0,\"ticks\":\"\"},\"colorscale\":[[0.0,\"#0d0887\"],[0.1111111111111111,\"#46039f\"],[0.2222222222222222,\"#7201a8\"],[0.3333333333333333,\"#9c179e\"],[0.4444444444444444,\"#bd3786\"],[0.5555555555555556,\"#d8576b\"],[0.6666666666666666,\"#ed7953\"],[0.7777777777777778,\"#fb9f3a\"],[0.8888888888888888,\"#fdca26\"],[1.0,\"#f0f921\"]]}],\"surface\":[{\"type\":\"surface\",\"colorbar\":{\"outlinewidth\":0,\"ticks\":\"\"},\"colorscale\":[[0.0,\"#0d0887\"],[0.1111111111111111,\"#46039f\"],[0.2222222222222222,\"#7201a8\"],[0.3333333333333333,\"#9c179e\"],[0.4444444444444444,\"#bd3786\"],[0.5555555555555556,\"#d8576b\"],[0.6666666666666666,\"#ed7953\"],[0.7777777777777778,\"#fb9f3a\"],[0.8888888888888888,\"#fdca26\"],[1.0,\"#f0f921\"]]}],\"mesh3d\":[{\"type\":\"mesh3d\",\"colorbar\":{\"outlinewidth\":0,\"ticks\":\"\"}}],\"scatter\":[{\"fillpattern\":{\"fillmode\":\"overlay\",\"size\":10,\"solidity\":0.2},\"type\":\"scatter\"}],\"parcoords\":[{\"type\":\"parcoords\",\"line\":{\"colorbar\":{\"outlinewidth\":0,\"ticks\":\"\"}}}],\"scatterpolargl\":[{\"type\":\"scatterpolargl\",\"marker\":{\"colorbar\":{\"outlinewidth\":0,\"ticks\":\"\"}}}],\"bar\":[{\"error_x\":{\"color\":\"#2a3f5f\"},\"error_y\":{\"color\":\"#2a3f5f\"},\"marker\":{\"line\":{\"color\":\"#E5ECF6\",\"width\":0.5},\"pattern\":{\"fillmode\":\"overlay\",\"size\":10,\"solidity\":0.2}},\"type\":\"bar\"}],\"scattergeo\":[{\"type\":\"scattergeo\",\"marker\":{\"colorbar\":{\"outlinewidth\":0,\"ticks\":\"\"}}}],\"scatterpolar\":[{\"type\":\"scatterpolar\",\"marker\":{\"colorbar\":{\"outlinewidth\":0,\"ticks\":\"\"}}}],\"histogram\":[{\"marker\":{\"pattern\":{\"fillmode\":\"overlay\",\"size\":10,\"solidity\":0.2}},\"type\":\"histogram\"}],\"scattergl\":[{\"type\":\"scattergl\",\"marker\":{\"colorbar\":{\"outlinewidth\":0,\"ticks\":\"\"}}}],\"scatter3d\":[{\"type\":\"scatter3d\",\"line\":{\"colorbar\":{\"outlinewidth\":0,\"ticks\":\"\"}},\"marker\":{\"colorbar\":{\"outlinewidth\":0,\"ticks\":\"\"}}}],\"scattermapbox\":[{\"type\":\"scattermapbox\",\"marker\":{\"colorbar\":{\"outlinewidth\":0,\"ticks\":\"\"}}}],\"scatterternary\":[{\"type\":\"scatterternary\",\"marker\":{\"colorbar\":{\"outlinewidth\":0,\"ticks\":\"\"}}}],\"scattercarpet\":[{\"type\":\"scattercarpet\",\"marker\":{\"colorbar\":{\"outlinewidth\":0,\"ticks\":\"\"}}}],\"carpet\":[{\"aaxis\":{\"endlinecolor\":\"#2a3f5f\",\"gridcolor\":\"white\",\"linecolor\":\"white\",\"minorgridcolor\":\"white\",\"startlinecolor\":\"#2a3f5f\"},\"baxis\":{\"endlinecolor\":\"#2a3f5f\",\"gridcolor\":\"white\",\"linecolor\":\"white\",\"minorgridcolor\":\"white\",\"startlinecolor\":\"#2a3f5f\"},\"type\":\"carpet\"}],\"table\":[{\"cells\":{\"fill\":{\"color\":\"#EBF0F8\"},\"line\":{\"color\":\"white\"}},\"header\":{\"fill\":{\"color\":\"#C8D4E3\"},\"line\":{\"color\":\"white\"}},\"type\":\"table\"}],\"barpolar\":[{\"marker\":{\"line\":{\"color\":\"#E5ECF6\",\"width\":0.5},\"pattern\":{\"fillmode\":\"overlay\",\"size\":10,\"solidity\":0.2}},\"type\":\"barpolar\"}],\"pie\":[{\"automargin\":true,\"type\":\"pie\"}]},\"layout\":{\"autotypenumbers\":\"strict\",\"colorway\":[\"#636efa\",\"#EF553B\",\"#00cc96\",\"#ab63fa\",\"#FFA15A\",\"#19d3f3\",\"#FF6692\",\"#B6E880\",\"#FF97FF\",\"#FECB52\"],\"font\":{\"color\":\"#2a3f5f\"},\"hovermode\":\"closest\",\"hoverlabel\":{\"align\":\"left\"},\"paper_bgcolor\":\"white\",\"plot_bgcolor\":\"#E5ECF6\",\"polar\":{\"bgcolor\":\"#E5ECF6\",\"angularaxis\":{\"gridcolor\":\"white\",\"linecolor\":\"white\",\"ticks\":\"\"},\"radialaxis\":{\"gridcolor\":\"white\",\"linecolor\":\"white\",\"ticks\":\"\"}},\"ternary\":{\"bgcolor\":\"#E5ECF6\",\"aaxis\":{\"gridcolor\":\"white\",\"linecolor\":\"white\",\"ticks\":\"\"},\"baxis\":{\"gridcolor\":\"white\",\"linecolor\":\"white\",\"ticks\":\"\"},\"caxis\":{\"gridcolor\":\"white\",\"linecolor\":\"white\",\"ticks\":\"\"}},\"coloraxis\":{\"colorbar\":{\"outlinewidth\":0,\"ticks\":\"\"}},\"colorscale\":{\"sequential\":[[0.0,\"#0d0887\"],[0.1111111111111111,\"#46039f\"],[0.2222222222222222,\"#7201a8\"],[0.3333333333333333,\"#9c179e\"],[0.4444444444444444,\"#bd3786\"],[0.5555555555555556,\"#d8576b\"],[0.6666666666666666,\"#ed7953\"],[0.7777777777777778,\"#fb9f3a\"],[0.8888888888888888,\"#fdca26\"],[1.0,\"#f0f921\"]],\"sequentialminus\":[[0.0,\"#0d0887\"],[0.1111111111111111,\"#46039f\"],[0.2222222222222222,\"#7201a8\"],[0.3333333333333333,\"#9c179e\"],[0.4444444444444444,\"#bd3786\"],[0.5555555555555556,\"#d8576b\"],[0.6666666666666666,\"#ed7953\"],[0.7777777777777778,\"#fb9f3a\"],[0.8888888888888888,\"#fdca26\"],[1.0,\"#f0f921\"]],\"diverging\":[[0,\"#8e0152\"],[0.1,\"#c51b7d\"],[0.2,\"#de77ae\"],[0.3,\"#f1b6da\"],[0.4,\"#fde0ef\"],[0.5,\"#f7f7f7\"],[0.6,\"#e6f5d0\"],[0.7,\"#b8e186\"],[0.8,\"#7fbc41\"],[0.9,\"#4d9221\"],[1,\"#276419\"]]},\"xaxis\":{\"gridcolor\":\"white\",\"linecolor\":\"white\",\"ticks\":\"\",\"title\":{\"standoff\":15},\"zerolinecolor\":\"white\",\"automargin\":true,\"zerolinewidth\":2},\"yaxis\":{\"gridcolor\":\"white\",\"linecolor\":\"white\",\"ticks\":\"\",\"title\":{\"standoff\":15},\"zerolinecolor\":\"white\",\"automargin\":true,\"zerolinewidth\":2},\"scene\":{\"xaxis\":{\"backgroundcolor\":\"#E5ECF6\",\"gridcolor\":\"white\",\"linecolor\":\"white\",\"showbackground\":true,\"ticks\":\"\",\"zerolinecolor\":\"white\",\"gridwidth\":2},\"yaxis\":{\"backgroundcolor\":\"#E5ECF6\",\"gridcolor\":\"white\",\"linecolor\":\"white\",\"showbackground\":true,\"ticks\":\"\",\"zerolinecolor\":\"white\",\"gridwidth\":2},\"zaxis\":{\"backgroundcolor\":\"#E5ECF6\",\"gridcolor\":\"white\",\"linecolor\":\"white\",\"showbackground\":true,\"ticks\":\"\",\"zerolinecolor\":\"white\",\"gridwidth\":2}},\"shapedefaults\":{\"line\":{\"color\":\"#2a3f5f\"}},\"annotationdefaults\":{\"arrowcolor\":\"#2a3f5f\",\"arrowhead\":0,\"arrowwidth\":1},\"geo\":{\"bgcolor\":\"white\",\"landcolor\":\"#E5ECF6\",\"subunitcolor\":\"white\",\"showland\":true,\"showlakes\":true,\"lakecolor\":\"white\"},\"title\":{\"x\":0.05},\"mapbox\":{\"style\":\"light\"}}},\"xaxis\":{\"anchor\":\"y\",\"domain\":[0.0,1.0],\"title\":{\"text\":\"State\"}},\"yaxis\":{\"anchor\":\"x\",\"domain\":[0.0,1.0],\"title\":{\"text\":\"Profit\"}},\"legend\":{\"tracegroupgap\":0},\"title\":{\"text\":\"Yearly profit per state (2011)\"}},                        {\"responsive\": true}                    ).then(function(){\n",
              "                            \n",
              "var gd = document.getElementById('c221f189-03e0-4929-bcfd-d9d0e0223ace');\n",
              "var x = new MutationObserver(function (mutations, observer) {{\n",
              "        var display = window.getComputedStyle(gd).display;\n",
              "        if (!display || display === 'none') {{\n",
              "            console.log([gd, 'removed!']);\n",
              "            Plotly.purge(gd);\n",
              "            observer.disconnect();\n",
              "        }}\n",
              "}});\n",
              "\n",
              "// Listen for the removal of the full notebook cells\n",
              "var notebookContainer = gd.closest('#notebook-container');\n",
              "if (notebookContainer) {{\n",
              "    x.observe(notebookContainer, {childList: true});\n",
              "}}\n",
              "\n",
              "// Listen for the clearing of the current output cell\n",
              "var outputEl = gd.closest('.output');\n",
              "if (outputEl) {{\n",
              "    x.observe(outputEl, {childList: true});\n",
              "}}\n",
              "\n",
              "                        })                };                            </script>        </div>\n",
              "</body>\n",
              "</html>"
            ]
          },
          "metadata": {},
          "output_type": "display_data"
        },
        {
          "data": {
            "application/vnd.google.colaboratory.intrinsic+json": {
              "type": "string"
            },
            "text/plain": [
              "'ab ye reset_index lagana jaruri isliye hai becoz reset_index() lagane se ye full data ko ek data\\nframe me convert kr deta hai....or plotly dataframe vaali chijo ka hi graph banata hai.'"
            ]
          },
          "execution_count": 164,
          "metadata": {},
          "output_type": "execute_result"
        }
      ],
      "source": [
        "#fig = px.line(state_profit,x='State',y='Profit')\n",
        "#fig.show()\n",
        "state_profit = year1.groupby('State')['Profit'].sum().reset_index()\n",
        "fig = px.line(state_profit,x='State',y='Profit',title = 'Yearly profit per state (2011)')\n",
        "fig.show()\n",
        "\n",
        "'''in this code aapko reset_index lagana jaruri hoga chahe to ye state_profit ki line dubara likh\n",
        "k isme .reset_index() lagaye ya phir iske upper vaale code me sort_values k saath reset index lagaye...\n",
        "[\"profit.sum() vaali line (1st line) me mat lga dena\" bcoz reset_index() code k last me lgta hai,\n",
        "or 1st line k baad b 2nd line me state_profit me hum sort func. ka use krre hai...islie vo 2nd line me\n",
        "aaega...]'''\n",
        "\n",
        "'''ab ye reset_index lagana jaruri isliye hai becoz reset_index() lagane se ye full data ko ek data\n",
        "frame me convert kr deta hai....or plotly dataframe vaali chijo ka hi graph banata hai.'''\n"
      ]
    },
    {
      "cell_type": "markdown",
      "metadata": {
        "id": "9cdsAHNOnfJd"
      },
      "source": [
        "CALIFORNIA is he most profitable state \n",
        "and\n",
        " ARIZONA is the least profitable state."
      ]
    },
    {
      "cell_type": "markdown",
      "metadata": {
        "id": "ccS6B1HNoAkL"
      },
      "source": [
        " Which state gives most sales to wallmart in 2011 ?"
      ]
    },
    {
      "cell_type": "code",
      "execution_count": null,
      "metadata": {
        "colab": {
          "base_uri": "https://localhost:8080/",
          "height": 363
        },
        "id": "YnvxUZrDmODH",
        "outputId": "8a6b2d5c-ff19-4d63-a158-0082157486db"
      },
      "outputs": [
        {
          "data": {
            "text/html": [
              "\n",
              "  <div id=\"df-502aecd9-890d-498e-9fbb-73c10f05c49f\">\n",
              "    <div class=\"colab-df-container\">\n",
              "      <div>\n",
              "<style scoped>\n",
              "    .dataframe tbody tr th:only-of-type {\n",
              "        vertical-align: middle;\n",
              "    }\n",
              "\n",
              "    .dataframe tbody tr th {\n",
              "        vertical-align: top;\n",
              "    }\n",
              "\n",
              "    .dataframe thead th {\n",
              "        text-align: right;\n",
              "    }\n",
              "</style>\n",
              "<table border=\"1\" class=\"dataframe\">\n",
              "  <thead>\n",
              "    <tr style=\"text-align: right;\">\n",
              "      <th></th>\n",
              "      <th>State</th>\n",
              "      <th>Sales</th>\n",
              "    </tr>\n",
              "  </thead>\n",
              "  <tbody>\n",
              "    <tr>\n",
              "      <th>0</th>\n",
              "      <td>California</td>\n",
              "      <td>91303.54</td>\n",
              "    </tr>\n",
              "    <tr>\n",
              "      <th>1</th>\n",
              "      <td>Washington</td>\n",
              "      <td>29871.57</td>\n",
              "    </tr>\n",
              "    <tr>\n",
              "      <th>2</th>\n",
              "      <td>Arizona</td>\n",
              "      <td>8295.25</td>\n",
              "    </tr>\n",
              "    <tr>\n",
              "      <th>3</th>\n",
              "      <td>Colorado</td>\n",
              "      <td>6502.29</td>\n",
              "    </tr>\n",
              "    <tr>\n",
              "      <th>4</th>\n",
              "      <td>Oregon</td>\n",
              "      <td>4807.81</td>\n",
              "    </tr>\n",
              "    <tr>\n",
              "      <th>5</th>\n",
              "      <td>Utah</td>\n",
              "      <td>2943.69</td>\n",
              "    </tr>\n",
              "    <tr>\n",
              "      <th>6</th>\n",
              "      <td>Nevada</td>\n",
              "      <td>2561.20</td>\n",
              "    </tr>\n",
              "    <tr>\n",
              "      <th>7</th>\n",
              "      <td>New Mexico</td>\n",
              "      <td>708.02</td>\n",
              "    </tr>\n",
              "    <tr>\n",
              "      <th>8</th>\n",
              "      <td>Idaho</td>\n",
              "      <td>465.21</td>\n",
              "    </tr>\n",
              "    <tr>\n",
              "      <th>9</th>\n",
              "      <td>Montana</td>\n",
              "      <td>424.49</td>\n",
              "    </tr>\n",
              "  </tbody>\n",
              "</table>\n",
              "</div>\n",
              "      <button class=\"colab-df-convert\" onclick=\"convertToInteractive('df-502aecd9-890d-498e-9fbb-73c10f05c49f')\"\n",
              "              title=\"Convert this dataframe to an interactive table.\"\n",
              "              style=\"display:none;\">\n",
              "        \n",
              "  <svg xmlns=\"http://www.w3.org/2000/svg\" height=\"24px\"viewBox=\"0 0 24 24\"\n",
              "       width=\"24px\">\n",
              "    <path d=\"M0 0h24v24H0V0z\" fill=\"none\"/>\n",
              "    <path d=\"M18.56 5.44l.94 2.06.94-2.06 2.06-.94-2.06-.94-.94-2.06-.94 2.06-2.06.94zm-11 1L8.5 8.5l.94-2.06 2.06-.94-2.06-.94L8.5 2.5l-.94 2.06-2.06.94zm10 10l.94 2.06.94-2.06 2.06-.94-2.06-.94-.94-2.06-.94 2.06-2.06.94z\"/><path d=\"M17.41 7.96l-1.37-1.37c-.4-.4-.92-.59-1.43-.59-.52 0-1.04.2-1.43.59L10.3 9.45l-7.72 7.72c-.78.78-.78 2.05 0 2.83L4 21.41c.39.39.9.59 1.41.59.51 0 1.02-.2 1.41-.59l7.78-7.78 2.81-2.81c.8-.78.8-2.07 0-2.86zM5.41 20L4 18.59l7.72-7.72 1.47 1.35L5.41 20z\"/>\n",
              "  </svg>\n",
              "      </button>\n",
              "      \n",
              "  <style>\n",
              "    .colab-df-container {\n",
              "      display:flex;\n",
              "      flex-wrap:wrap;\n",
              "      gap: 12px;\n",
              "    }\n",
              "\n",
              "    .colab-df-convert {\n",
              "      background-color: #E8F0FE;\n",
              "      border: none;\n",
              "      border-radius: 50%;\n",
              "      cursor: pointer;\n",
              "      display: none;\n",
              "      fill: #1967D2;\n",
              "      height: 32px;\n",
              "      padding: 0 0 0 0;\n",
              "      width: 32px;\n",
              "    }\n",
              "\n",
              "    .colab-df-convert:hover {\n",
              "      background-color: #E2EBFA;\n",
              "      box-shadow: 0px 1px 2px rgba(60, 64, 67, 0.3), 0px 1px 3px 1px rgba(60, 64, 67, 0.15);\n",
              "      fill: #174EA6;\n",
              "    }\n",
              "\n",
              "    [theme=dark] .colab-df-convert {\n",
              "      background-color: #3B4455;\n",
              "      fill: #D2E3FC;\n",
              "    }\n",
              "\n",
              "    [theme=dark] .colab-df-convert:hover {\n",
              "      background-color: #434B5C;\n",
              "      box-shadow: 0px 1px 3px 1px rgba(0, 0, 0, 0.15);\n",
              "      filter: drop-shadow(0px 1px 2px rgba(0, 0, 0, 0.3));\n",
              "      fill: #FFFFFF;\n",
              "    }\n",
              "  </style>\n",
              "\n",
              "      <script>\n",
              "        const buttonEl =\n",
              "          document.querySelector('#df-502aecd9-890d-498e-9fbb-73c10f05c49f button.colab-df-convert');\n",
              "        buttonEl.style.display =\n",
              "          google.colab.kernel.accessAllowed ? 'block' : 'none';\n",
              "\n",
              "        async function convertToInteractive(key) {\n",
              "          const element = document.querySelector('#df-502aecd9-890d-498e-9fbb-73c10f05c49f');\n",
              "          const dataTable =\n",
              "            await google.colab.kernel.invokeFunction('convertToInteractive',\n",
              "                                                     [key], {});\n",
              "          if (!dataTable) return;\n",
              "\n",
              "          const docLinkHtml = 'Like what you see? Visit the ' +\n",
              "            '<a target=\"_blank\" href=https://colab.research.google.com/notebooks/data_table.ipynb>data table notebook</a>'\n",
              "            + ' to learn more about interactive tables.';\n",
              "          element.innerHTML = '';\n",
              "          dataTable['output_type'] = 'display_data';\n",
              "          await google.colab.output.renderOutput(dataTable, element);\n",
              "          const docLink = document.createElement('div');\n",
              "          docLink.innerHTML = docLinkHtml;\n",
              "          element.appendChild(docLink);\n",
              "        }\n",
              "      </script>\n",
              "    </div>\n",
              "  </div>\n",
              "  "
            ],
            "text/plain": [
              "        State     Sales\n",
              "0  California  91303.54\n",
              "1  Washington  29871.57\n",
              "2     Arizona   8295.25\n",
              "3    Colorado   6502.29\n",
              "4      Oregon   4807.81\n",
              "5        Utah   2943.69\n",
              "6      Nevada   2561.20\n",
              "7  New Mexico    708.02\n",
              "8       Idaho    465.21\n",
              "9     Montana    424.49"
            ]
          },
          "execution_count": 165,
          "metadata": {},
          "output_type": "execute_result"
        }
      ],
      "source": [
        "state_sales = year1.groupby('State')['Sales'].sum()\n",
        "state_sales = state_sales.sort_values(ascending = False).reset_index()\n",
        "state_sales"
      ]
    },
    {
      "cell_type": "code",
      "execution_count": null,
      "metadata": {
        "colab": {
          "base_uri": "https://localhost:8080/",
          "height": 542
        },
        "id": "yjBJpHpjpRu0",
        "outputId": "4f9f5d52-2535-4772-c6dc-c859786d5008"
      },
      "outputs": [
        {
          "data": {
            "text/html": [
              "<html>\n",
              "<head><meta charset=\"utf-8\" /></head>\n",
              "<body>\n",
              "    <div>            <script src=\"https://cdnjs.cloudflare.com/ajax/libs/mathjax/2.7.5/MathJax.js?config=TeX-AMS-MML_SVG\"></script><script type=\"text/javascript\">if (window.MathJax && window.MathJax.Hub && window.MathJax.Hub.Config) {window.MathJax.Hub.Config({SVG: {font: \"STIX-Web\"}});}</script>                <script type=\"text/javascript\">window.PlotlyConfig = {MathJaxConfig: 'local'};</script>\n",
              "        <script src=\"https://cdn.plot.ly/plotly-2.18.2.min.js\"></script>                <div id=\"216fbe4c-628f-480b-b19d-858e01ab23fc\" class=\"plotly-graph-div\" style=\"height:525px; width:100%;\"></div>            <script type=\"text/javascript\">                                    window.PLOTLYENV=window.PLOTLYENV || {};                                    if (document.getElementById(\"216fbe4c-628f-480b-b19d-858e01ab23fc\")) {                    Plotly.newPlot(                        \"216fbe4c-628f-480b-b19d-858e01ab23fc\",                        [{\"hovertemplate\":\"State=%{x}<br>Sales=%{y}<extra></extra>\",\"legendgroup\":\"\",\"line\":{\"color\":\"#636efa\",\"dash\":\"solid\"},\"marker\":{\"symbol\":\"circle\"},\"mode\":\"lines\",\"name\":\"\",\"orientation\":\"v\",\"showlegend\":false,\"x\":[\"Arizona\",\"California\",\"Colorado\",\"Idaho\",\"Montana\",\"Nevada\",\"New Mexico\",\"Oregon\",\"Utah\",\"Washington\"],\"xaxis\":\"x\",\"y\":[8295.25,91303.54,6502.29,465.21000000000004,424.49,2561.2,708.02,4807.8099999999995,2943.69,29871.57],\"yaxis\":\"y\",\"type\":\"scatter\"}],                        {\"template\":{\"data\":{\"histogram2dcontour\":[{\"type\":\"histogram2dcontour\",\"colorbar\":{\"outlinewidth\":0,\"ticks\":\"\"},\"colorscale\":[[0.0,\"#0d0887\"],[0.1111111111111111,\"#46039f\"],[0.2222222222222222,\"#7201a8\"],[0.3333333333333333,\"#9c179e\"],[0.4444444444444444,\"#bd3786\"],[0.5555555555555556,\"#d8576b\"],[0.6666666666666666,\"#ed7953\"],[0.7777777777777778,\"#fb9f3a\"],[0.8888888888888888,\"#fdca26\"],[1.0,\"#f0f921\"]]}],\"choropleth\":[{\"type\":\"choropleth\",\"colorbar\":{\"outlinewidth\":0,\"ticks\":\"\"}}],\"histogram2d\":[{\"type\":\"histogram2d\",\"colorbar\":{\"outlinewidth\":0,\"ticks\":\"\"},\"colorscale\":[[0.0,\"#0d0887\"],[0.1111111111111111,\"#46039f\"],[0.2222222222222222,\"#7201a8\"],[0.3333333333333333,\"#9c179e\"],[0.4444444444444444,\"#bd3786\"],[0.5555555555555556,\"#d8576b\"],[0.6666666666666666,\"#ed7953\"],[0.7777777777777778,\"#fb9f3a\"],[0.8888888888888888,\"#fdca26\"],[1.0,\"#f0f921\"]]}],\"heatmap\":[{\"type\":\"heatmap\",\"colorbar\":{\"outlinewidth\":0,\"ticks\":\"\"},\"colorscale\":[[0.0,\"#0d0887\"],[0.1111111111111111,\"#46039f\"],[0.2222222222222222,\"#7201a8\"],[0.3333333333333333,\"#9c179e\"],[0.4444444444444444,\"#bd3786\"],[0.5555555555555556,\"#d8576b\"],[0.6666666666666666,\"#ed7953\"],[0.7777777777777778,\"#fb9f3a\"],[0.8888888888888888,\"#fdca26\"],[1.0,\"#f0f921\"]]}],\"heatmapgl\":[{\"type\":\"heatmapgl\",\"colorbar\":{\"outlinewidth\":0,\"ticks\":\"\"},\"colorscale\":[[0.0,\"#0d0887\"],[0.1111111111111111,\"#46039f\"],[0.2222222222222222,\"#7201a8\"],[0.3333333333333333,\"#9c179e\"],[0.4444444444444444,\"#bd3786\"],[0.5555555555555556,\"#d8576b\"],[0.6666666666666666,\"#ed7953\"],[0.7777777777777778,\"#fb9f3a\"],[0.8888888888888888,\"#fdca26\"],[1.0,\"#f0f921\"]]}],\"contourcarpet\":[{\"type\":\"contourcarpet\",\"colorbar\":{\"outlinewidth\":0,\"ticks\":\"\"}}],\"contour\":[{\"type\":\"contour\",\"colorbar\":{\"outlinewidth\":0,\"ticks\":\"\"},\"colorscale\":[[0.0,\"#0d0887\"],[0.1111111111111111,\"#46039f\"],[0.2222222222222222,\"#7201a8\"],[0.3333333333333333,\"#9c179e\"],[0.4444444444444444,\"#bd3786\"],[0.5555555555555556,\"#d8576b\"],[0.6666666666666666,\"#ed7953\"],[0.7777777777777778,\"#fb9f3a\"],[0.8888888888888888,\"#fdca26\"],[1.0,\"#f0f921\"]]}],\"surface\":[{\"type\":\"surface\",\"colorbar\":{\"outlinewidth\":0,\"ticks\":\"\"},\"colorscale\":[[0.0,\"#0d0887\"],[0.1111111111111111,\"#46039f\"],[0.2222222222222222,\"#7201a8\"],[0.3333333333333333,\"#9c179e\"],[0.4444444444444444,\"#bd3786\"],[0.5555555555555556,\"#d8576b\"],[0.6666666666666666,\"#ed7953\"],[0.7777777777777778,\"#fb9f3a\"],[0.8888888888888888,\"#fdca26\"],[1.0,\"#f0f921\"]]}],\"mesh3d\":[{\"type\":\"mesh3d\",\"colorbar\":{\"outlinewidth\":0,\"ticks\":\"\"}}],\"scatter\":[{\"fillpattern\":{\"fillmode\":\"overlay\",\"size\":10,\"solidity\":0.2},\"type\":\"scatter\"}],\"parcoords\":[{\"type\":\"parcoords\",\"line\":{\"colorbar\":{\"outlinewidth\":0,\"ticks\":\"\"}}}],\"scatterpolargl\":[{\"type\":\"scatterpolargl\",\"marker\":{\"colorbar\":{\"outlinewidth\":0,\"ticks\":\"\"}}}],\"bar\":[{\"error_x\":{\"color\":\"#2a3f5f\"},\"error_y\":{\"color\":\"#2a3f5f\"},\"marker\":{\"line\":{\"color\":\"#E5ECF6\",\"width\":0.5},\"pattern\":{\"fillmode\":\"overlay\",\"size\":10,\"solidity\":0.2}},\"type\":\"bar\"}],\"scattergeo\":[{\"type\":\"scattergeo\",\"marker\":{\"colorbar\":{\"outlinewidth\":0,\"ticks\":\"\"}}}],\"scatterpolar\":[{\"type\":\"scatterpolar\",\"marker\":{\"colorbar\":{\"outlinewidth\":0,\"ticks\":\"\"}}}],\"histogram\":[{\"marker\":{\"pattern\":{\"fillmode\":\"overlay\",\"size\":10,\"solidity\":0.2}},\"type\":\"histogram\"}],\"scattergl\":[{\"type\":\"scattergl\",\"marker\":{\"colorbar\":{\"outlinewidth\":0,\"ticks\":\"\"}}}],\"scatter3d\":[{\"type\":\"scatter3d\",\"line\":{\"colorbar\":{\"outlinewidth\":0,\"ticks\":\"\"}},\"marker\":{\"colorbar\":{\"outlinewidth\":0,\"ticks\":\"\"}}}],\"scattermapbox\":[{\"type\":\"scattermapbox\",\"marker\":{\"colorbar\":{\"outlinewidth\":0,\"ticks\":\"\"}}}],\"scatterternary\":[{\"type\":\"scatterternary\",\"marker\":{\"colorbar\":{\"outlinewidth\":0,\"ticks\":\"\"}}}],\"scattercarpet\":[{\"type\":\"scattercarpet\",\"marker\":{\"colorbar\":{\"outlinewidth\":0,\"ticks\":\"\"}}}],\"carpet\":[{\"aaxis\":{\"endlinecolor\":\"#2a3f5f\",\"gridcolor\":\"white\",\"linecolor\":\"white\",\"minorgridcolor\":\"white\",\"startlinecolor\":\"#2a3f5f\"},\"baxis\":{\"endlinecolor\":\"#2a3f5f\",\"gridcolor\":\"white\",\"linecolor\":\"white\",\"minorgridcolor\":\"white\",\"startlinecolor\":\"#2a3f5f\"},\"type\":\"carpet\"}],\"table\":[{\"cells\":{\"fill\":{\"color\":\"#EBF0F8\"},\"line\":{\"color\":\"white\"}},\"header\":{\"fill\":{\"color\":\"#C8D4E3\"},\"line\":{\"color\":\"white\"}},\"type\":\"table\"}],\"barpolar\":[{\"marker\":{\"line\":{\"color\":\"#E5ECF6\",\"width\":0.5},\"pattern\":{\"fillmode\":\"overlay\",\"size\":10,\"solidity\":0.2}},\"type\":\"barpolar\"}],\"pie\":[{\"automargin\":true,\"type\":\"pie\"}]},\"layout\":{\"autotypenumbers\":\"strict\",\"colorway\":[\"#636efa\",\"#EF553B\",\"#00cc96\",\"#ab63fa\",\"#FFA15A\",\"#19d3f3\",\"#FF6692\",\"#B6E880\",\"#FF97FF\",\"#FECB52\"],\"font\":{\"color\":\"#2a3f5f\"},\"hovermode\":\"closest\",\"hoverlabel\":{\"align\":\"left\"},\"paper_bgcolor\":\"white\",\"plot_bgcolor\":\"#E5ECF6\",\"polar\":{\"bgcolor\":\"#E5ECF6\",\"angularaxis\":{\"gridcolor\":\"white\",\"linecolor\":\"white\",\"ticks\":\"\"},\"radialaxis\":{\"gridcolor\":\"white\",\"linecolor\":\"white\",\"ticks\":\"\"}},\"ternary\":{\"bgcolor\":\"#E5ECF6\",\"aaxis\":{\"gridcolor\":\"white\",\"linecolor\":\"white\",\"ticks\":\"\"},\"baxis\":{\"gridcolor\":\"white\",\"linecolor\":\"white\",\"ticks\":\"\"},\"caxis\":{\"gridcolor\":\"white\",\"linecolor\":\"white\",\"ticks\":\"\"}},\"coloraxis\":{\"colorbar\":{\"outlinewidth\":0,\"ticks\":\"\"}},\"colorscale\":{\"sequential\":[[0.0,\"#0d0887\"],[0.1111111111111111,\"#46039f\"],[0.2222222222222222,\"#7201a8\"],[0.3333333333333333,\"#9c179e\"],[0.4444444444444444,\"#bd3786\"],[0.5555555555555556,\"#d8576b\"],[0.6666666666666666,\"#ed7953\"],[0.7777777777777778,\"#fb9f3a\"],[0.8888888888888888,\"#fdca26\"],[1.0,\"#f0f921\"]],\"sequentialminus\":[[0.0,\"#0d0887\"],[0.1111111111111111,\"#46039f\"],[0.2222222222222222,\"#7201a8\"],[0.3333333333333333,\"#9c179e\"],[0.4444444444444444,\"#bd3786\"],[0.5555555555555556,\"#d8576b\"],[0.6666666666666666,\"#ed7953\"],[0.7777777777777778,\"#fb9f3a\"],[0.8888888888888888,\"#fdca26\"],[1.0,\"#f0f921\"]],\"diverging\":[[0,\"#8e0152\"],[0.1,\"#c51b7d\"],[0.2,\"#de77ae\"],[0.3,\"#f1b6da\"],[0.4,\"#fde0ef\"],[0.5,\"#f7f7f7\"],[0.6,\"#e6f5d0\"],[0.7,\"#b8e186\"],[0.8,\"#7fbc41\"],[0.9,\"#4d9221\"],[1,\"#276419\"]]},\"xaxis\":{\"gridcolor\":\"white\",\"linecolor\":\"white\",\"ticks\":\"\",\"title\":{\"standoff\":15},\"zerolinecolor\":\"white\",\"automargin\":true,\"zerolinewidth\":2},\"yaxis\":{\"gridcolor\":\"white\",\"linecolor\":\"white\",\"ticks\":\"\",\"title\":{\"standoff\":15},\"zerolinecolor\":\"white\",\"automargin\":true,\"zerolinewidth\":2},\"scene\":{\"xaxis\":{\"backgroundcolor\":\"#E5ECF6\",\"gridcolor\":\"white\",\"linecolor\":\"white\",\"showbackground\":true,\"ticks\":\"\",\"zerolinecolor\":\"white\",\"gridwidth\":2},\"yaxis\":{\"backgroundcolor\":\"#E5ECF6\",\"gridcolor\":\"white\",\"linecolor\":\"white\",\"showbackground\":true,\"ticks\":\"\",\"zerolinecolor\":\"white\",\"gridwidth\":2},\"zaxis\":{\"backgroundcolor\":\"#E5ECF6\",\"gridcolor\":\"white\",\"linecolor\":\"white\",\"showbackground\":true,\"ticks\":\"\",\"zerolinecolor\":\"white\",\"gridwidth\":2}},\"shapedefaults\":{\"line\":{\"color\":\"#2a3f5f\"}},\"annotationdefaults\":{\"arrowcolor\":\"#2a3f5f\",\"arrowhead\":0,\"arrowwidth\":1},\"geo\":{\"bgcolor\":\"white\",\"landcolor\":\"#E5ECF6\",\"subunitcolor\":\"white\",\"showland\":true,\"showlakes\":true,\"lakecolor\":\"white\"},\"title\":{\"x\":0.05},\"mapbox\":{\"style\":\"light\"}}},\"xaxis\":{\"anchor\":\"y\",\"domain\":[0.0,1.0],\"title\":{\"text\":\"State\"}},\"yaxis\":{\"anchor\":\"x\",\"domain\":[0.0,1.0],\"title\":{\"text\":\"Sales\"}},\"legend\":{\"tracegroupgap\":0},\"title\":{\"text\":\"Yearly SALES per State(2011)\"}},                        {\"responsive\": true}                    ).then(function(){\n",
              "                            \n",
              "var gd = document.getElementById('216fbe4c-628f-480b-b19d-858e01ab23fc');\n",
              "var x = new MutationObserver(function (mutations, observer) {{\n",
              "        var display = window.getComputedStyle(gd).display;\n",
              "        if (!display || display === 'none') {{\n",
              "            console.log([gd, 'removed!']);\n",
              "            Plotly.purge(gd);\n",
              "            observer.disconnect();\n",
              "        }}\n",
              "}});\n",
              "\n",
              "// Listen for the removal of the full notebook cells\n",
              "var notebookContainer = gd.closest('#notebook-container');\n",
              "if (notebookContainer) {{\n",
              "    x.observe(notebookContainer, {childList: true});\n",
              "}}\n",
              "\n",
              "// Listen for the clearing of the current output cell\n",
              "var outputEl = gd.closest('.output');\n",
              "if (outputEl) {{\n",
              "    x.observe(outputEl, {childList: true});\n",
              "}}\n",
              "\n",
              "                        })                };                            </script>        </div>\n",
              "</body>\n",
              "</html>"
            ]
          },
          "metadata": {},
          "output_type": "display_data"
        }
      ],
      "source": [
        "state_sales = year1.groupby('State')['Sales'].sum().reset_index()\n",
        "fig = px.line(state_sales,x='State',y='Sales',title = 'Yearly SALES per State(2011)')\n",
        "fig.show()"
      ]
    },
    {
      "cell_type": "markdown",
      "metadata": {
        "id": "ngck42BwqqG4"
      },
      "source": [
        "'CALIFORNIA' has highest and 'MONTANA' has lowest SALE in year 2011"
      ]
    },
    {
      "cell_type": "code",
      "execution_count": null,
      "metadata": {
        "id": "QOsNeS9rqFya"
      },
      "outputs": [],
      "source": [
        "xcz = df.Year.value_counts().sort_index()\n",
        "''' sort_values() kha lgna hai and sort_index() kha pe iska d/f smjh aagya na'''\n",
        "#sort_index is used to sort series and sort values is used to sort DataFrame\n",
        "xcz"
      ]
    },
    {
      "cell_type": "code",
      "execution_count": null,
      "metadata": {
        "id": "R4RLj9yZwXSz"
      },
      "outputs": [],
      "source": [
        "year2 = df[df['Year']==2012]\n",
        "year2.shape"
      ]
    },
    {
      "cell_type": "code",
      "execution_count": null,
      "metadata": {
        "id": "vid_Zj8UxpVd"
      },
      "outputs": [],
      "source": [
        "year2.head()"
      ]
    },
    {
      "cell_type": "markdown",
      "metadata": {
        "id": "Ao-y7Xz4yACy"
      },
      "source": [
        "Q-1 find profit and sales over months of every state in 2012 "
      ]
    },
    {
      "cell_type": "markdown",
      "metadata": {
        "id": "0iIzr9L4yj-T"
      },
      "source": [
        "Q-2 find total (profit and sales) over states in year 2012"
      ]
    },
    {
      "cell_type": "code",
      "execution_count": null,
      "metadata": {
        "id": "TGwj1PjGxu8j"
      },
      "outputs": [],
      "source": [
        "a1 = year2.groupby(['Month','State'])['Profit'].sum()\n",
        "a2 = year2.groupby(['Month','State'])['Sales'].sum()\n",
        "a3 = pd.merge(a1,a2,how='left',on=['Month','State']).reset_index()\n",
        "a3"
      ]
    },
    {
      "cell_type": "markdown",
      "metadata": {
        "id": "GvLmt44f8DaM"
      },
      "source": [
        "Q- which state gives most of the profit over time."
      ]
    },
    {
      "cell_type": "code",
      "execution_count": null,
      "metadata": {
        "id": "RSEQk95L73uo"
      },
      "outputs": [],
      "source": [
        "fig = px.line(a3,x='Month',y='Profit',color='State',title='profit over months(2012)')\n",
        "fig.show()"
      ]
    },
    {
      "cell_type": "markdown",
      "metadata": {
        "id": "DVC3149-9Ajt"
      },
      "source": [
        "CALIFORNIA gives most of the profit over time"
      ]
    },
    {
      "cell_type": "code",
      "execution_count": null,
      "metadata": {
        "id": "ttj3DlNv83sL"
      },
      "outputs": [],
      "source": [
        "fig = px.line(a3,y='Sales',x='Month',color='State',title='Sales over months(2012)')\n",
        "fig.show()"
      ]
    },
    {
      "cell_type": "markdown",
      "metadata": {
        "id": "lW0OiZfR9Acd"
      },
      "source": [
        "CALIFORNIA gives max. Sales over time."
      ]
    },
    {
      "cell_type": "markdown",
      "metadata": {
        "id": "kJ_4gXI9_Rbz"
      },
      "source": [
        "Q- Yearly profit of each state."
      ]
    },
    {
      "cell_type": "code",
      "execution_count": null,
      "metadata": {
        "id": "uAS0hEAs_O4N"
      },
      "outputs": [],
      "source": [
        "state_profit2 = year2.groupby('State')['Profit'].sum()\n",
        "state_profit2 = state_profit2.sort_values(ascending = False).reset_index()\n",
        "state_profit2\n",
        "    \n"
      ]
    },
    {
      "cell_type": "code",
      "execution_count": null,
      "metadata": {
        "id": "N1IeScv7ASWo"
      },
      "outputs": [],
      "source": [
        "fig = px.line(state_profit2,x='State',y='Profit',title='Yearly profit per states(2012)')\n",
        "fig.show()\n",
        "# this graph is made by above state_profit2 vha pe humne sort_values kr rkhi thi profit me islie ye graph\n",
        "# aisa aaya or upper humne dubara code nhi likha islie aisa hua"
      ]
    },
    {
      "cell_type": "code",
      "execution_count": null,
      "metadata": {
        "id": "PbXW-RdoBYWS"
      },
      "outputs": [],
      "source": [
        "state_profit2 = year2.groupby('State')['Profit'].sum().reset_index()\n",
        "fig = px.line(state_profit2,x='State',y='Profit',title='Yearly profit per states(2012)')\n",
        "fig.show()\n",
        "# is graph me ye state_profit2 hai vo saamne hi likh dia or isme sorting nhi lgi hai islie values \n",
        "# aache se ai hai.\n"
      ]
    },
    {
      "cell_type": "markdown",
      "metadata": {
        "id": "smyi8Ft8CwsA"
      },
      "source": [
        "CALIFORNIA made highest profit of 14371"
      ]
    },
    {
      "cell_type": "markdown",
      "metadata": {
        "id": "4pHkNoB6DVvr"
      },
      "source": [
        "Q- Yearly Sales of each state"
      ]
    },
    {
      "cell_type": "code",
      "execution_count": null,
      "metadata": {
        "id": "p6OWFIiOBtEp"
      },
      "outputs": [],
      "source": [
        "state_sales2 = year2.groupby('State')['Sales'].sum()\n",
        "state_sales2 = state_sales2.sort_values(ascending=False).reset_index()\n",
        "state_sales2"
      ]
    },
    {
      "cell_type": "code",
      "execution_count": null,
      "metadata": {
        "id": "pRm0n3IwD7nq"
      },
      "outputs": [],
      "source": [
        "state_sales2 = year2.groupby('State')['Sales'].sum().reset_index()\n",
        "fig = px.line(state_sales2,x='State', y='Sales',title='Yearly sales per states(2012)')\n",
        "fig.show()"
      ]
    },
    {
      "cell_type": "markdown",
      "metadata": {
        "id": "Kvu_EQ1qEoVx"
      },
      "source": [
        "CALIFORNIA make a highest sale of 88443"
      ]
    },
    {
      "cell_type": "markdown",
      "metadata": {
        "id": "whiWraIG-9YP"
      },
      "source": [
        "Q-1 find profit and sales over months of every state in 2013"
      ]
    },
    {
      "cell_type": "code",
      "execution_count": null,
      "metadata": {
        "id": "SnvsJIqP_FSF"
      },
      "outputs": [],
      "source": [
        "year3 = df[df['Year']==2013]\n",
        "year3.shape"
      ]
    },
    {
      "cell_type": "code",
      "execution_count": null,
      "metadata": {
        "id": "ReGh6DsGEZAv"
      },
      "outputs": [],
      "source": [
        "b1 = year3.groupby(['Month','State'])['Profit'].sum()\n",
        "b2 = year3.groupby(['Month','State'])['Sales'].sum()\n",
        "b3 = pd.merge(b1,b2,how='left',on=['Month','State']).reset_index()\n",
        "b3"
      ]
    },
    {
      "cell_type": "code",
      "execution_count": null,
      "metadata": {
        "id": "RfoVNJXNCR71"
      },
      "outputs": [],
      "source": [
        "fig = px.line(b3,x='Month',y='Profit',color='State',title='Profit over months(2013)')\n",
        "fig.show()"
      ]
    },
    {
      "cell_type": "code",
      "execution_count": null,
      "metadata": {
        "id": "Wn33xGPvC6-j"
      },
      "outputs": [],
      "source": [
        "fig = px.line(b3,x='Month',y='Sales',color='State',title='Sales over Months(2013)')\n",
        "fig.show()"
      ]
    },
    {
      "cell_type": "code",
      "execution_count": null,
      "metadata": {
        "id": "UkysTNUQFXbP"
      },
      "outputs": [],
      "source": []
    },
    {
      "cell_type": "markdown",
      "metadata": {
        "id": "D2GI5IhpE_De"
      },
      "source": [
        "finding Total sales and total profit in year 2013"
      ]
    },
    {
      "cell_type": "code",
      "execution_count": null,
      "metadata": {
        "id": "aGVbCY3RFK6D"
      },
      "outputs": [],
      "source": [
        "state_profit3 = year3.groupby('State')['Profit'].sum()\n",
        "state_profit3"
      ]
    },
    {
      "cell_type": "code",
      "execution_count": null,
      "metadata": {
        "id": "AUnUm_wePya0"
      },
      "outputs": [],
      "source": [
        "state_profit3 = year3.groupby('State')['Profit'].sum().reset_index()\n",
        "fig= px.line(state_profit3,x='State',y='Profit',title='Total Profit Over States(2013)')\n",
        "fig.show()"
      ]
    },
    {
      "cell_type": "code",
      "execution_count": null,
      "metadata": {
        "id": "WA97BOi9R6SQ"
      },
      "outputs": [],
      "source": [
        "state_sales3 = year3.groupby('State')['Sales'].sum()\n",
        "state_sales3"
      ]
    },
    {
      "cell_type": "code",
      "execution_count": null,
      "metadata": {
        "id": "Y5TUHiunSnWs"
      },
      "outputs": [],
      "source": [
        "state_sales3 = year3.groupby('State')['Sales'].sum().reset_index()\n",
        "fig = px.line(state_sales3,x='State',y='Sales',title='total sales over states(2013)')\n",
        "fig.show()"
      ]
    },
    {
      "cell_type": "markdown",
      "metadata": {
        "id": "Bh6_WNmqxD-x"
      },
      "source": [
        "Now for year 2014"
      ]
    },
    {
      "cell_type": "markdown",
      "metadata": {
        "id": "eHsvhn0Rxw65"
      },
      "source": [
        "Find Sales and Profit of every states over months"
      ]
    },
    {
      "cell_type": "code",
      "execution_count": null,
      "metadata": {
        "id": "9ndG5i8jTFAa"
      },
      "outputs": [],
      "source": [
        "year4 = df[df['Year']==2014]"
      ]
    },
    {
      "cell_type": "code",
      "execution_count": null,
      "metadata": {
        "id": "oDWcp-9YzAc4"
      },
      "outputs": [],
      "source": [
        "f1 = year4.groupby(['Month','State'])['Profit'].sum()\n",
        "f2 = year4.groupby(['Month','State'])['Sales'].sum()\n",
        "f3 = pd.merge(f1,f2,how='left',on=['Month','State']).reset_index()\n",
        "f3"
      ]
    },
    {
      "cell_type": "code",
      "execution_count": null,
      "metadata": {
        "id": "173AveVjvrNq"
      },
      "outputs": [],
      "source": [
        "fig = px.line(f3,x='Month',y='Profit',color = 'State',title='Profit Over Months(2014)')\n",
        "fig.show()"
      ]
    },
    {
      "cell_type": "code",
      "execution_count": null,
      "metadata": {
        "id": "82lT24uGx11l"
      },
      "outputs": [],
      "source": [
        "fig = px.line(f3,x='Month',y='Sales',color = 'State',title='Sales Over Months(2014)')\n",
        "fig.show()"
      ]
    },
    {
      "cell_type": "markdown",
      "metadata": {
        "id": "94vid_m19C5M"
      },
      "source": [
        "Q- find total profit and *sales* over states of year 2014"
      ]
    },
    {
      "cell_type": "code",
      "execution_count": null,
      "metadata": {
        "id": "9afy5UsV9CI4"
      },
      "outputs": [],
      "source": [
        "state_profit4 = year4.groupby('State')['Profit'].sum()\n",
        "state_profit4 = state_profit4.sort_values(ascending=False)\n",
        "state_profit4"
      ]
    },
    {
      "cell_type": "code",
      "execution_count": null,
      "metadata": {
        "id": "RakeYPK99x9p"
      },
      "outputs": [],
      "source": [
        "state_profit4 = year4.groupby('State')['Profit'].sum().reset_index()\n",
        "fig = px.line(state_profit4,x='State',y='Profit',title = 'Total Profit over states(2014)')\n",
        "fig.show()"
      ]
    },
    {
      "cell_type": "code",
      "execution_count": null,
      "metadata": {
        "id": "jv67RN_I_OUs"
      },
      "outputs": [],
      "source": [
        "state_sales4 = year4.groupby('State')['Sales'].sum()\n",
        "state_sales4 = state_sales4.sort_values(ascending = False)\n",
        "state_sales4\n"
      ]
    },
    {
      "cell_type": "code",
      "execution_count": null,
      "metadata": {
        "id": "kkVT-vXtAWZH"
      },
      "outputs": [],
      "source": [
        "state_sales4 = year4.groupby('State')['Sales'].sum().reset_index()"
      ]
    },
    {
      "cell_type": "code",
      "execution_count": null,
      "metadata": {
        "id": "8u0XxT96AQCs"
      },
      "outputs": [],
      "source": [
        "fig = px.line(state_sales4,x='State',y='Sales',title = 'Total Profit over states(2014)')\n",
        "fig.show()"
      ]
    },
    {
      "cell_type": "markdown",
      "metadata": {
        "id": "509bKDZuA9wo"
      },
      "source": [
        "Overall profit and sales of wallmart store over months"
      ]
    },
    {
      "cell_type": "code",
      "execution_count": null,
      "metadata": {
        "id": "bzKrVLhHBHt2"
      },
      "outputs": [],
      "source": [
        "z1 = df.groupby(['Month','State'])['Profit'].sum()\n",
        "z2 = df.groupby(['Month','State'])['Sales'].sum()\n",
        "z3 = pd.merge(z1,z2,how='left',on=['Month','State']).reset_index()\n",
        "z3"
      ]
    },
    {
      "cell_type": "code",
      "execution_count": null,
      "metadata": {
        "id": "5Qr1cYIQB37s"
      },
      "outputs": [],
      "source": [
        "fig = px.line(z3,x='Month',y='Profit',color='State',title = '(Overall) Profit over Months')\n",
        "fig.show()"
      ]
    },
    {
      "cell_type": "code",
      "execution_count": null,
      "metadata": {
        "id": "FDkhEbmVEd4_"
      },
      "outputs": [],
      "source": [
        "fig = px.line(z3,x='Month',y='Sales',color='State',title = '(Overall) Sales over months')\n",
        "fig.show()"
      ]
    },
    {
      "cell_type": "markdown",
      "metadata": {
        "id": "grdZMRC3E3dO"
      },
      "source": [
        "Total Sales and Profit of Whole wallmart data"
      ]
    },
    {
      "cell_type": "code",
      "execution_count": null,
      "metadata": {
        "id": "RqpI9YBjEv5A"
      },
      "outputs": [],
      "source": [
        "total_state_profit = df.groupby('State')['Profit'].sum()\n",
        "total_state_profit = total_state_profit.sort_values(ascending= False)\n",
        "total_state_profit "
      ]
    },
    {
      "cell_type": "code",
      "execution_count": null,
      "metadata": {
        "id": "u7ls_sMbF2dd"
      },
      "outputs": [],
      "source": [
        "total_state_profit = df.groupby('State')['Profit'].sum().reset_index()\n",
        "fig = px.line(total_state_profit,x='State', y='Profit',title = '(Overall) profit over states')\n",
        "fig.show()"
      ]
    },
    {
      "cell_type": "code",
      "execution_count": null,
      "metadata": {
        "id": "5dfc0Z11HVpA"
      },
      "outputs": [],
      "source": [
        "total_state_sales = df.groupby('State')['Profit'].sum()\n",
        "total_state_sales = total_state_sales.sort_values(ascending= False)\n",
        "total_state_sales"
      ]
    },
    {
      "cell_type": "code",
      "execution_count": null,
      "metadata": {
        "id": "l-muZsjuIjNF"
      },
      "outputs": [],
      "source": [
        "total_state_sales = df.groupby('State')['Sales'].sum().reset_index()\n",
        "fig = px.line(total_state_sales,x='State', y='Sales',title = '(Overall) Sales over States')\n",
        "fig.show()\n",
        "\n"
      ]
    },
    {
      "cell_type": "markdown",
      "metadata": {
        "id": "AYB2BtYCFfch"
      },
      "source": [
        "Overall conclusion is that - california has highest no. of profit and sales in all over the years and in total years\n"
      ]
    },
    {
      "cell_type": "markdown",
      "metadata": {
        "id": "cfTTZ9DoGQjA"
      },
      "source": [
        "Now generating category wise sales and profit"
      ]
    },
    {
      "cell_type": "code",
      "execution_count": null,
      "metadata": {
        "id": "twfP2NU6F6xW"
      },
      "outputs": [],
      "source": [
        "df.head()"
      ]
    },
    {
      "cell_type": "code",
      "execution_count": null,
      "metadata": {
        "id": "c0s8krAU5YEE"
      },
      "outputs": [],
      "source": []
    },
    {
      "cell_type": "markdown",
      "metadata": {
        "id": "sV2j7laU5Y4v"
      },
      "source": [
        "Q-- How many times Sales occured from each city. "
      ]
    },
    {
      "cell_type": "code",
      "execution_count": null,
      "metadata": {
        "id": "COmAcDrLGYv1"
      },
      "outputs": [],
      "source": [
        "cities = df.City.value_counts().reset_index()\n",
        "cities\n",
        "cities.rename(columns={'index':'City','City':'Count'})"
      ]
    },
    {
      "cell_type": "markdown",
      "metadata": {
        "id": "YFyoX6bT8Aiy"
      },
      "source": [
        "How many times Sales occured from each State"
      ]
    },
    {
      "cell_type": "code",
      "execution_count": null,
      "metadata": {
        "id": "YBZ2fe05Hn4O"
      },
      "outputs": [],
      "source": [
        "df.State.value_counts().reset_index()\n"
      ]
    },
    {
      "cell_type": "markdown",
      "metadata": {
        "id": "7gdhpoXo8PXQ"
      },
      "source": [
        "How many times Sales occured from each category"
      ]
    },
    {
      "cell_type": "code",
      "execution_count": null,
      "metadata": {
        "id": "HeWZWxWSI8r6"
      },
      "outputs": [],
      "source": [
        "df.Category.value_counts().reset_index()"
      ]
    },
    {
      "cell_type": "code",
      "execution_count": null,
      "metadata": {
        "id": "ePaGSzfuKSCM"
      },
      "outputs": [],
      "source": [
        "z1 = df.groupby('Category')['Profit'].sum().reset_index()\n",
        "z1=z1.sort_values(by='Profit',ascending=False)\n",
        "z1\n",
        "#'''  isme \"reset_index() lgaya hua hai islie ye ek dataframe me convert ho gya hai or datafrme me \n",
        "#sort_values() me \"by\" argument lagana pdta hai....vhi agar hm isse data frame me convert nhi krte to\n",
        "#\"by\" argument lagane pr ye hame \"error\" dikha deta...\n",
        "#ab data frame me convert krne pr hame sort_index() ki b tension nhi hogi kyunki ye humse poochta hai\n",
        "#ki \"by= 'kis column ko sort krna cha rhe ho' '''"
      ]
    },
    {
      "cell_type": "code",
      "execution_count": null,
      "metadata": {
        "id": "4ZpEJVxcN28O"
      },
      "outputs": [],
      "source": [
        "z1 = df.groupby('Category')['Profit'].sum()\n",
        "z1=z1.sort_values(ascending=False)\n",
        "z1\n",
        "# '''  ab kyunki pehli vaale code me .reset_index() upper tha uske baad sorting hui islie index no.\n",
        "#line se nhi aaye...or agar reset_index() niche likhoge to grupby krne pe dataframe nhi bnega pehli\n",
        "#line me islie hame \"by\" argument hatana pdega or is case me sort_index() b kaam aa skta hai.\n",
        "\n",
        "# just see the d/f b/w both of the code..."
      ]
    },
    {
      "cell_type": "code",
      "execution_count": null,
      "metadata": {
        "id": "vD0dsXiwKoLW"
      },
      "outputs": [],
      "source": [
        "z1 = df.groupby('Category')['Profit'].sum().reset_index()\n",
        "fig = px.line(z1,x='Category',y='Profit',title='Profit over categories')\n",
        "fig.show()"
      ]
    },
    {
      "cell_type": "markdown",
      "metadata": {
        "id": "cYSKvctgTLxH"
      },
      "source": [
        "COPIERS  has the highest profit of 19327"
      ]
    },
    {
      "cell_type": "code",
      "execution_count": null,
      "metadata": {
        "id": "KjBFYNSRLTcP"
      },
      "outputs": [],
      "source": [
        "y1 = df.groupby('Category')['Sales'].sum()\n",
        "y1"
      ]
    },
    {
      "cell_type": "code",
      "execution_count": null,
      "metadata": {
        "id": "rR4RwScxUsHi"
      },
      "outputs": [],
      "source": [
        "y1=y1.reset_index()\n",
        "fig = px.line(y1,x='Category',y='Sales',title = 'Sales over Caegories')\n",
        "fig.show()"
      ]
    },
    {
      "cell_type": "markdown",
      "metadata": {
        "id": "F49LuJJhWjk5"
      },
      "source": [
        "CHAIRS has highest sales of - 101781"
      ]
    },
    {
      "cell_type": "code",
      "execution_count": null,
      "metadata": {
        "id": "FfRqgS0nMuna"
      },
      "outputs": [],
      "source": [
        "df.head()"
      ]
    },
    {
      "cell_type": "code",
      "execution_count": null,
      "metadata": {
        "id": "3bNE2iUzVY-h"
      },
      "outputs": [],
      "source": [
        "# showing above graph by bar graph\n",
        "y1=y1.reset_index()\n",
        "#fig=px.bar(y1,x='State',y='Sale',color='State',title='Profit By Categroy')\n",
        "fig = px.bar(y1, x='Category', y='Sales', color='Category', title='Sales By Category',hover_name= 'Category')\n",
        "fig.show()"
      ]
    },
    {
      "cell_type": "code",
      "execution_count": null,
      "metadata": {
        "id": "KEsoG3FGXWz_"
      },
      "outputs": [],
      "source": [
        "z1 = df.groupby('Category')['Profit'].sum().reset_index()\n",
        "fig= px.bar(z1,x='Category',y='Profit',color ='Category',title='Profit Over Category',hover_name = 'Category')\n",
        "fig.show()"
      ]
    },
    {
      "cell_type": "markdown",
      "metadata": {
        "id": "oUHh2uc0SP1I"
      },
      "source": [
        "Total profit by state and city in dataframe df"
      ]
    },
    {
      "cell_type": "code",
      "execution_count": null,
      "metadata": {
        "id": "WzL20CuYJcus"
      },
      "outputs": [],
      "source": [
        "c = df.groupby(['State','City'])['Profit'].sum()\n",
        "c"
      ]
    },
    {
      "cell_type": "markdown",
      "metadata": {
        "id": "7XVjBswQVNxv"
      },
      "source": [
        "Total sales by State and city of DataFrame df"
      ]
    },
    {
      "cell_type": "code",
      "execution_count": null,
      "metadata": {
        "id": "AJKuF-_WUyl-"
      },
      "outputs": [],
      "source": [
        "d = df.groupby(['State','City'])['Sales'].sum()\n",
        "d"
      ]
    },
    {
      "cell_type": "code",
      "execution_count": null,
      "metadata": {
        "colab": {
          "background_save": true
        },
        "id": "UwwqupwiWe-f",
        "outputId": "b9042659-dea1-40df-88d4-cf93b62104ca"
      },
      "outputs": [
        {
          "data": {
            "text/plain": [
              "State       City         \n",
              "Arizona     Avondale         5.000000\n",
              "            Bullhead City    1.500000\n",
              "            Chandler         3.285714\n",
              "            Gilbert          3.866667\n",
              "            Glendale         2.913043\n",
              "                               ...   \n",
              "Washington  Renton           4.666667\n",
              "            Seattle          3.714953\n",
              "            Spokane          5.142857\n",
              "            Vancouver        3.000000\n",
              "Wyoming     Cheyenne         4.000000\n",
              "Name: Quantity, Length: 170, dtype: float64"
            ]
          },
          "execution_count": 219,
          "metadata": {},
          "output_type": "execute_result"
        }
      ],
      "source": [
        "e = df.groupby(['State','City'])['Quantity'].mean()\n",
        "e\n",
        "# Q - why we extract mean of this data or mean nikalne se kya faida hota hai..."
      ]
    },
    {
      "cell_type": "markdown",
      "metadata": {
        "id": "sx4YP8eYHCI5"
      },
      "source": [
        "No. of unique customers present in each city. "
      ]
    },
    {
      "cell_type": "code",
      "execution_count": null,
      "metadata": {
        "colab": {
          "background_save": true
        },
        "id": "a6boeVSy0M03",
        "outputId": "3b165bce-86dd-48e5-a289-d8d1f549120f"
      },
      "outputs": [
        {
          "data": {
            "text/plain": [
              "State       City         \n",
              "Arizona     Avondale           3\n",
              "            Bullhead City      1\n",
              "            Chandler           6\n",
              "            Gilbert            5\n",
              "            Glendale          13\n",
              "                            ... \n",
              "Washington  Renton             1\n",
              "            Seattle          188\n",
              "            Spokane            5\n",
              "            Vancouver          3\n",
              "Wyoming     Cheyenne           1\n",
              "Name: Customer Name, Length: 170, dtype: int64"
            ]
          },
          "execution_count": 220,
          "metadata": {},
          "output_type": "execute_result"
        }
      ],
      "source": [
        "f=df.groupby(['State','City'])['Customer Name'].nunique()\n",
        "f"
      ]
    },
    {
      "cell_type": "markdown",
      "metadata": {
        "id": "Xp9-5HNDHdy2"
      },
      "source": [
        "Name of the customers present in each cities of d/f States "
      ]
    },
    {
      "cell_type": "code",
      "execution_count": null,
      "metadata": {
        "colab": {
          "background_save": true
        },
        "id": "GntMgCEM_q4i",
        "outputId": "bda46b7f-6017-4c42-9dbf-2838aa056a13"
      },
      "outputs": [
        {
          "data": {
            "text/html": [
              "\n",
              "  <div id=\"df-9dd572b2-59d0-44df-a925-5379c2468049\">\n",
              "    <div class=\"colab-df-container\">\n",
              "      <div>\n",
              "<style scoped>\n",
              "    .dataframe tbody tr th:only-of-type {\n",
              "        vertical-align: middle;\n",
              "    }\n",
              "\n",
              "    .dataframe tbody tr th {\n",
              "        vertical-align: top;\n",
              "    }\n",
              "\n",
              "    .dataframe thead th {\n",
              "        text-align: right;\n",
              "    }\n",
              "</style>\n",
              "<table border=\"1\" class=\"dataframe\">\n",
              "  <thead>\n",
              "    <tr style=\"text-align: right;\">\n",
              "      <th></th>\n",
              "      <th>State</th>\n",
              "      <th>City</th>\n",
              "      <th>Customer Name</th>\n",
              "      <th>Count</th>\n",
              "    </tr>\n",
              "  </thead>\n",
              "  <tbody>\n",
              "    <tr>\n",
              "      <th>0</th>\n",
              "      <td>Arizona</td>\n",
              "      <td>Avondale</td>\n",
              "      <td>Kunst Miller</td>\n",
              "      <td>3</td>\n",
              "    </tr>\n",
              "    <tr>\n",
              "      <th>1</th>\n",
              "      <td>Arizona</td>\n",
              "      <td>Avondale</td>\n",
              "      <td>Philip Brown</td>\n",
              "      <td>2</td>\n",
              "    </tr>\n",
              "    <tr>\n",
              "      <th>2</th>\n",
              "      <td>Arizona</td>\n",
              "      <td>Avondale</td>\n",
              "      <td>Amy Cox</td>\n",
              "      <td>1</td>\n",
              "    </tr>\n",
              "    <tr>\n",
              "      <th>3</th>\n",
              "      <td>Arizona</td>\n",
              "      <td>Bullhead City</td>\n",
              "      <td>Gary Zandusky</td>\n",
              "      <td>2</td>\n",
              "    </tr>\n",
              "    <tr>\n",
              "      <th>4</th>\n",
              "      <td>Arizona</td>\n",
              "      <td>Chandler</td>\n",
              "      <td>James Lanier</td>\n",
              "      <td>2</td>\n",
              "    </tr>\n",
              "    <tr>\n",
              "      <th>...</th>\n",
              "      <td>...</td>\n",
              "      <td>...</td>\n",
              "      <td>...</td>\n",
              "      <td>...</td>\n",
              "    </tr>\n",
              "    <tr>\n",
              "      <th>1459</th>\n",
              "      <td>Washington</td>\n",
              "      <td>Spokane</td>\n",
              "      <td>Meg O'Connel</td>\n",
              "      <td>1</td>\n",
              "    </tr>\n",
              "    <tr>\n",
              "      <th>1460</th>\n",
              "      <td>Washington</td>\n",
              "      <td>Vancouver</td>\n",
              "      <td>Anthony Rawles</td>\n",
              "      <td>3</td>\n",
              "    </tr>\n",
              "    <tr>\n",
              "      <th>1461</th>\n",
              "      <td>Washington</td>\n",
              "      <td>Vancouver</td>\n",
              "      <td>Frank Merwin</td>\n",
              "      <td>1</td>\n",
              "    </tr>\n",
              "    <tr>\n",
              "      <th>1462</th>\n",
              "      <td>Washington</td>\n",
              "      <td>Vancouver</td>\n",
              "      <td>Jane Waco</td>\n",
              "      <td>1</td>\n",
              "    </tr>\n",
              "    <tr>\n",
              "      <th>1463</th>\n",
              "      <td>Wyoming</td>\n",
              "      <td>Cheyenne</td>\n",
              "      <td>Michelle Arnett</td>\n",
              "      <td>1</td>\n",
              "    </tr>\n",
              "  </tbody>\n",
              "</table>\n",
              "<p>1464 rows × 4 columns</p>\n",
              "</div>\n",
              "      <button class=\"colab-df-convert\" onclick=\"convertToInteractive('df-9dd572b2-59d0-44df-a925-5379c2468049')\"\n",
              "              title=\"Convert this dataframe to an interactive table.\"\n",
              "              style=\"display:none;\">\n",
              "        \n",
              "  <svg xmlns=\"http://www.w3.org/2000/svg\" height=\"24px\"viewBox=\"0 0 24 24\"\n",
              "       width=\"24px\">\n",
              "    <path d=\"M0 0h24v24H0V0z\" fill=\"none\"/>\n",
              "    <path d=\"M18.56 5.44l.94 2.06.94-2.06 2.06-.94-2.06-.94-.94-2.06-.94 2.06-2.06.94zm-11 1L8.5 8.5l.94-2.06 2.06-.94-2.06-.94L8.5 2.5l-.94 2.06-2.06.94zm10 10l.94 2.06.94-2.06 2.06-.94-2.06-.94-.94-2.06-.94 2.06-2.06.94z\"/><path d=\"M17.41 7.96l-1.37-1.37c-.4-.4-.92-.59-1.43-.59-.52 0-1.04.2-1.43.59L10.3 9.45l-7.72 7.72c-.78.78-.78 2.05 0 2.83L4 21.41c.39.39.9.59 1.41.59.51 0 1.02-.2 1.41-.59l7.78-7.78 2.81-2.81c.8-.78.8-2.07 0-2.86zM5.41 20L4 18.59l7.72-7.72 1.47 1.35L5.41 20z\"/>\n",
              "  </svg>\n",
              "      </button>\n",
              "      \n",
              "  <style>\n",
              "    .colab-df-container {\n",
              "      display:flex;\n",
              "      flex-wrap:wrap;\n",
              "      gap: 12px;\n",
              "    }\n",
              "\n",
              "    .colab-df-convert {\n",
              "      background-color: #E8F0FE;\n",
              "      border: none;\n",
              "      border-radius: 50%;\n",
              "      cursor: pointer;\n",
              "      display: none;\n",
              "      fill: #1967D2;\n",
              "      height: 32px;\n",
              "      padding: 0 0 0 0;\n",
              "      width: 32px;\n",
              "    }\n",
              "\n",
              "    .colab-df-convert:hover {\n",
              "      background-color: #E2EBFA;\n",
              "      box-shadow: 0px 1px 2px rgba(60, 64, 67, 0.3), 0px 1px 3px 1px rgba(60, 64, 67, 0.15);\n",
              "      fill: #174EA6;\n",
              "    }\n",
              "\n",
              "    [theme=dark] .colab-df-convert {\n",
              "      background-color: #3B4455;\n",
              "      fill: #D2E3FC;\n",
              "    }\n",
              "\n",
              "    [theme=dark] .colab-df-convert:hover {\n",
              "      background-color: #434B5C;\n",
              "      box-shadow: 0px 1px 3px 1px rgba(0, 0, 0, 0.15);\n",
              "      filter: drop-shadow(0px 1px 2px rgba(0, 0, 0, 0.3));\n",
              "      fill: #FFFFFF;\n",
              "    }\n",
              "  </style>\n",
              "\n",
              "      <script>\n",
              "        const buttonEl =\n",
              "          document.querySelector('#df-9dd572b2-59d0-44df-a925-5379c2468049 button.colab-df-convert');\n",
              "        buttonEl.style.display =\n",
              "          google.colab.kernel.accessAllowed ? 'block' : 'none';\n",
              "\n",
              "        async function convertToInteractive(key) {\n",
              "          const element = document.querySelector('#df-9dd572b2-59d0-44df-a925-5379c2468049');\n",
              "          const dataTable =\n",
              "            await google.colab.kernel.invokeFunction('convertToInteractive',\n",
              "                                                     [key], {});\n",
              "          if (!dataTable) return;\n",
              "\n",
              "          const docLinkHtml = 'Like what you see? Visit the ' +\n",
              "            '<a target=\"_blank\" href=https://colab.research.google.com/notebooks/data_table.ipynb>data table notebook</a>'\n",
              "            + ' to learn more about interactive tables.';\n",
              "          element.innerHTML = '';\n",
              "          dataTable['output_type'] = 'display_data';\n",
              "          await google.colab.output.renderOutput(dataTable, element);\n",
              "          const docLink = document.createElement('div');\n",
              "          docLink.innerHTML = docLinkHtml;\n",
              "          element.appendChild(docLink);\n",
              "        }\n",
              "      </script>\n",
              "    </div>\n",
              "  </div>\n",
              "  "
            ],
            "text/plain": [
              "           State           City    Customer Name  Count\n",
              "0        Arizona       Avondale     Kunst Miller      3\n",
              "1        Arizona       Avondale     Philip Brown      2\n",
              "2        Arizona       Avondale          Amy Cox      1\n",
              "3        Arizona  Bullhead City    Gary Zandusky      2\n",
              "4        Arizona       Chandler     James Lanier      2\n",
              "...          ...            ...              ...    ...\n",
              "1459  Washington        Spokane     Meg O'Connel      1\n",
              "1460  Washington      Vancouver   Anthony Rawles      3\n",
              "1461  Washington      Vancouver     Frank Merwin      1\n",
              "1462  Washington      Vancouver        Jane Waco      1\n",
              "1463     Wyoming       Cheyenne  Michelle Arnett      1\n",
              "\n",
              "[1464 rows x 4 columns]"
            ]
          },
          "execution_count": 221,
          "metadata": {},
          "output_type": "execute_result"
        }
      ],
      "source": [
        "#w = df.groupby(['State','City'])['Customer Name'].value_counts()\n",
        "#w\n",
        "# when applying above code then it gives you answer in series, and when u apply .reset_index then it gives u value_error. there4 u have to apply 2nd code or below code. --- appy both the code then you will see the d/f. \n",
        "w = df.groupby(['State','City'])['Customer Name'].value_counts().reset_index(name='Count').reset_index(drop=True)\n",
        "w\n",
        "# yha se aap states wise no. of orders bhi nikal skte hai."
      ]
    },
    {
      "cell_type": "code",
      "execution_count": null,
      "metadata": {
        "colab": {
          "background_save": true
        },
        "id": "6a_5sbgv9Lbd",
        "outputId": "d3bf790f-9874-4d35-d5c2-45a0175ad51a"
      },
      "outputs": [
        {
          "name": "stdout",
          "output_type": "stream",
          "text": [
            "State       City         \n",
            "Arizona     Avondale           6\n",
            "            Bullhead City      2\n",
            "            Chandler           7\n",
            "            Gilbert           15\n",
            "            Glendale          23\n",
            "                            ... \n",
            "Washington  Renton             3\n",
            "            Seattle          428\n",
            "            Spokane            7\n",
            "            Vancouver          5\n",
            "Wyoming     Cheyenne           1\n",
            "Name: Customer Name, Length: 170, dtype: int64\n"
          ]
        }
      ],
      "source": [
        "# now i want to find the no. of orders of each city like in avondale city no.of orders = 6\n",
        "w = df.groupby(['State','City'])['Customer Name'].value_counts()\n",
        "city_counts = w.groupby(level=[0, 1]).sum() # The groupby method with level=[0, 1] specifies that we want to group by the first and second levels of the index (State and City) and then apply the sum method to get the sum of the value_counts for each City.\n",
        "#here (level=[0,1]).sum()-- means level-0 = 0th column of w and level-1 = 1st column and then sum it.\n",
        "# bole to = ex- jha jha state = arizona hai(level-0) and jha khi bhi city=avondale ho unka sum krdo.\n",
        "print(city_counts)\n",
        "\n"
      ]
    },
    {
      "cell_type": "code",
      "execution_count": null,
      "metadata": {
        "colab": {
          "background_save": true
        },
        "id": "qaFfz6QYA4Qc",
        "outputId": "c0bf1c5a-ccaf-4356-d49e-d7ed39e6aefa"
      },
      "outputs": [
        {
          "name": "stdout",
          "output_type": "stream",
          "text": [
            "State       City         \n",
            "Arizona     Avondale           6\n",
            "            Bullhead City      2\n",
            "            Chandler           7\n",
            "            Gilbert           15\n",
            "            Glendale          23\n",
            "                            ... \n",
            "Washington  Renton             3\n",
            "            Seattle          428\n",
            "            Spokane            7\n",
            "            Vancouver          5\n",
            "Wyoming     Cheyenne           1\n",
            "Length: 170, dtype: int64\n"
          ]
        },
        {
          "data": {
            "application/vnd.google.colaboratory.intrinsic+json": {
              "type": "string"
            },
            "text/plain": [
              "\" when you run c,d,e,f,w then you will find there is name ,length,dtype is - written in last line but in s1 or in this code, when you run this then- Name will not come in last, so bcoz of this when you merge s1 with any other line it will gives you a value error- ValueError: Cannot merge a Series without a name. so to resolve this error you have to  assign a name to s1\\nassigning a name to s1 by two methods = 1st method.-  in second line write- s1.name = 'Size' (or any name u can give)\\n2nd method- s1 = df.groupby(['State', 'City']).size().rename('Size')\""
            ]
          },
          "execution_count": 223,
          "metadata": {},
          "output_type": "execute_result"
        }
      ],
      "source": [
        "# it also gives us the same answer, as above code gives.\n",
        "s1= df.groupby(['State', 'City']).size() # The size() method in Pandas is used to get the \n",
        "#number of rows (i.e., observations) in each group of a groupby object.\n",
        "# means ex- state = arizona , and city = avondale, jha b ye dikhe unko grp by krdo or unka size(jitni bar ye aae hai means count hue hai usko batao)\n",
        "print(s1)\n",
        "\n",
        "''' when you run c,d,e,f,w then you will find there is name ,length,dtype is - written in last line but in s1 or in this code, when you run this then- Name will not come in last, so bcoz of this when you merge s1 with any other line it will gives you a value error- ValueError: Cannot merge a Series without a name. so to resolve this error you have to  assign a name to s1\n",
        "assigning a name to s1 by two methods = 1st method.-  in second line write- s1.name = 'Size' (or any name u can give)\n",
        "2nd method- s1 = df.groupby(['State', 'City']).size().rename('Size')'''\n",
        "\n"
      ]
    },
    {
      "cell_type": "code",
      "execution_count": null,
      "metadata": {
        "colab": {
          "background_save": true
        },
        "id": "MXNYmkk8bIin",
        "outputId": "e3db1d93-b2de-4ba2-9180-d5d77999347f"
      },
      "outputs": [
        {
          "ename": "ValueError",
          "evalue": "ignored",
          "output_type": "error",
          "traceback": [
            "\u001b[0;31m---------------------------------------------------------------------------\u001b[0m",
            "\u001b[0;31mValueError\u001b[0m                                Traceback (most recent call last)",
            "\u001b[0;32m<ipython-input-224-9ab046d09fe3>\u001b[0m in \u001b[0;36m<cell line: 3>\u001b[0;34m()\u001b[0m\n\u001b[1;32m      1\u001b[0m \u001b[0mm\u001b[0m\u001b[0;34m=\u001b[0m \u001b[0mpd\u001b[0m\u001b[0;34m.\u001b[0m\u001b[0mmerge\u001b[0m\u001b[0;34m(\u001b[0m\u001b[0mc\u001b[0m\u001b[0;34m,\u001b[0m\u001b[0md\u001b[0m\u001b[0;34m,\u001b[0m\u001b[0mhow\u001b[0m\u001b[0;34m=\u001b[0m\u001b[0;34m'left'\u001b[0m\u001b[0;34m,\u001b[0m\u001b[0mon\u001b[0m\u001b[0;34m=\u001b[0m\u001b[0;34m[\u001b[0m\u001b[0;34m'State'\u001b[0m\u001b[0;34m,\u001b[0m\u001b[0;34m'City'\u001b[0m\u001b[0;34m]\u001b[0m\u001b[0;34m)\u001b[0m\u001b[0;34m\u001b[0m\u001b[0;34m\u001b[0m\u001b[0m\n\u001b[1;32m      2\u001b[0m \u001b[0mm\u001b[0m\u001b[0;34m=\u001b[0m\u001b[0mpd\u001b[0m\u001b[0;34m.\u001b[0m\u001b[0mmerge\u001b[0m\u001b[0;34m(\u001b[0m\u001b[0mpd\u001b[0m\u001b[0;34m.\u001b[0m\u001b[0mmerge\u001b[0m\u001b[0;34m(\u001b[0m\u001b[0mm\u001b[0m\u001b[0;34m,\u001b[0m\u001b[0me\u001b[0m\u001b[0;34m,\u001b[0m\u001b[0mhow\u001b[0m\u001b[0;34m=\u001b[0m\u001b[0;34m'left'\u001b[0m\u001b[0;34m,\u001b[0m\u001b[0mon\u001b[0m\u001b[0;34m=\u001b[0m\u001b[0;34m[\u001b[0m\u001b[0;34m'State'\u001b[0m\u001b[0;34m,\u001b[0m\u001b[0;34m'City'\u001b[0m\u001b[0;34m]\u001b[0m\u001b[0;34m)\u001b[0m\u001b[0;34m,\u001b[0m\u001b[0mf\u001b[0m\u001b[0;34m,\u001b[0m\u001b[0mhow\u001b[0m\u001b[0;34m=\u001b[0m\u001b[0;34m'left'\u001b[0m\u001b[0;34m,\u001b[0m\u001b[0mon\u001b[0m\u001b[0;34m=\u001b[0m\u001b[0;34m[\u001b[0m\u001b[0;34m'State'\u001b[0m\u001b[0;34m,\u001b[0m\u001b[0;34m'City'\u001b[0m\u001b[0;34m]\u001b[0m\u001b[0;34m)\u001b[0m\u001b[0;34m\u001b[0m\u001b[0;34m\u001b[0m\u001b[0m\n\u001b[0;32m----> 3\u001b[0;31m \u001b[0mm\u001b[0m\u001b[0;34m=\u001b[0m \u001b[0mpd\u001b[0m\u001b[0;34m.\u001b[0m\u001b[0mmerge\u001b[0m\u001b[0;34m(\u001b[0m\u001b[0mm\u001b[0m\u001b[0;34m,\u001b[0m\u001b[0ms1\u001b[0m \u001b[0;34m,\u001b[0m\u001b[0mhow\u001b[0m\u001b[0;34m=\u001b[0m\u001b[0;34m'left'\u001b[0m\u001b[0;34m,\u001b[0m\u001b[0mon\u001b[0m\u001b[0;34m=\u001b[0m\u001b[0;34m[\u001b[0m\u001b[0;34m'State'\u001b[0m\u001b[0;34m,\u001b[0m\u001b[0;34m'City'\u001b[0m\u001b[0;34m]\u001b[0m\u001b[0;34m)\u001b[0m\u001b[0;34m\u001b[0m\u001b[0;34m\u001b[0m\u001b[0m\n\u001b[0m\u001b[1;32m      4\u001b[0m m.rename({'Quantity':'Avg. Order Quantity', 'Customer Name_y':'no._of_orders',\n\u001b[1;32m      5\u001b[0m 'Customer Name_x':'Customers',},axis=1,inplace=True)\n",
            "\u001b[0;32m/usr/local/lib/python3.10/dist-packages/pandas/core/reshape/merge.py\u001b[0m in \u001b[0;36mmerge\u001b[0;34m(left, right, how, on, left_on, right_on, left_index, right_index, sort, suffixes, copy, indicator, validate)\u001b[0m\n\u001b[1;32m    108\u001b[0m     \u001b[0mvalidate\u001b[0m\u001b[0;34m:\u001b[0m \u001b[0mstr\u001b[0m \u001b[0;34m|\u001b[0m \u001b[0;32mNone\u001b[0m \u001b[0;34m=\u001b[0m \u001b[0;32mNone\u001b[0m\u001b[0;34m,\u001b[0m\u001b[0;34m\u001b[0m\u001b[0;34m\u001b[0m\u001b[0m\n\u001b[1;32m    109\u001b[0m ) -> DataFrame:\n\u001b[0;32m--> 110\u001b[0;31m     op = _MergeOperation(\n\u001b[0m\u001b[1;32m    111\u001b[0m         \u001b[0mleft\u001b[0m\u001b[0;34m,\u001b[0m\u001b[0;34m\u001b[0m\u001b[0;34m\u001b[0m\u001b[0m\n\u001b[1;32m    112\u001b[0m         \u001b[0mright\u001b[0m\u001b[0;34m,\u001b[0m\u001b[0;34m\u001b[0m\u001b[0;34m\u001b[0m\u001b[0m\n",
            "\u001b[0;32m/usr/local/lib/python3.10/dist-packages/pandas/core/reshape/merge.py\u001b[0m in \u001b[0;36m__init__\u001b[0;34m(self, left, right, how, on, left_on, right_on, axis, left_index, right_index, sort, suffixes, indicator, validate)\u001b[0m\n\u001b[1;32m    643\u001b[0m     ) -> None:\n\u001b[1;32m    644\u001b[0m         \u001b[0m_left\u001b[0m \u001b[0;34m=\u001b[0m \u001b[0m_validate_operand\u001b[0m\u001b[0;34m(\u001b[0m\u001b[0mleft\u001b[0m\u001b[0;34m)\u001b[0m\u001b[0;34m\u001b[0m\u001b[0;34m\u001b[0m\u001b[0m\n\u001b[0;32m--> 645\u001b[0;31m         \u001b[0m_right\u001b[0m \u001b[0;34m=\u001b[0m \u001b[0m_validate_operand\u001b[0m\u001b[0;34m(\u001b[0m\u001b[0mright\u001b[0m\u001b[0;34m)\u001b[0m\u001b[0;34m\u001b[0m\u001b[0;34m\u001b[0m\u001b[0m\n\u001b[0m\u001b[1;32m    646\u001b[0m         \u001b[0mself\u001b[0m\u001b[0;34m.\u001b[0m\u001b[0mleft\u001b[0m \u001b[0;34m=\u001b[0m \u001b[0mself\u001b[0m\u001b[0;34m.\u001b[0m\u001b[0morig_left\u001b[0m \u001b[0;34m=\u001b[0m \u001b[0m_left\u001b[0m\u001b[0;34m\u001b[0m\u001b[0;34m\u001b[0m\u001b[0m\n\u001b[1;32m    647\u001b[0m         \u001b[0mself\u001b[0m\u001b[0;34m.\u001b[0m\u001b[0mright\u001b[0m \u001b[0;34m=\u001b[0m \u001b[0mself\u001b[0m\u001b[0;34m.\u001b[0m\u001b[0morig_right\u001b[0m \u001b[0;34m=\u001b[0m \u001b[0m_right\u001b[0m\u001b[0;34m\u001b[0m\u001b[0;34m\u001b[0m\u001b[0m\n",
            "\u001b[0;32m/usr/local/lib/python3.10/dist-packages/pandas/core/reshape/merge.py\u001b[0m in \u001b[0;36m_validate_operand\u001b[0;34m(obj)\u001b[0m\n\u001b[1;32m   2420\u001b[0m     \u001b[0;32melif\u001b[0m \u001b[0misinstance\u001b[0m\u001b[0;34m(\u001b[0m\u001b[0mobj\u001b[0m\u001b[0;34m,\u001b[0m \u001b[0mABCSeries\u001b[0m\u001b[0;34m)\u001b[0m\u001b[0;34m:\u001b[0m\u001b[0;34m\u001b[0m\u001b[0;34m\u001b[0m\u001b[0m\n\u001b[1;32m   2421\u001b[0m         \u001b[0;32mif\u001b[0m \u001b[0mobj\u001b[0m\u001b[0;34m.\u001b[0m\u001b[0mname\u001b[0m \u001b[0;32mis\u001b[0m \u001b[0;32mNone\u001b[0m\u001b[0;34m:\u001b[0m\u001b[0;34m\u001b[0m\u001b[0;34m\u001b[0m\u001b[0m\n\u001b[0;32m-> 2422\u001b[0;31m             \u001b[0;32mraise\u001b[0m \u001b[0mValueError\u001b[0m\u001b[0;34m(\u001b[0m\u001b[0;34m\"Cannot merge a Series without a name\"\u001b[0m\u001b[0;34m)\u001b[0m\u001b[0;34m\u001b[0m\u001b[0;34m\u001b[0m\u001b[0m\n\u001b[0m\u001b[1;32m   2423\u001b[0m         \u001b[0;32melse\u001b[0m\u001b[0;34m:\u001b[0m\u001b[0;34m\u001b[0m\u001b[0;34m\u001b[0m\u001b[0m\n\u001b[1;32m   2424\u001b[0m             \u001b[0;32mreturn\u001b[0m \u001b[0mobj\u001b[0m\u001b[0;34m.\u001b[0m\u001b[0mto_frame\u001b[0m\u001b[0;34m(\u001b[0m\u001b[0;34m)\u001b[0m\u001b[0;34m\u001b[0m\u001b[0;34m\u001b[0m\u001b[0m\n",
            "\u001b[0;31mValueError\u001b[0m: Cannot merge a Series without a name"
          ]
        }
      ],
      "source": [
        "m= pd.merge(c,d,how='left',on=['State','City'])\n",
        "m=pd.merge(pd.merge(m,e,how='left',on=['State','City']),f,how='left',on=['State','City'])\n",
        "m= pd.merge(m,s1 ,how='left',on=['State','City'])\n",
        "m.rename({'Quantity':'Avg. Order Quantity', 'Customer Name_y':'no._of_orders',\n",
        "'Customer Name_x':'Customers',},axis=1,inplace=True)\n",
        "m\n",
        "#m.rename(columns={'Quantity':'Avg. Order Quantity'})\n",
        "#isme column ko rename krne k lie rename method ka use kia tha but in that code we use-- (g.column=['value_counts'])"
      ]
    },
    {
      "cell_type": "code",
      "execution_count": null,
      "metadata": {
        "colab": {
          "background_save": true
        },
        "id": "XDi4irQZVw_u"
      },
      "outputs": [],
      "source": [
        "xyz = m.reset_index()\n",
        "xyz"
      ]
    },
    {
      "cell_type": "code",
      "execution_count": null,
      "metadata": {
        "colab": {
          "background_save": true
        },
        "id": "Ydlhz_V_sAqH"
      },
      "outputs": [],
      "source": [
        "h= df.groupby(['State','City'])['Customer Name'].nunique()\n",
        "h"
      ]
    },
    {
      "cell_type": "code",
      "execution_count": null,
      "metadata": {
        "colab": {
          "background_save": true
        },
        "id": "YjfBwM89sJcM"
      },
      "outputs": [],
      "source": [
        "df"
      ]
    },
    {
      "cell_type": "code",
      "execution_count": null,
      "metadata": {
        "colab": {
          "background_save": true
        },
        "id": "1jukqbl3Ulil"
      },
      "outputs": [],
      "source": [
        "f = df.groupby(['State','City'])['Customer Name'].nunique()\n",
        "print(f)"
      ]
    },
    {
      "cell_type": "code",
      "execution_count": null,
      "metadata": {
        "colab": {
          "background_save": true
        },
        "id": "URpNsJMK9YlI"
      },
      "outputs": [],
      "source": [
        "g = df.groupby(['State','City'])['Customer Name'].value_counts()\n",
        "print(g)"
      ]
    },
    {
      "cell_type": "code",
      "execution_count": null,
      "metadata": {
        "colab": {
          "background_save": true
        },
        "id": "511l6pgKcaCA"
      },
      "outputs": [],
      "source": [
        "f_df = pd.DataFrame(f)\n",
        "f_df"
      ]
    },
    {
      "cell_type": "code",
      "execution_count": null,
      "metadata": {
        "colab": {
          "background_save": true
        },
        "id": "i2u2TuTF9mFT"
      },
      "outputs": [],
      "source": [
        "g = pd.DataFrame(g)\n",
        "g"
      ]
    },
    {
      "cell_type": "code",
      "execution_count": null,
      "metadata": {
        "colab": {
          "background_save": true
        },
        "id": "PyHowwD7Xx6L"
      },
      "outputs": [],
      "source": [
        "#f_df.columns = ['City']  # Rename the column to 'Count' instead of 'Customer Name'\n",
        "f_df=f_df.rename(columns={'Customer Name':'value_counts'})\n",
        "f_df= f_df.reset_index()\n",
        "#'''g[g['City']=='Avondale']'''\n"
      ]
    },
    {
      "cell_type": "code",
      "execution_count": null,
      "metadata": {
        "colab": {
          "background_save": true
        },
        "id": "kPNN88P69w4m"
      },
      "outputs": [],
      "source": [
        "#g.rename({'Customer Name' : 'value' },axis=1,inplace=True)#you can also use this line to change column name\n",
        "#g.columns = ['value_counts']  # Rename the column to 'Count' instead of 'Customer Name'\n",
        "g=g.rename(columns={'Customer Name':'value_counts'})\n",
        "g = g.reset_index()"
      ]
    },
    {
      "cell_type": "code",
      "execution_count": null,
      "metadata": {
        "colab": {
          "background_save": true
        },
        "id": "sBnnbnFDYR7q"
      },
      "outputs": [],
      "source": [
        "#  Q- to ask -isko run krne k lie mjhe pehle g.reset_index() and g.count kyu lagaya \n",
        "f_df[f_df['State']=='Arizona']\n"
      ]
    },
    {
      "cell_type": "code",
      "execution_count": null,
      "metadata": {
        "colab": {
          "background_save": true
        },
        "id": "nUgnuwX8-BYc"
      },
      "outputs": [],
      "source": [
        "g[g['State']=='Arizona']"
      ]
    },
    {
      "cell_type": "code",
      "execution_count": null,
      "metadata": {
        "colab": {
          "background_save": true
        },
        "id": "XAP4OkylKGJr"
      },
      "outputs": [],
      "source": [
        "f_df = f_df.reset_index().drop('index', axis=1)\n",
        "f_df.columns = ['State', 'City', 'Count']\n"
      ]
    },
    {
      "cell_type": "code",
      "execution_count": null,
      "metadata": {
        "colab": {
          "background_save": true
        },
        "id": "Zdg4Dl2eXbMi"
      },
      "outputs": [],
      "source": [
        "# in do (f_df and g) examples se ye conclusion nikal k aata hai ki no dataframe have same_name 2 columns\n",
        "# g me dataframe bnane k baad jb if u see the dataframe it have 2 columns name same- i.e Customer Name\n",
        "# or koi bhi 2 columns k same naam nhi ho skte islie we have to change 1 columns name"
      ]
    },
    {
      "cell_type": "markdown",
      "metadata": {
        "id": "nNJAPEP-WFX-"
      },
      "source": [
        "Q- Is there any relation between Sales & Profit"
      ]
    },
    {
      "cell_type": "code",
      "execution_count": null,
      "metadata": {
        "colab": {
          "background_save": true
        },
        "id": "LtHqpxP1SZdZ"
      },
      "outputs": [],
      "source": [
        " a = df.groupby(['State'])['Profit'].sum()"
      ]
    },
    {
      "cell_type": "code",
      "execution_count": null,
      "metadata": {
        "colab": {
          "background_save": true
        },
        "id": "LHKZyws3SZG2"
      },
      "outputs": [],
      "source": [
        "b=df.groupby(['State'])['Sales'].sum()"
      ]
    },
    {
      "cell_type": "code",
      "execution_count": null,
      "metadata": {
        "colab": {
          "background_save": true
        },
        "id": "1K60stloSYs8"
      },
      "outputs": [],
      "source": [
        "xy = pd.merge(a,b,how='left',on=['State']).reset_index()\n",
        "xy.sort_values(by='Profit')\n",
        "xy\n",
        "# imp-- jb bhi aapko random index dikhe rows ka(jaise is code me dikh rha hai) or aap usko hta k reset index lgana chahte ho to bs agli line me reset_index(Drop=True) lga dena to ye random index value ko hta k reset index lga dega. jaise mene agle code me lgake dikhaya hai.    dono code ko run krke dekhna u can see the d/f."
      ]
    },
    {
      "cell_type": "code",
      "execution_count": null,
      "metadata": {
        "colab": {
          "background_save": true
        },
        "id": "aQ85ODfpT4b6"
      },
      "outputs": [],
      "source": [
        "ab = pd.merge(a,b,how='left',on=['State']).reset_index()\n",
        "ab.sort_values(by = 'Profit').reset_index(drop=True)\n",
        "ab"
      ]
    },
    {
      "cell_type": "markdown",
      "metadata": {
        "id": "uHzt22dZibDX"
      },
      "source": [
        "**Graph of Sales and Profit Co-Relation by State**"
      ]
    },
    {
      "cell_type": "code",
      "execution_count": null,
      "metadata": {
        "colab": {
          "background_save": true
        },
        "id": "ZG7vSs47JnnG"
      },
      "outputs": [],
      "source": [
        "fig = px.scatter(ab,x='Sales',y='Profit',color='State',title='Sales and Profit Co-Relation by State',size='Sales',hover_name='State')\n",
        "fig.show()\n",
        "\n",
        "# In the given code, size='Profit' is used to set the size of the data points in the scatter plot based on the value of the 'Profit' column. This means that data points with higher 'Profit' values will be represented by larger markers in the plot, while data points with lower 'Profit' values will be represented by smaller markers."
      ]
    },
    {
      "cell_type": "code",
      "execution_count": null,
      "metadata": {
        "colab": {
          "background_save": true
        },
        "id": "LWxfL6N2a0XR"
      },
      "outputs": [],
      "source": [
        "#this graph is the improve version of above graph\n",
        "#by this line - '''fig.update_traces(marker=dict(size=10))''' you can change the size of traces in graph\n",
        "fig = px.scatter(ab, x='Sales', y='Profit', color='State', \n",
        "                 title='Sales and Profit Co-Relation by State', \n",
        "                 hover_name='State', size_max=10)\n",
        "fig.update_traces(marker=dict(size=10))\n",
        "fig.show()\n",
        "\n"
      ]
    },
    {
      "cell_type": "markdown",
      "metadata": {
        "id": "NrhncnD_jFEA"
      },
      "source": [
        "Graph of Sales & Profit Co-Relation by City"
      ]
    },
    {
      "cell_type": "code",
      "execution_count": null,
      "metadata": {
        "colab": {
          "background_save": true
        },
        "id": "NN05Fjs4SNlk"
      },
      "outputs": [],
      "source": [
        "fig=px.scatter(ab,'Sales','Profit',color='State',title='Sales & Profit Co-Relation by City',\n",
        "               size='Sales', hover_name='City')\n",
        "fig.show()\n",
        "# now see how hover_name is imp. , jb hover_name = City daala to jitni cities hai utne point plot honge\n",
        "# it means--(hover_name) points plot krne k kaam aata hai and (color = state) jo right side me  states name\n",
        "# mark hote hai uske kaam aata hai...(by seeing these both chart you can see the diff.)"
      ]
    },
    {
      "cell_type": "code",
      "execution_count": null,
      "metadata": {
        "colab": {
          "background_save": true
        },
        "id": "5KEcGGrmYXA_"
      },
      "outputs": [],
      "source": [
        "# agar hum pichle code ki jagah ye code likhenge na to error dikhaega\n",
        "fig=px.scatter(ab,'Profit','Sales',color='State',title='Sales & Profit Co-Relation by City',\n",
        "               size='Profit', hover_name='City')\n",
        "fig.show()\n",
        "# becoz humne (size = 'Profit') likha hai, means jitna bada profit utna hi bada gole ka size\n",
        "# but agar profit -ve me hua to---tb gola to dikhega hi nhi(or kyunki hamara profit -ve me hai)...islie size = profit pe error dikhaega"
      ]
    },
    {
      "cell_type": "markdown",
      "metadata": {
        "id": "M-FgtKcvKb0K"
      },
      "source": [
        " Q--Is there any relation between No. of Customers & Sales?"
      ]
    },
    {
      "cell_type": "code",
      "execution_count": null,
      "metadata": {
        "colab": {
          "background_save": true
        },
        "id": "m5wC6WwtagrX"
      },
      "outputs": [],
      "source": [
        "zx = df.groupby(['State'])['Customer Name'].nunique().reset_index() # .reset_index() yha islie lga bcoz in next line we r renaming the column and rename func. only works in datafrme, or jb humne pehle code pe .nunique lgaya tha then zx is converted in series and to convert it into dataframe we use rset_index.   \n",
        "zx.rename(columns={'Customer Name':'No. Of Customers'},inplace=True)\n",
        "zy = df.groupby(['State'])['Sales'].sum()\n",
        "zxy = pd.merge(zx,zy,how='left',on=['State']).reset_index()# or yha reset_index islie lgaya bcoz plotly me graph tbhi kaam krta hai jb uske indexes ko reset kr dia jata hai...\n",
        "zxy"
      ]
    },
    {
      "cell_type": "code",
      "execution_count": null,
      "metadata": {
        "colab": {
          "background_save": true
        },
        "id": "cxUS2UpvKKHT"
      },
      "outputs": [],
      "source": [
        "fig=px.scatter(zxy,'No. Of Customers','Sales',color='State',title='No. of Customers & Sales Co-Relation',\n",
        "               hover_name='State',size='No. Of Customers')\n",
        "fig.show()"
      ]
    },
    {
      "cell_type": "markdown",
      "metadata": {
        "id": "LlK1gaWC7d1o"
      },
      "source": [
        "Q-- What is Total share of States in genrating profit?"
      ]
    },
    {
      "cell_type": "code",
      "execution_count": null,
      "metadata": {
        "colab": {
          "background_save": true
        },
        "id": "Iw9A8sl1UBj-"
      },
      "outputs": [],
      "source": [
        "wx = df.groupby(['State'])['Profit'].sum().reset_index()\n",
        "wx"
      ]
    },
    {
      "cell_type": "code",
      "execution_count": null,
      "metadata": {
        "colab": {
          "background_save": true
        },
        "id": "Awa3yf7VBF3W"
      },
      "outputs": [],
      "source": [
        "fig= px.pie(wx,names=wx['State'],values=wx['Profit'],title='Profit Output By State')\n",
        "fig.show()\n",
        "# here names and values these 2 things r there which means - pie chart ko banane k lie 2 chije chahiye hoti hai, 1st=name and 2nd = value, - kis chij ka name tum vha show krna chah rhe ho....so here we write -wx dataframe ka state column ko hum as a name lenge and pie chart me kis chij ki values daalna chahte ho, to hum isme wx dataFrme k profit column ko as values choose krte hai.\n",
        "\n",
        "# mene alag method se same pie chart niche b banaya hai."
      ]
    },
    {
      "cell_type": "code",
      "execution_count": null,
      "metadata": {
        "colab": {
          "background_save": true
        },
        "id": "hvtKjxFq_B2H"
      },
      "outputs": [],
      "source": [
        "fig = px.pie(wx,'State','Profit',color='State',title='Profit output by state',hover_name='State')\n",
        "fig.show()\n",
        "# hover name is used to add extra information to graph when we put pointer on it.\n",
        "# here instead of using names and values, we directly use columns name-- state and profit becoz it is by default that in first position- names will come and in second position values will come, it is like x and y axis. "
      ]
    },
    {
      "cell_type": "markdown",
      "metadata": {
        "id": "C7rA5B8VFrEH"
      },
      "source": [
        "Q--. What is the share of each states in genrating sales for wallmart?"
      ]
    },
    {
      "cell_type": "code",
      "execution_count": null,
      "metadata": {
        "colab": {
          "background_save": true
        },
        "id": "RPTFX87VFxhC"
      },
      "outputs": [],
      "source": [
        " wy = df.groupby('State')['Sales'].sum().reset_index()\n",
        " wy"
      ]
    },
    {
      "cell_type": "code",
      "execution_count": null,
      "metadata": {
        "colab": {
          "background_save": true
        },
        "id": "1XPq3QCMN_DO"
      },
      "outputs": [],
      "source": [
        "fig = px.pie(wy,'State','Sales',title='Sales output by each state',hover_name='State')\n",
        "fig.show()"
      ]
    },
    {
      "cell_type": "markdown",
      "metadata": {
        "id": "nhgVqBNQPDv6"
      },
      "source": [
        "California has the biggest share and genrates 63% of wallmart's revennue. Washington stand 2nd with contribution of 19.1%."
      ]
    },
    {
      "cell_type": "markdown",
      "metadata": {
        "id": "VTAoS2brQuWR"
      },
      "source": [
        "Q--. What is the share of each state in terms of footfall?    ...# footfall means how many customers  came into wallmart"
      ]
    },
    {
      "cell_type": "code",
      "execution_count": null,
      "metadata": {
        "colab": {
          "background_save": true
        },
        "id": "wzQ1wENPOzI0"
      },
      "outputs": [],
      "source": [
        "wz = df.groupby('State')['Customer Name'].nunique().reset_index()\n",
        "wz.rename(columns={'Customer Name':'No. of unique Customers'},inplace=True)\n",
        "wz"
      ]
    },
    {
      "cell_type": "code",
      "execution_count": null,
      "metadata": {
        "colab": {
          "background_save": true
        },
        "id": "SBtGl2ekR43c"
      },
      "outputs": [],
      "source": [
        "fig = px.pie(wz,'State','No. of unique Customers',title= 'footfall per State',hover_name='State')\n",
        "fig.show()"
      ]
    },
    {
      "cell_type": "markdown",
      "metadata": {
        "id": "p7uTFAYPU-TF"
      },
      "source": [
        "California is the 1st in the terms of footfall and has 61.5% of total footfall in wallmart."
      ]
    },
    {
      "cell_type": "code",
      "execution_count": null,
      "metadata": {
        "colab": {
          "background_save": true
        },
        "id": "8D0xyuRviMhj"
      },
      "outputs": [],
      "source": [
        "cd= df.groupby(['State', 'City'])['Customer Name'].nunique()\n",
        "\n",
        "# Find the city with the highest number of customers in each state\n",
        "best_cities = cd.groupby('State').nlargest()\n",
        "best_cities\n",
        "# .nlargest() method will not work in dataframe, it only works in series object....so if u write .reset_index() in 'cd' vaali line -it will gives u error. "
      ]
    },
    {
      "cell_type": "code",
      "execution_count": null,
      "metadata": {
        "colab": {
          "background_save": true
        },
        "id": "W2YHHtr4wmTl"
      },
      "outputs": [],
      "source": [
        "cd= df.groupby(['State', 'City'])['Customer Name'].nunique()\n",
        "\n",
        "# Find the city with the highest number of customers in each state\n",
        "best_cities = cd.groupby('State').nlargest(1).reset_index(level=1, drop=True)\n",
        "best_cities\n"
      ]
    },
    {
      "cell_type": "code",
      "execution_count": null,
      "metadata": {
        "colab": {
          "background_save": true
        },
        "id": "bu30ETkrx27w"
      },
      "outputs": [],
      "source": [
        "best_cities = df.groupby(['State', 'City'])['Customer Name'].nunique().reset_index()\n",
        "idx = best_cities.groupby('State')['Customer Name'].idxmax()\n",
        "best_cities.loc[idx, ['State', 'City']]\n"
      ]
    },
    {
      "cell_type": "code",
      "execution_count": null,
      "metadata": {
        "colab": {
          "background_save": true
        },
        "id": "RVuIbxCFy-Zb"
      },
      "outputs": [],
      "source": [
        "best_cities = df.groupby(['State', 'City'])['Customer Name'].nunique().reset_index()\n",
        "idx = best_cities.groupby('State')['Customer Name'].idxmax()\n",
        "result = best_cities.loc[idx, ['State', 'City', 'Customer Name']].reset_index(drop=True)\n",
        "result\n"
      ]
    },
    {
      "cell_type": "code",
      "execution_count": null,
      "metadata": {
        "colab": {
          "background_save": true
        },
        "id": "Qyvk9yk3l-zx"
      },
      "outputs": [],
      "source": [
        "# i write this code, but this code is for to see how .size() and .nlargest() method works. \n",
        "#counts_by_state = df.groupby(['State', 'City']).size().groupby('State').nlargest(1)\n",
        "\n",
        "#print(counts_by_state) "
      ]
    },
    {
      "cell_type": "code",
      "execution_count": null,
      "metadata": {
        "colab": {
          "background_save": true
        },
        "id": "YSdCivAvmeKl"
      },
      "outputs": [],
      "source": [
        "\n",
        "\n"
      ]
    },
    {
      "cell_type": "code",
      "execution_count": null,
      "metadata": {
        "colab": {
          "background_save": true
        },
        "id": "bOen7SR4VARk"
      },
      "outputs": [],
      "source": [
        "#m['Customers'].nlargest(10)"
      ]
    },
    {
      "cell_type": "markdown",
      "metadata": {
        "id": "XX3f8tthZUUh"
      },
      "source": [
        "Q--.In each State which is the best performing city in term of no. of customers?"
      ]
    },
    {
      "cell_type": "code",
      "execution_count": null,
      "metadata": {
        "colab": {
          "background_save": true
        },
        "id": "1Yk3Klrh5JEY"
      },
      "outputs": [],
      "source": [
        "xs = df.groupby(['State','City'])['Customer Name'].nunique().reset_index()\n",
        "es = xs.groupby(['State'])['Customer Name'].idxmax()\n",
        "result = xs.loc[es]\n",
        "result"
      ]
    },
    {
      "cell_type": "code",
      "execution_count": null,
      "metadata": {
        "colab": {
          "background_save": true
        },
        "id": "ZhQpKNnZ5J8a"
      },
      "outputs": [],
      "source": [
        "fig = px.bar(result,'State','Customer Name',color='State',title='\"Best Performing Cities by Number of Customers per State\"')\n",
        "fig.show()"
      ]
    },
    {
      "cell_type": "code",
      "execution_count": null,
      "metadata": {
        "colab": {
          "background_save": true
        },
        "id": "Myy1nc0coe7w"
      },
      "outputs": [],
      "source": [
        "# now find top 10 customers which generated highest profit"
      ]
    },
    {
      "cell_type": "code",
      "execution_count": null,
      "metadata": {
        "colab": {
          "background_save": true
        },
        "id": "hWxBeIan-xAC"
      },
      "outputs": [],
      "source": [
        "\n",
        "cv=df.groupby('Customer Name')['Profit'].sum()\n",
        "yv=df.groupby(['Customer Name'])['Quantity'].sum()\n",
        "iv=df.groupby(['Customer Name'])['Sales'].sum()\n",
        "qv = pd.merge(pd.merge(cv,yv,how='left',on='Customer Name'),iv,how='left',on='Customer Name')\n",
        "qv\n",
        "# hum keval customer name par merge or groupby nhi kr skte becoz koi baar aisa hota hai ki alag alag states me same naam or caste k 2 persons ho skte hai...islie ye code shi nhi hai 2nd vaala code shi hai."
      ]
    },
    {
      "cell_type": "code",
      "execution_count": null,
      "metadata": {
        "colab": {
          "background_save": true
        },
        "id": "cL-FZZ96wYT4"
      },
      "outputs": [],
      "source": []
    },
    {
      "cell_type": "code",
      "execution_count": null,
      "metadata": {
        "colab": {
          "background_save": true
        },
        "id": "shKjg46r64O6"
      },
      "outputs": [],
      "source": [
        "cv=df.groupby(['State','Customer Name'])['Profit'].sum()\n",
        "yv=df.groupby(['State','Customer Name'])['Quantity'].sum()\n",
        "iv=df.groupby(['State','Customer Name'])['Sales'].sum()\n",
        "qv=pd.merge(pd.merge(cv,yv,how='left',on=['State','Customer Name']),iv,how='left',on=['State','Customer Name'])\n",
        "#qv.sort_values(by='Customer Name')  -- to aapko ye pta chalega ki ek naam k 2 persons b hai alag alag states me.\n",
        "qv\n",
        "#  in dono code ko jb aap run kroge to 1st set of code me 686 rows dega and 2nd set of code me arnd 2200 rows hongi or jb merge hme on=customer name pe hi krna hai to state column ho ya na ho usse to koi farak pdna nhi chahiye... but this 2nd code is right"
      ]
    },
    {
      "cell_type": "code",
      "execution_count": null,
      "metadata": {
        "colab": {
          "background_save": true
        },
        "id": "eivFTNoY8siL"
      },
      "outputs": [],
      "source": [
        "cv = df.groupby(['State','Customer Name'])['Profit'].sum().reset_index()# yha pe reset_index()-toconvert into dataframe\n",
        "\n",
        "cv = cv.sort_values(by='Profit',ascending=False).reset_index().head(10)\n",
        "cv\n",
        "# you can get top 10 customers by this code also and by nlargest also which is written in next code."
      ]
    },
    {
      "cell_type": "code",
      "execution_count": null,
      "metadata": {
        "colab": {
          "background_save": true
        },
        "id": "G6MTE_Dp_7Z7"
      },
      "outputs": [],
      "source": [
        "xx = qv.nlargest(10,'Profit')\n",
        "xx.reset_index(inplace=True) # or assign reset_index() to a variable\n",
        "xx"
      ]
    },
    {
      "cell_type": "markdown",
      "metadata": {
        "id": "KfRoS3-lByT1"
      },
      "source": [
        " Q--What 10 Customers have genrated us the most Profit?"
      ]
    },
    {
      "cell_type": "code",
      "execution_count": null,
      "metadata": {
        "colab": {
          "background_save": true
        },
        "id": "vh9WgodnATL5"
      },
      "outputs": [],
      "source": [
        "fig=px.bar(xx,'Customer Name','Profit',color='Customer Name',title= 'Top 10 most profitable customer')\n",
        "fig.show()"
      ]
    },
    {
      "cell_type": "markdown",
      "metadata": {
        "id": "_g5JTHWznPU_"
      },
      "source": [
        "Q--In each state which is the top customer in terms of profit?"
      ]
    },
    {
      "cell_type": "code",
      "execution_count": null,
      "metadata": {
        "colab": {
          "background_save": true
        },
        "id": "QcOG8XnkCp7p"
      },
      "outputs": [],
      "source": [
        "''' imp information'''\n",
        "#top_cs = df.groupby(['State','Sales'])['Profit'].sum().reset_index()\n",
        "#top_cs=top_cs.groupby(['State']).idxmax()\n",
        "#top_cs\n",
        "# idxmax() method tbhi lgega jb kewal ek column ho jisme numerical value ho...in this there is 2 numerical values therefore it gives us wrong answer"
      ]
    },
    {
      "cell_type": "code",
      "execution_count": null,
      "metadata": {
        "colab": {
          "background_save": true
        },
        "id": "XaVvEzWyqtgm"
      },
      "outputs": [],
      "source": [
        "top_cs = df.groupby(['State','Customer Name'])['Profit'].sum().reset_index()\n",
        "max_idx=top_cs.groupby(['State'])['Profit'].idxmax()\n",
        "max_value=top_cs.loc[max_idx].reset_index()\n",
        "max_value"
      ]
    },
    {
      "cell_type": "markdown",
      "metadata": {
        "id": "NTE9XrZf0q8Y"
      },
      "source": [
        "Q--In each state which is the top customer in terms of profit?"
      ]
    },
    {
      "cell_type": "code",
      "execution_count": null,
      "metadata": {
        "colab": {
          "background_save": true
        },
        "id": "-KKmNGvFyd9N"
      },
      "outputs": [],
      "source": [
        "fig= px.bar(max_value,'State','Profit',color='State',hover_name='Customer Name')\n",
        "fig.show()\n",
        "# hover_name-- gives you or adds  extra information on graphs, when you click on the ars of the data"
      ]
    },
    {
      "cell_type": "markdown",
      "metadata": {
        "id": "pbzDkpwk1H1z"
      },
      "source": [
        "Q--. Which Top 10 customers has caused the most losses to us?"
      ]
    },
    {
      "cell_type": "code",
      "execution_count": null,
      "metadata": {
        "colab": {
          "background_save": true
        },
        "id": "nUS-1eK65Tnh"
      },
      "outputs": [],
      "source": [
        "most_losses = df.groupby(['State','City','Customer Name'])['Profit'].sum().reset_index()\n",
        "most_losses = most_losses.sort_values(by='Profit', ascending=True).head(10).reset_index()\n",
        "most_losses = most_losses.rename(columns={'Profit':'Loss'})\n",
        "most_losses\n",
        "# In series 'by' parameter not works in sort_values, so you should apply reset_index (in first line)by this it converts into dataframe then you can able to apply sort_values.\n"
      ]
    },
    {
      "cell_type": "code",
      "execution_count": null,
      "metadata": {
        "colab": {
          "background_save": true
        },
        "id": "WvAlSKPaalOh"
      },
      "outputs": [],
      "source": [
        "fig=px.bar(most_losses,'Customer Name','Loss',color='Customer Name',title= 'Top 10 losses in Wallmart',hover_name='City')\n",
        "fig.show()"
      ]
    },
    {
      "cell_type": "markdown",
      "metadata": {
        "id": "VkUYCPTveVNJ"
      },
      "source": [
        "Q-- In each state which is the Top customer in terms of losess"
      ]
    },
    {
      "cell_type": "code",
      "execution_count": null,
      "metadata": {
        "colab": {
          "background_save": true
        },
        "id": "0CF7xAIKdJLX"
      },
      "outputs": [],
      "source": [
        "dp = df.groupby(['State','City','Customer Name'])['Profit'].sum().reset_index()\n",
        "\n",
        "sp=dp.sort_values(by='Profit',ascending = True)\n",
        "pdd = sp.groupby('State')['Profit'].idxmin()\n",
        "result_2 = sp.loc[pdd]\n",
        "result_2= result_2.rename(columns={'Profit':'Loss'})\n",
        "result_2\n",
        "# as we use idxmax- to get index of max value, - and -same we can use idxmin- to get index of min value "
      ]
    },
    {
      "cell_type": "code",
      "execution_count": null,
      "metadata": {
        "colab": {
          "background_save": true
        },
        "id": "1VTmsmkUgTCc"
      },
      "outputs": [],
      "source": [
        "fig = px.bar(result_2,'State','Loss',color='State',hover_name='Customer Name')\n",
        "fig.show()"
      ]
    },
    {
      "cell_type": "markdown",
      "metadata": {
        "id": "1Kt9YZTP3rff"
      },
      "source": [
        "Monthly Sales over months of all years ?"
      ]
    },
    {
      "cell_type": "code",
      "execution_count": null,
      "metadata": {
        "colab": {
          "background_save": true
        },
        "id": "pK2gx5X12wJy"
      },
      "outputs": [],
      "source": [
        "monthly_sales = df.groupby(pd.Grouper(key='Order Date', freq='M'))['Sales'].sum()\n",
        "#monthly_sales_growth = monthly_sales.pct_change()\n",
        "monthly_sales_growth=pd.DataFrame(monthly_sales_growth)\n",
        "monthly_sales_growth\n",
        "# this code if u want sales in percentage and ask this code from chat gpt  it will explain u more clearly."
      ]
    },
    {
      "cell_type": "code",
      "execution_count": null,
      "metadata": {
        "colab": {
          "background_save": true
        },
        "id": "srizaCeNfhkp"
      },
      "outputs": [],
      "source": [
        "monthly_sales = df.groupby(pd.Grouper(key='Order Date', freq='M'))['Sales'].sum()\n",
        "#monthly_sales = monthly_sales.reset_index()\n",
        "#monthly_sales = monthly_sales.rename(columns={'Sales': 'Total Sales'})\n",
        "monthly_sales\n",
        "# and this code gives u total sales of each month.\n"
      ]
    }
  ],
  "metadata": {
    "colab": {
      "provenance": [],
      "authorship_tag": "ABX9TyPgHZPYhfA1GgN8iiX5WGgO",
      "include_colab_link": true
    },
    "kernelspec": {
      "display_name": "Python 3",
      "name": "python3"
    },
    "language_info": {
      "name": "python"
    }
  },
  "nbformat": 4,
  "nbformat_minor": 0
}